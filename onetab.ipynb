{
  "nbformat": 4,
  "nbformat_minor": 0,
  "metadata": {
    "colab": {
      "name": "onetab.ipynb",
      "provenance": [],
      "collapsed_sections": [],
      "toc_visible": true
    },
    "kernelspec": {
      "name": "python3",
      "display_name": "Python 3"
    }
  },
  "cells": [
    {
      "cell_type": "code",
      "metadata": {
        "id": "l1YE2oci1XI6",
        "colab_type": "code",
        "outputId": "aaf9992c-e858-40aa-9305-07b2b659d7ee",
        "colab": {
          "base_uri": "https://localhost:8080/",
          "height": 370
        }
      },
      "source": [
        "c1 = 0xAEDE0273C4C0DA3477F919018A05DA71A2530F5A0020E4E0ACA80FF2DE\n",
        "c2 = 0xA8C80426C2DEC16D31F90D1497129475A45447561D74EEF1B8BF0FFCDC\n",
        "c3 = 0xA9D30426D3C7CB202EB8050E9717C734A5484A13126CE0FDABA212FBDF\n",
        "c4 = 0xB49B166FDAC58E2A25F90A159914D134B84E0F551677A7FFB6A512FBC1\n",
        "c5 = 0xB49B126ED7C5C26D20EA07149D40C771B2555D565373E8F4ADBC07E1D7\n",
        "c6 = 0xB3DE1763C489DC2822EB0B40970ED134A54942565370E6F6F9A003EAC1\n",
        "\n",
        "# chr() hexa to chars\n",
        "# m1 xor m2 \n",
        "#  there is alot of 000 int the message which mean there are words that are reused\n",
        "mxorArr = []\n",
        "element_to_mxorm = []\n",
        "arr = [c1, c2, c3, c4, c5, c6]\n",
        "for i,mi in enumerate(arr):\n",
        "  for j,mj in enumerate(arr[i:]):\n",
        "    if(i!= i+j):\n",
        "      mm = mi^mj\n",
        "      mxorArr.append(mm)\n",
        "      element_to_mxorm.append(f'm{i} XOR m{j+i}')\n",
        "      print(f'm{i} XOR m{j+i} = {hex(mm)}')\n",
        "  print()\n",
        "\n"
      ],
      "execution_count": 0,
      "outputs": [
        {
          "output_type": "stream",
          "text": [
            "m0 XOR m1 = 0x6160655061e1b59460014151d174e040607480c1d540a111417000e02\n",
            "m0 XOR m2 = 0x70d06551707111459411c0f1d121d45071b4549124c041d070a1d0901\n",
            "m0 XOR m3 = 0x1a45141c1e05541e5200131413110b451a1d000f1657431f1a0d1d091f\n",
            "m0 XOR m4 = 0x1a45101d1305185957131e1517451d001006520c53530c140114081309\n",
            "m0 XOR m5 = 0x1d0015100049061c551212411d0b0b45071a4d0c5350021655080c181f\n",
            "\n",
            "m1 XOR m2 = 0x11b000011190a4d1f41081a00055341011c0d450f180e0c131d1d0703\n",
            "m1 XOR m3 = 0x1c531249181b4f47140007010e0645411c1a48030b03490e0e1a1d071d\n",
            "m1 XOR m4 = 0x1c531648151b030011130a000a52530416011a004e0706051503081d0b\n",
            "m1 XOR m5 = 0x1b16134506571d4513120654001c4541011d05004e040807411f0c161d\n",
            "\n",
            "m2 XOR m3 = 0x1d4812490902450a0b410f1b0e0316001d064546041b47021d0700001e\n",
            "m2 XOR m4 = 0x1d4816480402094d0e52021a0a570045171d1745411f0809061e151a08\n",
            "m2 XOR m5 = 0x1a0d1345174e17080c530e4e0019160000010845411c060b520211111e\n",
            "\n",
            "m3 XOR m4 = 0x4010d004c4705130d01045416450a1b520345044f0b1b19151a16\n",
            "m3 XOR m5 = 0x745010c1e4c5202071201550e1a00001d074d03450741094f05111100\n",
            "\n",
            "m4 XOR m5 = 0x745050d134c1e4502010c540a4e1645171c1f0000030e02541c040b16\n",
            "\n",
            "\n"
          ],
          "name": "stdout"
        }
      ]
    },
    {
      "cell_type": "code",
      "metadata": {
        "id": "j7WHACEQFpwM",
        "colab_type": "code",
        "outputId": "c2b35e5a-4658-4c2f-d8b3-3088acb8fcd8",
        "colab": {
          "base_uri": "https://localhost:8080/",
          "height": 34
        }
      },
      "source": [
        "print(c1, hex(c1))"
      ],
      "execution_count": 0,
      "outputs": [
        {
          "output_type": "stream",
          "text": [
            "4714411057619825436425825517463810399224083285014974139796693617472222 0xaede0273c4c0da3477f919018a05da71a2530f5a0020e4e0aca80ff2de\n"
          ],
          "name": "stdout"
        }
      ]
    },
    {
      "cell_type": "code",
      "metadata": {
        "id": "B_dZgu9vGJX1",
        "colab_type": "code",
        "outputId": "f650e696-1612-456e-9ff5-55592a2144d9",
        "colab": {
          "base_uri": "https://localhost:8080/",
          "height": 50
        }
      },
      "source": [
        "def hexStringtoWords(h):\n",
        "  if(type(h) == int):\n",
        "    h = hex(h)[2:]\n",
        "  letters = []\n",
        "  for i in range(0,len(h),2):\n",
        "    letters.append(chr(int(h[i:i+2],16)))\n",
        "  return ''.join(letters)\n",
        "\n",
        "\n",
        "\n",
        "print(hexStringtoWords(0x6160655061e1b59460014151d174e040607480c1d540a111417000e02))\n",
        "print(hexStringtoWords(164079155304582668457912730488801875172117382474705510036955490946562).encode())\n"
      ],
      "execution_count": 0,
      "outputs": [
        {
          "output_type": "stream",
          "text": [
            "a`ePaáµ`\u0001AQÑtà@`tÁÕ@¡\u0011Ap\u0000à\u0002\n",
            "b'a`ePa\\xc3\\xa1\\xc2\\xb5\\xc2\\x94`\\x01AQ\\xc3\\x91t\\xc3\\xa0@`t\\xc2\\x80\\xc3\\x81\\xc3\\x95@\\xc2\\xa1\\x11Ap\\x00\\xc3\\xa0\\x02'\n"
          ],
          "name": "stdout"
        }
      ]
    },
    {
      "cell_type": "code",
      "metadata": {
        "id": "IMlJfGO8K2iI",
        "colab_type": "code",
        "outputId": "9aa33022-231f-4ee1-807e-c6736f0d7518",
        "colab": {
          "base_uri": "https://localhost:8080/",
          "height": 269
        }
      },
      "source": [
        "\n",
        "mxorArr"
      ],
      "execution_count": 0,
      "outputs": [
        {
          "output_type": "execute_result",
          "data": {
            "text/plain": [
              "[164079155304582668457912730488801875172117382474705510036955490946562,\n",
              " 190091291452862081117295239611067077751928496844049852497773620693249,\n",
              " 708233434176542634476072600559144723608234939138208857435556158441759,\n",
              " 708231790209869513663425940300509386385828245264188014720729230086921,\n",
              " 781847117959093738598842887158564349414446891362570640632255859136543,\n",
              " 29803378649526398217941862438574929872768802448745695885019521550083,\n",
              " 763626949117013410093234807374166913511915912230980712705278651205405,\n",
              " 763628592995794075911777804137827584003981134666086537219661418208523,\n",
              " 730243357494946509859602429633149545888967483451706359476698890376733,\n",
              " 789428460481039415941773297750871757371206015033930615430233370656798,\n",
              " 789430104347267462425770877532388544541871679121622842662372467087880,\n",
              " 702335600309268308009846394840950713253892231675203544314066146234654,\n",
              " 1647193104993950548422549151490233909246668518391584884654414358,\n",
              " 195986605644765207291781717531089400643276316055936023710850394165504,\n",
              " 195988252687207498117324613190932039141232792392294771308357719690006]"
            ]
          },
          "metadata": {
            "tags": []
          },
          "execution_count": 94
        }
      ]
    },
    {
      "cell_type": "code",
      "metadata": {
        "colab_type": "code",
        "outputId": "41f640f0-2dbf-44e6-f4b3-fdd6604d6634",
        "id": "GD00ubXDXzKU",
        "colab": {
          "base_uri": "https://localhost:8080/",
          "height": 34
        }
      },
      "source": [
        "# encoded array of cyphers\n",
        "mxorArrhex = [hexStringtoWords(i).encode() for i in mxorArr]\n",
        "type(mxorArr[1]) # int\n",
        "type(mxorArrhex[0]) # str\n",
        "# hex() returns a string can't be used in bit wise obration \n",
        "mxorArrhex[0]"
      ],
      "execution_count": 0,
      "outputs": [
        {
          "output_type": "execute_result",
          "data": {
            "text/plain": [
              "b'a`ePa\\xc3\\xa1\\xc2\\xb5\\xc2\\x94`\\x01AQ\\xc3\\x91t\\xc3\\xa0@`t\\xc2\\x80\\xc3\\x81\\xc3\\x95@\\xc2\\xa1\\x11Ap\\x00\\xc3\\xa0\\x02'"
            ]
          },
          "metadata": {
            "tags": []
          },
          "execution_count": 95
        }
      ]
    },
    {
      "cell_type": "code",
      "metadata": {
        "id": "r3DL6HkAEojV",
        "colab_type": "code",
        "colab": {}
      },
      "source": [
        "guessword = ['the', 'hello']\n",
        "bigrams = [ i.encode() for i in \"th, he, in, en, nt, re, er, an, ti, es, on, at, se, nd, or, ar, al, te, co, de, to, ra, et, ed, it, sa, em, ro\".split(', ')]\n",
        "guesswordhex = [i.encode() for i in guessword]\n",
        "\n",
        "# guesswordhex\n"
      ],
      "execution_count": 0,
      "outputs": []
    },
    {
      "cell_type": "code",
      "metadata": {
        "id": "eceRog-pOJmI",
        "colab_type": "code",
        "outputId": "de12205b-bc9d-4154-b21e-83f421ec3c2e",
        "colab": {
          "base_uri": "https://localhost:8080/",
          "height": 34
        }
      },
      "source": [
        "def xor(word1, word2):\n",
        "  'takes two byte strings xor each char'\n",
        "  arr = []\n",
        "  for i, j in zip(word1,word2):\n",
        "    arr.append(chr(i^j))\n",
        "  return ''.join(arr)\n",
        "\n",
        "xor(b'hello',b'aloha')"
      ],
      "execution_count": 0,
      "outputs": [
        {
          "output_type": "execute_result",
          "data": {
            "text/plain": [
              "'\\t\\t\\x03\\x04\\x0e'"
            ]
          },
          "metadata": {
            "tags": []
          },
          "execution_count": 97
        }
      ]
    },
    {
      "cell_type": "code",
      "metadata": {
        "id": "e4WOZ7Uk7lAH",
        "colab_type": "code",
        "outputId": "3ac5a87e-9fd3-4604-9e13-51214b34de14",
        "colab": {
          "base_uri": "https://localhost:8080/",
          "height": 118
        }
      },
      "source": [
        "l = xor(b'hello',b'hello')\n",
        "print(l)\n",
        "for i in l:\n",
        "  print(i ,i.encode())\n"
      ],
      "execution_count": 0,
      "outputs": [
        {
          "output_type": "stream",
          "text": [
            "\u0000\u0000\u0000\u0000\u0000\n",
            "\u0000 b'\\x00'\n",
            "\u0000 b'\\x00'\n",
            "\u0000 b'\\x00'\n",
            "\u0000 b'\\x00'\n",
            "\u0000 b'\\x00'\n"
          ],
          "name": "stdout"
        }
      ]
    },
    {
      "cell_type": "code",
      "metadata": {
        "id": "WOWXVbbxRLZq",
        "colab_type": "code",
        "outputId": "04412102-daca-4800-c328-16ba8d452f4e",
        "colab": {
          "base_uri": "https://localhost:8080/",
          "height": 118
        }
      },
      "source": [
        "# seeing what bytes are represented as\n",
        "for i in b'hello':\n",
        "  print(i, hex(i),chr(i))\n",
        "(b'hello'[0] ^ b'day'[0])\n"
      ],
      "execution_count": 0,
      "outputs": [
        {
          "output_type": "stream",
          "text": [
            "104 0x68 h\n",
            "101 0x65 e\n",
            "108 0x6c l\n",
            "108 0x6c l\n",
            "111 0x6f o\n"
          ],
          "name": "stdout"
        },
        {
          "output_type": "execute_result",
          "data": {
            "text/plain": [
              "12"
            ]
          },
          "metadata": {
            "tags": []
          },
          "execution_count": 99
        }
      ]
    },
    {
      "cell_type": "code",
      "metadata": {
        "id": "OULHUdTBODhr",
        "colab_type": "code",
        "outputId": "34b9c291-bcfd-4941-9fd3-721e606234b8",
        "colab": {
          "base_uri": "https://localhost:8080/",
          "height": 101
        }
      },
      "source": [
        "x = b'hello'\n",
        "for k in range(len(x)):\n",
        "  print(x[k:] + x[:k])\n",
        "  \n"
      ],
      "execution_count": 0,
      "outputs": [
        {
          "output_type": "stream",
          "text": [
            "b'hello'\n",
            "b'elloh'\n",
            "b'llohe'\n",
            "b'lohel'\n",
            "b'ohell'\n"
          ],
          "name": "stdout"
        }
      ]
    },
    {
      "cell_type": "code",
      "metadata": {
        "id": "shVcgvOqLNPS",
        "colab_type": "code",
        "colab": {}
      },
      "source": [
        "\n",
        "def guesser(arr1, arr2):\n",
        "  'functioni that takes two array of bytes first is the xored array secdond is the array of guess words'\n",
        "  # array that holds other arrays\n",
        "  upperarray = []\n",
        "  \n",
        "  \n",
        "  # to know which xored element is which \n",
        "  for i, m in enumerate(arr1):\n",
        "    # to know which word is from the guess word is used with this m xor m\n",
        "    middlearray = []\n",
        "    # for each element xor array we compare each element of guess words\n",
        "    for j, n in enumerate(arr2):\n",
        "      # for the size of each element in the guesser array we create len(element) elements of lower array compare this to create \n",
        "      # this creates a shifting effect for example on the bigger element resulting in lower number of sentences ex hellohellohello, ohellohellohell, lohellohellohel, ...\n",
        "      # array that holds len(an element of arr2)\n",
        "      lowerarray = []\n",
        "      for k in range(len(n)):\n",
        "        # x = 'hello' 'elloh' 'llohe' 'lohel' 'ohell' -> lower array contains those variation\n",
        "        x = n[k:] + n[:k]\n",
        "        fragment = []\n",
        "        for l in range(0,(len(m)-len(n)),len(n)):\n",
        "          # make a list to keep the comparison in (concatination is costly in terms of time)\n",
        "          fragment.append( xor( m[l:l+len(n)] , x) )\n",
        "        # joins the comparisons into one sentence and append it to lowerarray\n",
        "        lowerarray.append(''.join(fragment))\n",
        "      middlearray.append(lowerarray)\n",
        "    upperarray.append(middlearray)\n",
        "\n",
        "\n",
        "  return upperarray\n",
        "\n",
        "guessed = guesser(mxorArrhex, guesswordhex)\n",
        "\n"
      ],
      "execution_count": 0,
      "outputs": []
    },
    {
      "cell_type": "code",
      "metadata": {
        "id": "aj0lnk-jWf90",
        "colab_type": "code",
        "outputId": "997e3cdc-9da5-4cf2-a2a1-b4e532de4d17",
        "colab": {
          "base_uri": "https://localhost:8080/",
          "height": 1000
        }
      },
      "source": [
        "def printer(arr, guessword):\n",
        "  for i, l in enumerate(arr):\n",
        "    for j, m in enumerate(l):\n",
        "      for k, n in enumerate(m):\n",
        "        print(f'{element_to_mxorm[i]} word {guessword[j][k:]+guessword[j][:k]} :',n)\n",
        "\n",
        "printer(guessed, guessword)"
      ],
      "execution_count": 0,
      "outputs": [
        {
          "output_type": "stream",
          "text": [
            "m0 XOR m1 word the : \u0015\b\u0000$\t¦ÕªÐ¶ü\u0005u)4·ù\u0011·È%\u0014\u001c§ô«ä·ý%¶Ét5\u0018e\n",
            "m0 XOR m1 word het : \t\u0005\u00118\u0004·É§Áªñ\u0014i$%«ô\u0000«Å4\b\u0011¶è¦õ«ð4ªÄe)\u0015t\n",
            "m0 XOR m1 word eth : \u0004\u0014\r5\u0015«Ä¶Ý§à\bd59¦å\u001c¦Ô(\u0005\u0000ªå·é¦á(§Õy$\u0004h\n",
            "m0 XOR m1 word hello : \t\u0005\t<\u000e«Ä®Ù­ü\u0005m->«ô\u0018¯Ï(\u0005\u0018®ï«ä¯ù/ªÄ}-\u001f\n",
            "m0 XOR m1 word elloh : \u0004\f\t?\t¦Í®Úªñ\fm.9¦ý\u0018¬È%\f\u0018­è¦í¯ú(§Í}.\u0018\n",
            "m0 XOR m1 word llohe : \r\f\n",
            "8\u0004¯Í­Ý§ø\fn)4¯ý\u001b«Å,\f\u001bªå¯í¬ý%®Í~)\u0015\n",
            "m0 XOR m1 word lohel : \r\u000f\r5\r¯ÎªÐ®ø\u000fi$=¯þ\u001c¦Ì,\u000f\u001c§ì¯î«ð,®Îy$\u001c\n",
            "m0 XOR m1 word ohell : \u000e\b\u0000<\r¬É§Ù®û\bd-=¬ù\u0011¯Ì/\b\u0011®ì¬é¦ù,­Ét-\u001c\n",
            "m0 XOR m2 word the : \u0004«õ\u00119\u0015\u0005y ¶üt·è¦Å«ôU«ñ$\u0019§À<§åL¦ô)¦ä\u0018§Õ«õ\n",
            "m0 XOR m2 word het : \u0018¦ä\r4\u0004\u0019t1ªñe«å·Ù¦åI¦à8\u0014¶Ü1¶ùA·è$·ø\u0015¶É¦ä\n",
            "m0 XOR m2 word eth : \u0015·ø\u0000%\u0018\u0014e-§ày¦ô«Ô·ùD·ü5\u0005ªÑ ªôP«å5«õ\u0004ªÄ·ø\n",
            "m0 XOR m2 word hello : \u0018¦ü\t>\u0018\u0014})­üt¯ì¬Ù¦ýM¬ü5\u001d®Û<§ýH¬è$¯ü\u001fªÄ¯ü­\n",
            "m0 XOR m2 word elloh : \u0015¯ü\n",
            "9\u0015\u001d}*ªñ}¯ï«Ô¯ýN«ñ<\u001d­Ü1®ýK«å-¯ÿ\u0018§Í¯ÿª\n",
            "m0 XOR m2 word llohe : \u001c¯ÿ\r4\u001c\u001d~-§ø}¬è¦Ý¯þI¦ø<\u001eªÑ8®þL¦ì-¬ø\u0015®Í¬ø§\n",
            "m0 XOR m2 word lohel : \u001c¬ø\u0000=\u001c\u001ey ®ø~«å¯Ý¬ùD¯ø?\u0019§Ø8­ùA¯ì.«õ\u001c®Î«õ®\n",
            "m0 XOR m2 word ohell : \u001f«õ\t=\u001f\u0019t)®ûy¦ì¯Þ«ôM¯û8\u0014®Ø;ªôH¯ï)¦ü\u001c­É¦ü®\n",
            "m0 XOR m3 word the : n-qhv` v7t{qgyn1rxtgs#+znex\n",
            "m0 XOR m3 word het : r `t{q<{&hv`{t-ihjb?&krhi\n",
            "m0 XOR m3 word eth : 1|yjm1j:eg|vec nue{~27wyu\n",
            "m0 XOR m3 word hello : r xpqm1r>o{q}d-ql`~2/su\n",
            "m0 XOR m3 word elloh : )xsv`8r=hvx~c vqogs;/pr\n",
            "m0 XOR m3 word llohe : v){t{i8q:ex|yn)vrhjz;,w\n",
            "m0 XOR m3 word lohel : v*|yri;v7l{{tg)uuecz8+zv\n",
            "m0 XOR m3 word ohell : u-qprj<{>l||v}g*rxlcy?&sv\n",
            "m0 XOR m4 word the : n-ui{`l12gvpc-xtxc&d6'dqu|m\n",
            "m0 XOR m4 word het : r duvqp<#{{a ihur:i';i`iq|\n",
            "m0 XOR m4 word eth : 1xxgm}-?vj}r1uedn7x;6x|d``\n",
            "m0 XOR m4 word hello : r |q|m}5;|vp{)rhuj>c;6`xn\n",
            "m0 XOR m4 word elloh : )|r{`t58{{y{*ue|j=d6?`{i\n",
            "m0 XOR m4 word llohe : v)uvit6?vryx-xl|i:i??c|d\n",
            "m0 XOR m4 word lohel : v*xxiw12rz qln7`?<dqm\n",
            "m0 XOR m4 word ohell : u-uqjp<;q}r)qoxc>`<;ixm\n",
            "m0 XOR m5 word the : ihpdh,rt0fz$icn1o9d6$js!`i\n",
            "m0 XOR m5 word het : ueaxe=ny!zw5un-bn%i'8gb=mx\n",
            "m0 XOR m5 word eth : xt}ut!ch=wf)xc sr(x;5v~0|d\n",
            "m0 XOR m5 word hello : uey|o!cp9}z$qgd-bv!c;5nz:\n",
            "m0 XOR m5 word elloh : xlyh,jp:zw-qdc kv\"d6<ny=\n",
            "m0 XOR m5 word llohe : qlzxe%js=w~-rcn)ku%i?<m~0\n",
            "m0 XOR m5 word lohel : qo}ul%it0~~.ung)hr(`??js9\n",
            "m0 XOR m5 word ohell : rhp|l&ny9~})xgg*o!`<8gz9\n",
            "m1 XOR m2 word the : eªÕtit¶ø§Ð«ô·Üu¶é§Ôh0@xt·è¦à8¦Åªå·È¦õY¦å«õ\n",
            "m1 XOR m2 word het : y§Ähdeªõ¶Ì¦å«Ñdªä¶Èe!\\ue«å·ü5·Ù§ô«Å·éT·ù¦ä\n",
            "m1 XOR m2 word eth : t¶Øeuy§äªÁ·ù¦Àx§õªÅt=Qdy¦ô«ñ$«Ô¶è¦Ô«äE«ô·ø\n",
            "m1 XOR m2 word hello : y§Ülny§ü®Ë«ô¯Øªä®Ìo=Q|}¬è¦ø<¬Ù§ì¯Ï«ä]¯þ\n",
            "m1 XOR m2 word elloh : t®Üoit®ü­Ì¦ý¯Ûx§í®Ïh0X|~«å¯ø?«Ô®ì¬È¦í]¬ù\n",
            "m1 XOR m2 word llohe : }®ßhd}®ÿªÁ¯ý¬Üu®í­Èe9Xy¦ì¯û8¦Ý®ï«Å¯í^«ô\n",
            "m1 XOR m2 word lohel : }­Øem}­ø§È¯þ«Ñ|®îªÅl9[xt¯ì¬ü5¯Ý­è¦Ì¯îY¦ý\n",
            "m1 XOR m2 word ohell : ~ªÕlm~ªõ®È¬ù¦Ø|­é§Ìl:\\u}¯ï«ñ<¯Þªå¯Ì¬éT¯ý\n",
            "m1 XOR m3 word the : h;w=p~;/qtodzn 5t<knw!kzrx\n",
            "m1 XOR m3 word het : t6f!}o'\"`hbufc1)yn fk,zfi\n",
            "m1 XOR m3 word eth : y'z,ls*3|esikr-$hr-wcf=fknu\n",
            "m1 XOR m3 word hello : t6~%ws*+xoodbj*)yv$lcf%ba\n",
            "m1 XOR m3 word elloh : y?~&p~#+{hbmbi-$pv'kno%af\n",
            "m1 XOR m3 word llohe : p?}!}w#(|ekman -pu fgo&fk\n",
            "m1 XOR m3 word lohel : p<z,tw /qlknfc)-sr-ogl!kb\n",
            "m1 XOR m3 word ohell : s;w%tt'\"xlhikj).t$odk,bb\n",
            "m1 XOR m4 word the : h;s<}~whtgbe~:6p~dnh+sn`akm\n",
            "m1 XOR m4 word het : t6b pokee{otb7'lsure:ocq}f|\n",
            "m1 XOR m4 word eth : y'~-asftyv~ho&;abit&brmpw`\n",
            "m1 XOR m4 word hello : t6z$zsfl}|bef><lsmvo&bjiz\n",
            "m1 XOR m4 word elloh : y?z'}~ol~{olf=;azmuh+kjj}\n",
            "m1 XOR m4 word llohe : p?y pwooyvfle:6hznre\"kimp\n",
            "m1 XOR m4 word lohel : p<~-ywlhtfob7?hyil\"hn`y\n",
            "m1 XOR m4 word ohell : s;s$ytke}eho>?k~dvl!ociy\n",
            "m1 XOR m5 word the : o~v1n2i-vfn1tt 5ixqh+p`b5wi\n",
            "m1 XOR m5 word het : ssg-c#u gzc hy1)dime:lms)zx\n",
            "m1 XOR m5 word eth : ~b{ r?x1{wr<eh-$uu`t&a|o$kd\n",
            "m1 XOR m5 word hello : ss)i?x)}n1lp*)dqio&adk.\n",
            "m1 XOR m5 word elloh : ~z*n2q)|zc8ls-$mqjh+hdh)\n",
            "m1 XOR m5 word llohe : wz|-c;q*{wj8ot -mrme\"hgo$\n",
            "m1 XOR m5 word lohel : wy{ j;r-v~j;hy)-nu`l\"k`b-\n",
            "m1 XOR m5 word ohell : t~v)j8u ~i<ep).ixil!lmk-\n",
            "m2 XOR m3 word the : i w=ag1bn5g~zkstuc1.ao/gioe\n",
            "m2 XOR m3 word het : u-f!lv-o)joffbhxr-#ps\"vubt\n",
            "m2 XOR m3 word eth : x<z,}j ~c${skw~ein 2l~3jxsh\n",
            "m2 XOR m3 word hello : u-~%fj fg.g~boyhxj))l~+nr\n",
            "m2 XOR m3 word elloh : x$~&ag)fd)jwbl~eqj*.aw+mu\n",
            "m2 XOR m3 word llohe : q$}!ln)ec$cwakslqi-#hw(jx\n",
            "m2 XOR m3 word lohel : q'z,en*bn-ctffzlrn *ht/gq\n",
            "m2 XOR m3 word ohell : r w%em-og-`skozouc)*ks\"nq\n",
            "m2 XOR m4 word the : i s<lg}%k&j~?e1xc-$k`lrvp\n",
            "m2 XOR m4 word het : u-b ava(z:gnb2t-ri 5wm}n{a\n",
            "m2 XOR m4 word eth : x<~-pjl9f7vro#h cur1)z|acj}\n",
            "m2 XOR m4 word hello : u-z$kjl!b=jf;o-rq{*)zdei\n",
            "m2 XOR m4 word elloh : x$z'lge!a:gvf8h {qx-$sdfn\n",
            "m2 XOR m4 word llohe : q$y ane\"f7nve?e){r -sgac\n",
            "m2 XOR m4 word lohel : q'~-hnf%k>nub2l)xur)-p`lj\n",
            "m2 XOR m4 word ohell : r s$hma(b>mro;l*x{).wmej\n",
            "m2 XOR m5 word the : nev1+c`i'f+tqsthd|-$hnn&jt\n",
            "m2 XOR m5 word het : rhg-r:mx;k:h|bheu` 5tc:ge\n",
            "m2 XOR m5 word eth : y{ c&r|d6z&em~etim1)yrc7vy\n",
            "m2 XOR m5 word hello : rh)x&rd`<f+luyhemd*)yjg=\n",
            "m2 XOR m5 word elloh : a*+{dc;k\"lv~elmg-$pjd:\n",
            "m2 XOR m5 word llohe : va|-r\"{gd6b\"oqslln` -pic7\n",
            "m2 XOR m5 word lohel : vb{ {\"x`i?b!h|zloim)-snn>\n",
            "m2 XOR m5 word ohell : uev){!m`?a&euzohdd).tcg>\n",
            "m3 XOR m4 word the : 4x¦äl¦ð\u00184D«õd-$\u00108§ÕªÐT\\50«Õ¶Ù§Åªô%ªÄ\n",
            "m3 XOR m4 word het : (u·øa·ì\u0015%X¦äx 5\f5¶É§ÁHQ$,¦ÄªÔ¶Ù§å9§Õ\n",
            "m3 XOR m4 word eth : %d«õp«á\u00049U·øu1)\u0001$ªÄ¶ÝE@8!·Ø§ÅªÔ¶ù4¶É\n",
            "m3 XOR m4 word hello : (u¯ük«á\u001c=_«õ|).\f5®Í­ÝEX<+«Õ®Ý­Ù§ý=­\n",
            "m3 XOR m4 word elloh : %|¯ÿl¦è\u001c>X¦ü|*)\u0001<®ÎªÐLX?,¦Ü®ÞªÔ®ý>ª\n",
            "m3 XOR m4 word llohe : ,|¬øa¯è\u001f9U¯ü-$\b<­É§ÙL[8!¯Ü­Ù§Ý®þ9§\n",
            "m3 XOR m4 word lohel : ,«õh¯ë\u00184\\¯ÿx -\b?ªÄ®ÙO\\5(¯ßªÔ®Ý­ù4®\n",
            "m3 XOR m4 word ohell : /x¦üh¬ì\u0015=\\¬øu)-\u000b8§Í®ÚHQ<(¬Ø§Ý®Þªô=®\n",
            "m3 XOR m5 word the : \u00008u·é¦Ð«àTH\u0014T}5·É§Ôhd·ø\u0011·øQ$\u001cu¶ü¦Ä9t\n",
            "m3 XOR m5 word het : \u001c5d«ä·Ì¦ñHE\u0005Hp$«Ä¶Èeu«õ\u0000«õ@8\u0011dªñ·Ø4e\n",
            "m3 XOR m5 word eth : \u0011$x¦õ«Á·íET\u0019Ea8¦ÕªÅti¦ä\u001c¦ä\\5\u0000x§à«Õ%y\n",
            "m3 XOR m5 word hello : \u001c5|¯î«Á¯éOH\u0014Ly?«Ä®Ìoi¦ü\u0018¬øQ<\u0018ªñ¯Ü>\n",
            "m3 XOR m5 word elloh : \u0011<|¬é¦È¯êHE\u001dLz8¦Í®Ïhd¯ü\u001b«õX<\u001bx§ø¯ß9\n",
            "m3 XOR m5 word llohe : \u0018<«ä¯È¬íEL\u001dO}5¯Í­Èem¯ÿ\u001c¦üX?\u001cu®ø¬Ø4\n",
            "m3 XOR m5 word lohel : \u0018?x¦í¯Ë«àLL\u001eHp<¯ÎªÅlm¬ø\u0011¯ü[8\u0011|®û«Õ=\n",
            "m3 XOR m5 word ohell : \u001b8u¯í¬Ì¦éLO\u0019Ey<¬É§Ìln«õ\u0018¯ÿ\\5\u0018|­ü¦Ü=\n",
            "m4 XOR m5 word the : \u000085·ùQ·é¦Ð8Ed«à4ªÁ·É\u0001%\u0019¦õ«ÕthU·È@5«å4ªÔ\n",
            "m4 XOR m5 word het : \u001c5$«ô@«ä·Ì5Tx¦ñ(§Ð«Ä\u00109\u0014·é¦ÄheD«ÅQ)¦ô(§Å\n",
            "m4 XOR m5 word eth : \u0011$8¦å\\¦õ«Á$Hu·í%¶Ì¦Õ\f4\u0005«ä·ØetX¦ÔM$·è%¶Ù\n",
            "m4 XOR m5 word hello : \u001c5<¯þ\\¦í¯Ë8E|¯ê(§È¯Î\f4\u001d¯î«Õll_«ÅI-¬\n",
            "m4 XOR m5 word elloh : \u0011<<¬ùQ¯í¬Ì5L|¬í%®È¬É\u0001=\u001d¬é¦ÜloX¦ÌI.«\n",
            "m4 XOR m5 word llohe : \u0018<?«ôX¯î«Á<L«à,®Ë«Ä\b=\u001e«ä¯ÜohU¯ÌJ)¦\n",
            "m4 XOR m5 word lohel : \u0018?8¦ýX¬é¦È<Ox¦é,­Ì¦Í\b>\u0019¦í¯ßhe\\¯ÏM$¯\n",
            "m4 XOR m5 word ohell : \u001b85¯ý[«ä¯È?Hu¯é/ªÁ¯Í\u000b9\u0014¯í¬Øel\\¬È@-¯\n"
          ],
          "name": "stdout"
        }
      ]
    },
    {
      "cell_type": "code",
      "metadata": {
        "id": "FoD6B9P5eCMB",
        "colab_type": "code",
        "outputId": "76979017-d456-4a58-bd68-20daa1e7feee",
        "colab": {
          "base_uri": "https://localhost:8080/",
          "height": 84
        }
      },
      "source": [
        "# mxorm 11 from(the) word: time:\n",
        "guesser([mxorArrhex[11]],[b'time'])"
      ],
      "execution_count": 0,
      "outputs": [
        {
          "output_type": "execute_result",
          "data": {
            "text/plain": [
              "[[[\"nd~ c'zmx:c+tp{ethe 5ukn&k|t\",\n",
              "   's`v1~#r|e>k:itstilm1(qc\\x7f;ote',\n",
              "   \"whg,z+caa6z'm|bimd|,,yrb?gex\",\n",
              "   \"\\x7fyz(r:~ei'g#em\\x7fmeua($hof7vx|\"]]]"
            ]
          },
          "metadata": {
            "tags": []
          },
          "execution_count": 103
        }
      ]
    }
  ]
}
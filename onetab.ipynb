{
  "nbformat": 4,
  "nbformat_minor": 0,
  "metadata": {
    "colab": {
      "name": "onetab.ipynb",
      "provenance": [],
      "collapsed_sections": [],
      "authorship_tag": "ABX9TyO/b+nKKTwfSE7kWgesb83N",
      "include_colab_link": true
    },
    "kernelspec": {
      "name": "python3",
      "display_name": "Python 3"
    }
  },
  "cells": [
    {
      "cell_type": "markdown",
      "metadata": {
        "id": "view-in-github",
        "colab_type": "text"
      },
      "source": [
        "<a href=\"https://colab.research.google.com/github/kataya1/onetabMultCypherKeyDecryption/blob/master/onetab.ipynb\" target=\"_parent\"><img src=\"https://colab.research.google.com/assets/colab-badge.svg\" alt=\"Open In Colab\"/></a>"
      ]
    },
    {
      "cell_type": "code",
      "metadata": {
        "id": "l1YE2oci1XI6",
        "colab_type": "code",
        "outputId": "4baf447e-d019-4f98-cbcb-25de124f18b1",
        "colab": {
          "base_uri": "https://localhost:8080/",
          "height": 370
        }
      },
      "source": [
        "c1 = 0xAEDE0273C4C0DA3477F919018A05DA71A2530F5A0020E4E0ACA80FF2DE\n",
        "c2 = 0xA8C80426C2DEC16D31F90D1497129475A45447561D74EEF1B8BF0FFCDC\n",
        "c3 = 0xA9D30426D3C7CB202EB8050E9717C734A5484A13126CE0FDABA212FBDF\n",
        "c4 = 0xB49B166FDAC58E2A25F90A159914D134B84E0F551677A7FFB6A512FBC1\n",
        "c5 = 0xB49B126ED7C5C26D20EA07149D40C771B2555D565373E8F4ADBC07E1D7\n",
        "c6 = 0xB3DE1763C489DC2822EB0B40970ED134A54942565370E6F6F9A003EAC1\n",
        "\n",
        "# chr() hexa to chars\n",
        "# m1 xor m2 \n",
        "#  there is alot of 000 int the message which mean there are words that are reused\n",
        "mxorArr = []\n",
        "arr = [c1, c2, c3, c4, c5, c6]\n",
        "for i,mi in enumerate(arr):\n",
        "  for j,mj in enumerate(arr[i:]):\n",
        "    if(i!= i+j):\n",
        "      mm = mi^mj\n",
        "      mxorArr.append(mm)\n",
        "      print(f'm{i} XOR m{j+i} = {hex(mm)}')\n",
        "  print()\n",
        "\n"
      ],
      "execution_count": 69,
      "outputs": [
        {
          "output_type": "stream",
          "text": [
            "m0 XOR m1 = 0x6160655061e1b59460014151d174e040607480c1d540a111417000e02\n",
            "m0 XOR m2 = 0x70d06551707111459411c0f1d121d45071b4549124c041d070a1d0901\n",
            "m0 XOR m3 = 0x1a45141c1e05541e5200131413110b451a1d000f1657431f1a0d1d091f\n",
            "m0 XOR m4 = 0x1a45101d1305185957131e1517451d001006520c53530c140114081309\n",
            "m0 XOR m5 = 0x1d0015100049061c551212411d0b0b45071a4d0c5350021655080c181f\n",
            "\n",
            "m1 XOR m2 = 0x11b000011190a4d1f41081a00055341011c0d450f180e0c131d1d0703\n",
            "m1 XOR m3 = 0x1c531249181b4f47140007010e0645411c1a48030b03490e0e1a1d071d\n",
            "m1 XOR m4 = 0x1c531648151b030011130a000a52530416011a004e0706051503081d0b\n",
            "m1 XOR m5 = 0x1b16134506571d4513120654001c4541011d05004e040807411f0c161d\n",
            "\n",
            "m2 XOR m3 = 0x1d4812490902450a0b410f1b0e0316001d064546041b47021d0700001e\n",
            "m2 XOR m4 = 0x1d4816480402094d0e52021a0a570045171d1745411f0809061e151a08\n",
            "m2 XOR m5 = 0x1a0d1345174e17080c530e4e0019160000010845411c060b520211111e\n",
            "\n",
            "m3 XOR m4 = 0x4010d004c4705130d01045416450a1b520345044f0b1b19151a16\n",
            "m3 XOR m5 = 0x745010c1e4c5202071201550e1a00001d074d03450741094f05111100\n",
            "\n",
            "m4 XOR m5 = 0x745050d134c1e4502010c540a4e1645171c1f0000030e02541c040b16\n",
            "\n",
            "\n"
          ],
          "name": "stdout"
        }
      ]
    },
    {
      "cell_type": "code",
      "metadata": {
        "id": "IMlJfGO8K2iI",
        "colab_type": "code",
        "colab": {
          "base_uri": "https://localhost:8080/",
          "height": 269
        },
        "outputId": "04118c9a-6c55-4103-e00c-026856079113"
      },
      "source": [
        "\n",
        "mxorArr"
      ],
      "execution_count": 70,
      "outputs": [
        {
          "output_type": "execute_result",
          "data": {
            "text/plain": [
              "[164079155304582668457912730488801875172117382474705510036955490946562,\n",
              " 190091291452862081117295239611067077751928496844049852497773620693249,\n",
              " 708233434176542634476072600559144723608234939138208857435556158441759,\n",
              " 708231790209869513663425940300509386385828245264188014720729230086921,\n",
              " 781847117959093738598842887158564349414446891362570640632255859136543,\n",
              " 29803378649526398217941862438574929872768802448745695885019521550083,\n",
              " 763626949117013410093234807374166913511915912230980712705278651205405,\n",
              " 763628592995794075911777804137827584003981134666086537219661418208523,\n",
              " 730243357494946509859602429633149545888967483451706359476698890376733,\n",
              " 789428460481039415941773297750871757371206015033930615430233370656798,\n",
              " 789430104347267462425770877532388544541871679121622842662372467087880,\n",
              " 702335600309268308009846394840950713253892231675203544314066146234654,\n",
              " 1647193104993950548422549151490233909246668518391584884654414358,\n",
              " 195986605644765207291781717531089400643276316055936023710850394165504,\n",
              " 195988252687207498117324613190932039141232792392294771308357719690006]"
            ]
          },
          "metadata": {
            "tags": []
          },
          "execution_count": 70
        }
      ]
    },
    {
      "cell_type": "code",
      "metadata": {
        "colab_type": "code",
        "outputId": "cddb290d-b6ec-410e-fb58-79b2c41a3028",
        "id": "GD00ubXDXzKU",
        "colab": {
          "base_uri": "https://localhost:8080/",
          "height": 34
        }
      },
      "source": [
        "# mxorArrhex = [hex(i) for i in mxorArr]\n",
        "# type(mxorArr[1]) # int\n",
        "# type(mxorArrhex[0]) # str\n",
        "# hex() returns a string can't be used in bit wise obration "
      ],
      "execution_count": 85,
      "outputs": [
        {
          "output_type": "execute_result",
          "data": {
            "text/plain": [
              "'0xf'"
            ]
          },
          "metadata": {
            "tags": []
          },
          "execution_count": 85
        }
      ]
    },
    {
      "cell_type": "code",
      "metadata": {
        "id": "r3DL6HkAEojV",
        "colab_type": "code",
        "colab": {
          "base_uri": "https://localhost:8080/",
          "height": 34
        },
        "outputId": "f22e90da-9598-4a58-e73a-d6b859ccd212"
      },
      "source": [
        "guessword = ['hello', 'the', 'hi', 'day', 'attack', 'dear', 'good']\n",
        "bigrams = \"th, he, in, en, nt, re, er, an, ti, es, on, at, se, nd, or, ar, al, te, co, de, to, ra, et, ed, it, sa, em, ro\".split(', ')\n",
        "guesswordhex = [i.encode() for i in guessword]\n",
        "bigrams\n",
        "guesswordhex\n"
      ],
      "execution_count": 96,
      "outputs": [
        {
          "output_type": "execute_result",
          "data": {
            "text/plain": [
              "[b'hello', b'the', b'hi', b'day', b'attack', b'dear', b'good']"
            ]
          },
          "metadata": {
            "tags": []
          },
          "execution_count": 96
        }
      ]
    },
    {
      "cell_type": "code",
      "metadata": {
        "id": "eceRog-pOJmI",
        "colab_type": "code",
        "colab": {}
      },
      "source": [
        "def wordxor(x):\n",
        "  'turns a word to xorable number'\n",
        "  return [ord(i) for i in x]\n"
      ],
      "execution_count": 0,
      "outputs": []
    },
    {
      "cell_type": "code",
      "metadata": {
        "id": "WOWXVbbxRLZq",
        "colab_type": "code",
        "colab": {
          "base_uri": "https://localhost:8080/",
          "height": 101
        },
        "outputId": "13fd4a19-fca6-4c75-ee97-80ca96060688"
      },
      "source": [
        "# seeing what bytes are represented as\n",
        "for i in b'hello':\n",
        "  print(hex(i),chr(i))"
      ],
      "execution_count": 98,
      "outputs": [
        {
          "output_type": "stream",
          "text": [
            "0x68 h\n",
            "0x65 e\n",
            "0x6c l\n",
            "0x6c l\n",
            "0x6f o\n"
          ],
          "name": "stdout"
        }
      ]
    },
    {
      "cell_type": "code",
      "metadata": {
        "id": "OoKOvdDGgCY3",
        "colab_type": "code",
        "colab": {}
      },
      "source": [
        "import numpy as np"
      ],
      "execution_count": 0,
      "outputs": []
    },
    {
      "cell_type": "code",
      "metadata": {
        "id": "z97jAsGxgGaM",
        "colab_type": "code",
        "colab": {
          "base_uri": "https://localhost:8080/",
          "height": 34
        },
        "outputId": "d585e9f7-3dc6-4121-b2da-e248c4686ca8"
      },
      "source": [
        "np.bitwise_xor(0x12fe,12334)"
      ],
      "execution_count": 103,
      "outputs": [
        {
          "output_type": "execute_result",
          "data": {
            "text/plain": [
              "8912"
            ]
          },
          "metadata": {
            "tags": []
          },
          "execution_count": 103
        }
      ]
    },
    {
      "cell_type": "code",
      "metadata": {
        "id": "shVcgvOqLNPS",
        "colab_type": "code",
        "colab": {
          "base_uri": "https://localhost:8080/",
          "height": 130
        },
        "outputId": "875175e0-e30d-4ec0-c5e1-b23c1b97ca5a"
      },
      "source": [
        "for i,m in enumerate(mxorArr):\n",
        "  for j,n in enumerate(guesswordhex):\n",
        "    for k in range(len(m)-len(n)):\n",
        "      decoded_array = (m[k:k+len(j)] ^ n\n"
      ],
      "execution_count": 30,
      "outputs": [
        {
          "output_type": "error",
          "ename": "SyntaxError",
          "evalue": "ignored",
          "traceback": [
            "\u001b[0;36m  File \u001b[0;32m\"<ipython-input-30-d3edb3c558b6>\"\u001b[0;36m, line \u001b[0;32m3\u001b[0m\n\u001b[0;31m    for k in range(len(i)-len(j))\u001b[0m\n\u001b[0m                                 ^\u001b[0m\n\u001b[0;31mSyntaxError\u001b[0m\u001b[0;31m:\u001b[0m invalid syntax\n"
          ]
        }
      ]
    }
  ]
}
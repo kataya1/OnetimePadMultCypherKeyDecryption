{
  "nbformat": 4,
  "nbformat_minor": 0,
  "metadata": {
    "colab": {
      "name": "onetab.ipynb",
      "provenance": [],
      "collapsed_sections": [],
      "toc_visible": true,
      "authorship_tag": "ABX9TyNYqH3cT8+y8nnW9vfvb/S+",
      "include_colab_link": true
    },
    "kernelspec": {
      "name": "python3",
      "display_name": "Python 3"
    }
  },
  "cells": [
    {
      "cell_type": "markdown",
      "metadata": {
        "id": "view-in-github",
        "colab_type": "text"
      },
      "source": [
        "<a href=\"https://colab.research.google.com/github/kataya1/OnetimePadMultCypherKeyDecryption/blob/master/onetab.ipynb\" target=\"_parent\"><img src=\"https://colab.research.google.com/assets/colab-badge.svg\" alt=\"Open In Colab\"/></a>"
      ]
    },
    {
      "cell_type": "code",
      "metadata": {
        "id": "eceRog-pOJmI",
        "colab_type": "code",
        "outputId": "15341bee-2546-4636-cce1-3ba79737a55d",
        "colab": {
          "base_uri": "https://localhost:8080/",
          "height": 33
        }
      },
      "source": [
        "def xor(word1, word2):\n",
        "  'takes two byte strings xor each char'\n",
        "  arr = []\n",
        "  for i, j in zip(word1,word2):\n",
        "    arr.append(chr(i^j))\n",
        "  return ''.join(arr)\n",
        "\n",
        "xor(b'hello',b'aloha')"
      ],
      "execution_count": 5,
      "outputs": [
        {
          "output_type": "execute_result",
          "data": {
            "text/plain": [
              "'\\t\\t\\x03\\x04\\x0e'"
            ]
          },
          "metadata": {
            "tags": []
          },
          "execution_count": 5
        }
      ]
    },
    {
      "cell_type": "code",
      "metadata": {
        "id": "B_dZgu9vGJX1",
        "colab_type": "code",
        "outputId": "e3d609c9-d491-4c92-9a5a-5b12d3bdb3f6",
        "colab": {
          "base_uri": "https://localhost:8080/",
          "height": 50
        }
      },
      "source": [
        "def hexStringtoWords(h):\n",
        "  if(type(h) == int):\n",
        "    h = hex(h)[2:]\n",
        "  letters = []\n",
        "  for i in range(0,len(h),2):\n",
        "    letters.append(chr(int(h[i:i+2],16)))\n",
        "  return ''.join(letters)\n",
        "\n",
        "\n",
        "\n",
        "print(hexStringtoWords(0x6160655061e1b59460014151d174e040607480c1d540a111417000e02))\n",
        "print(hexStringtoWords(164079155304582668457912730488801875172117382474705510036955490946562).encode())\n"
      ],
      "execution_count": 6,
      "outputs": [
        {
          "output_type": "stream",
          "text": [
            "a`ePaáµ`\u0001AQÑtà@`tÁÕ@¡\u0011Ap\u0000à\u0002\n",
            "b'a`ePa\\xc3\\xa1\\xc2\\xb5\\xc2\\x94`\\x01AQ\\xc3\\x91t\\xc3\\xa0@`t\\xc2\\x80\\xc3\\x81\\xc3\\x95@\\xc2\\xa1\\x11Ap\\x00\\xc3\\xa0\\x02'\n"
          ],
          "name": "stdout"
        }
      ]
    },
    {
      "cell_type": "code",
      "metadata": {
        "id": "sJhYKysc1R93",
        "colab_type": "code",
        "colab": {}
      },
      "source": [
        "# gonna use bytes instead of hex since it preserve the zeros at the begging \n",
        "# fuck this is annoying. broject over too much headache and time wasted\n",
        "c1 = hexStringtoWords(0xAEDE0273C4C0DA3477F919018A05DA71A2530F5A0020E4E0ACA80FF2DE).encode()\n",
        "c2 = hexStringtoWords(0xA8C80426C2DEC16D31F90D1497129475A45447561D74EEF1B8BF0FFCDC).encode()\n",
        "c3 = hexStringtoWords(0xA9D30426D3C7CB202EB8050E9717C734A5484A13126CE0FDABA212FBDF).encode()\n",
        "c4 = hexStringtoWords(0xB49B166FDAC58E2A25F90A159914D134B84E0F551677A7FFB6A512FBC1).encode()\n",
        "c5 = hexStringtoWords(0xB49B126ED7C5C26D20EA07149D40C771B2555D565373E8F4ADBC07E1D7).encode()\n",
        "c6 = hexStringtoWords(0xB3DE1763C489DC2822EB0B40970ED134A54942565370E6F6F9A003EAC1).encode()\n"
      ],
      "execution_count": 0,
      "outputs": []
    },
    {
      "cell_type": "code",
      "metadata": {
        "id": "l1YE2oci1XI6",
        "colab_type": "code",
        "outputId": "f238217b-1924-49d2-871c-6b109051dd2f",
        "colab": {
          "base_uri": "https://localhost:8080/",
          "height": 518
        }
      },
      "source": [
        "\n",
        "\n",
        "# chr() hexa to chars\n",
        "# m1 xor m2 \n",
        "#  there is alot of 000 int the message which mean there are words that are reused\n",
        "mxorArr = []\n",
        "element_to_mxorm = []\n",
        "arr = [c1, c2, c3, c4, c5, c6]\n",
        "for i,mi in enumerate(arr):\n",
        "  for j,mj in enumerate(arr[i:]):\n",
        "    if(i!= i+j):\n",
        "      mm = xor(mi,mj)\n",
        "      mxorArr.append(mm)\n",
        "      element_to_mxorm.append(f'm{i} XOR m{j+i}')\n",
        "      print(f'm{i} XOR m{j+i} = {str(mm)}')\n",
        "  print()\n",
        "\n"
      ],
      "execution_count": 8,
      "outputs": [
        {
          "output_type": "stream",
          "text": [
            "m0 XOR m1 = \u0000\u0006\u0000\u0016\u0006U\u0000\u0006\u0000\u001e\u0000\u001bYF\u0000\u0000\u0014\u0015\u0000\u001d\u0017\u0001\u000e\u0004\u0000\u0006\u0007H\f\u001dT\u0000\n",
            "\u0000\u0011\u0000\u0014\u0000\u0017\u0000\u0000\u000e\u0000\u0002\n",
            "m0 XOR m2 = \u0000\u0007\u0000\r\u0006U\u0000\u0017\u0000\u0007\u0000\u0011\u0014Y\u0001\u0001\u001c\u000f\u0000\u001d\u0012\u0000\u001dE\u0000\u0007\u001bEI\u0012L\u0000\u0004\u0000\u001d\u0000\u0007\u0000\n",
            "\u001d\u0000\t\u0000\u0001\n",
            "m0 XOR m3 = \u0000\u001a\u0001\u0005\u0014\u001c\u0000\u001e\u0000\u0005\u0001\u0014\u001eR\u0000\u0000\u0013\u0014\u0000\u0013\u0011\u0000\u000bE\u0000\u001a\u001d\u0000\u000f\u0016W\u0001\u0003\u0000\u001f\u0000\u001a\u0000\r\u001d\u0000\t\u0000\u001f\n",
            "m0 XOR m4 = \u0000\u001a\u0001\u0005\u0010\u001d\u0000\u0013\u0000\u0005\u0000\u0018YW\u0000\u0013\u001e\u0015\u0000\u0017E\u0000\u001d\u0000\u0000\u0010\u0006R\fSS\u0000\f\u0000\u0014\u0000\u0001\u0000\u0014\b\u0000\u0013\u0000\t\n",
            "m0 XOR m5 = \u0000\u001d\u0000\u0000\u0015\u0010\u0000\u0000\u0001\t\u0000\u0006\u001cU\u0000\u0012\u0012A\u0000\u001d\u000b\u0000\u000bE\u0000\u0007\u001aM\fSP\u0000\u0002\u0000\u0016\u0001\u0015\u0000\b\f\u0000\u0018\u0000\u001f\n",
            "\n",
            "m1 XOR m2 = \u0000\u0001\u0000\u001b\u0000\u0000\u0000\u0011\u0000\u0019\u0000\n",
            "M\u001f\u0001\u0001\b\u001a\u0000\u0000\u0005\u0001\u0013A\u0000\u0001\u001c\rE\u000f\u0018\u0000\u000e\u0000\f\u0000\u0013\u0000\u001d\u001d\u0000\u0007\u0000\u0003\n",
            "m1 XOR m3 = \u0000\u001c\u0001\u0013\u0012I\u0000\u0018\u0000\u001b\u0001\u000fG\u0014\u0000\u0000\u0007\u0001\u0000\u000e\u0006\u0001\u0005A\u0000\u001c\u001aH\u0003\u000b\u0003\u0001\t\u0000\u000e\u0000\u000e\u0000\u001a\u001d\u0000\u0007\u0000\u001d\n",
            "m1 XOR m4 = \u0000\u001c\u0001\u0013\u0016H\u0000\u0015\u0000\u001b\u0000\u0003\u0000\u0011\u0000\u0013\n",
            "\u0000\u0000\n",
            "R\u0001\u0013\u0004\u0000\u0016\u0001\u001a\u0000N\u0007\u0000\u0006\u0000\u0005\u0000\u0015\u0000\u0003\b\u0000\u001d\u0000\u000b\n",
            "m1 XOR m5 = \u0000\u001b\u0000\u0016\u0013E\u0000\u0006\u0001\u0017\u0000\u001dE\u0013\u0000\u0012\u0006T\u0000\u0000\u001c\u0001\u0005A\u0000\u0001\u001d\u0005\u0000N\u0004\u0000\b\u0000\u0007\u0001\u0001\u0000\u001f\f\u0000\u0016\u0000\u001d\n",
            "\n",
            "m2 XOR m3 = \u0000\u001d\u0001\b\u0012I\u0000\t\u0000\u0002\u0001\u0005\n",
            "\u000b\u0001\u0001\u000f\u001b\u0000\u000e\u0003\u0000\u0016\u0000\u0000\u001d\u0006EF\u0004\u001b\u0001\u0007\u0000\u0002\u0000\u001d\u0000\u0007\u0000\u0000\u0000\u0000\u001e\n",
            "m2 XOR m4 = \u0000\u001d\u0001\b\u0016H\u0000\u0004\u0000\u0002\u0000\tM\u000e\u0001\u0012\u0002\u001a\u0000\n",
            "W\u0000\u0000E\u0000\u0017\u001d\u0017EA\u001f\u0000\b\u0000\t\u0000\u0006\u0000\u001e\u0015\u0000\u001a\u0000\b\n",
            "m2 XOR m5 = \u0000\u001a\u0000\r\u0013E\u0000\u0017\u0001\u000e\u0000\u0017\b\f\u0001\u0013\u000eN\u0000\u0000\u0019\u0000\u0016\u0000\u0000\u0000\u0001\bEA\u001c\u0000\u0006\u0000\u000b\u0001\u0012\u0000\u0002\u0011\u0000\u0011\u0000\u001e\n",
            "\n",
            "m3 XOR m4 = \u0000\u0000\u0000\u0000\u0004\u0001\u0000\r\u0000\u0000\u0001\fG\u0005\u0000\u0013\r\u0001\u0000\u0004T\u0000\u0016E\u0000\n",
            "\u001bR\u0003E\u0004\u0001\u000f\u0000\u000b\u0000\u001b\u0000\u0019\u0015\u0000\u001a\u0000\u0016\n",
            "m3 XOR m5 = \u0000\u0007\u0001\u0005\u0001\f\u0000\u001e\u0001\f\u0001\u0012\u0002\u0007\u0000\u0012\u0001U\u0000\u000e\u001a\u0000\u0000\u0000\u0000\u001d\u0007M\u0003E\u0007\u0001\u0001\u0000\t\u0001\u000f\u0000\u0005\u0011\u0000\u0011\u0000\u0000\n",
            "\n",
            "m4 XOR m5 = \u0000\u0007\u0001\u0005\u0005\r\u0000\u0013\u0001\f\u0000\u001eE\u0002\u0000\u0001\fT\u0000\n",
            "N\u0000\u0016E\u0000\u0017\u001c\u001f\u0000\u0000\u0003\u0000\u000e\u0000\u0002\u0001\u0014\u0000\u001c\u0004\u0000\u000b\u0000\u0016\n",
            "\n",
            "\n"
          ],
          "name": "stdout"
        }
      ]
    },
    {
      "cell_type": "code",
      "metadata": {
        "id": "j7WHACEQFpwM",
        "colab_type": "code",
        "outputId": "c254237a-9ae7-472d-f07e-fe770463b1bf",
        "colab": {
          "base_uri": "https://localhost:8080/",
          "height": 33
        }
      },
      "source": [
        "mxorArr[0][1]"
      ],
      "execution_count": 9,
      "outputs": [
        {
          "output_type": "execute_result",
          "data": {
            "text/plain": [
              "'\\x06'"
            ]
          },
          "metadata": {
            "tags": []
          },
          "execution_count": 9
        }
      ]
    },
    {
      "cell_type": "code",
      "metadata": {
        "id": "IMlJfGO8K2iI",
        "colab_type": "code",
        "outputId": "cf0b4523-7885-4bdd-8bc8-83162b7e116d",
        "colab": {
          "base_uri": "https://localhost:8080/",
          "height": 288
        }
      },
      "source": [
        "\n",
        "mxorArr"
      ],
      "execution_count": 10,
      "outputs": [
        {
          "output_type": "execute_result",
          "data": {
            "text/plain": [
              "['\\x00\\x06\\x00\\x16\\x06U\\x00\\x06\\x00\\x1e\\x00\\x1bYF\\x00\\x00\\x14\\x15\\x00\\x1d\\x17\\x01\\x0e\\x04\\x00\\x06\\x07H\\x0c\\x1dT\\x00\\n\\x00\\x11\\x00\\x14\\x00\\x17\\x00\\x00\\x0e\\x00\\x02',\n",
              " '\\x00\\x07\\x00\\r\\x06U\\x00\\x17\\x00\\x07\\x00\\x11\\x14Y\\x01\\x01\\x1c\\x0f\\x00\\x1d\\x12\\x00\\x1dE\\x00\\x07\\x1bEI\\x12L\\x00\\x04\\x00\\x1d\\x00\\x07\\x00\\n\\x1d\\x00\\t\\x00\\x01',\n",
              " '\\x00\\x1a\\x01\\x05\\x14\\x1c\\x00\\x1e\\x00\\x05\\x01\\x14\\x1eR\\x00\\x00\\x13\\x14\\x00\\x13\\x11\\x00\\x0bE\\x00\\x1a\\x1d\\x00\\x0f\\x16W\\x01\\x03\\x00\\x1f\\x00\\x1a\\x00\\r\\x1d\\x00\\t\\x00\\x1f',\n",
              " '\\x00\\x1a\\x01\\x05\\x10\\x1d\\x00\\x13\\x00\\x05\\x00\\x18YW\\x00\\x13\\x1e\\x15\\x00\\x17E\\x00\\x1d\\x00\\x00\\x10\\x06R\\x0cSS\\x00\\x0c\\x00\\x14\\x00\\x01\\x00\\x14\\x08\\x00\\x13\\x00\\t',\n",
              " '\\x00\\x1d\\x00\\x00\\x15\\x10\\x00\\x00\\x01\\t\\x00\\x06\\x1cU\\x00\\x12\\x12A\\x00\\x1d\\x0b\\x00\\x0bE\\x00\\x07\\x1aM\\x0cSP\\x00\\x02\\x00\\x16\\x01\\x15\\x00\\x08\\x0c\\x00\\x18\\x00\\x1f',\n",
              " '\\x00\\x01\\x00\\x1b\\x00\\x00\\x00\\x11\\x00\\x19\\x00\\nM\\x1f\\x01\\x01\\x08\\x1a\\x00\\x00\\x05\\x01\\x13A\\x00\\x01\\x1c\\rE\\x0f\\x18\\x00\\x0e\\x00\\x0c\\x00\\x13\\x00\\x1d\\x1d\\x00\\x07\\x00\\x03',\n",
              " '\\x00\\x1c\\x01\\x13\\x12I\\x00\\x18\\x00\\x1b\\x01\\x0fG\\x14\\x00\\x00\\x07\\x01\\x00\\x0e\\x06\\x01\\x05A\\x00\\x1c\\x1aH\\x03\\x0b\\x03\\x01\\t\\x00\\x0e\\x00\\x0e\\x00\\x1a\\x1d\\x00\\x07\\x00\\x1d',\n",
              " '\\x00\\x1c\\x01\\x13\\x16H\\x00\\x15\\x00\\x1b\\x00\\x03\\x00\\x11\\x00\\x13\\n\\x00\\x00\\nR\\x01\\x13\\x04\\x00\\x16\\x01\\x1a\\x00N\\x07\\x00\\x06\\x00\\x05\\x00\\x15\\x00\\x03\\x08\\x00\\x1d\\x00\\x0b',\n",
              " '\\x00\\x1b\\x00\\x16\\x13E\\x00\\x06\\x01\\x17\\x00\\x1dE\\x13\\x00\\x12\\x06T\\x00\\x00\\x1c\\x01\\x05A\\x00\\x01\\x1d\\x05\\x00N\\x04\\x00\\x08\\x00\\x07\\x01\\x01\\x00\\x1f\\x0c\\x00\\x16\\x00\\x1d',\n",
              " '\\x00\\x1d\\x01\\x08\\x12I\\x00\\t\\x00\\x02\\x01\\x05\\n\\x0b\\x01\\x01\\x0f\\x1b\\x00\\x0e\\x03\\x00\\x16\\x00\\x00\\x1d\\x06EF\\x04\\x1b\\x01\\x07\\x00\\x02\\x00\\x1d\\x00\\x07\\x00\\x00\\x00\\x00\\x1e',\n",
              " '\\x00\\x1d\\x01\\x08\\x16H\\x00\\x04\\x00\\x02\\x00\\tM\\x0e\\x01\\x12\\x02\\x1a\\x00\\nW\\x00\\x00E\\x00\\x17\\x1d\\x17EA\\x1f\\x00\\x08\\x00\\t\\x00\\x06\\x00\\x1e\\x15\\x00\\x1a\\x00\\x08',\n",
              " '\\x00\\x1a\\x00\\r\\x13E\\x00\\x17\\x01\\x0e\\x00\\x17\\x08\\x0c\\x01\\x13\\x0eN\\x00\\x00\\x19\\x00\\x16\\x00\\x00\\x00\\x01\\x08EA\\x1c\\x00\\x06\\x00\\x0b\\x01\\x12\\x00\\x02\\x11\\x00\\x11\\x00\\x1e',\n",
              " '\\x00\\x00\\x00\\x00\\x04\\x01\\x00\\r\\x00\\x00\\x01\\x0cG\\x05\\x00\\x13\\r\\x01\\x00\\x04T\\x00\\x16E\\x00\\n\\x1bR\\x03E\\x04\\x01\\x0f\\x00\\x0b\\x00\\x1b\\x00\\x19\\x15\\x00\\x1a\\x00\\x16',\n",
              " '\\x00\\x07\\x01\\x05\\x01\\x0c\\x00\\x1e\\x01\\x0c\\x01\\x12\\x02\\x07\\x00\\x12\\x01U\\x00\\x0e\\x1a\\x00\\x00\\x00\\x00\\x1d\\x07M\\x03E\\x07\\x01\\x01\\x00\\t\\x01\\x0f\\x00\\x05\\x11\\x00\\x11\\x00\\x00',\n",
              " '\\x00\\x07\\x01\\x05\\x05\\r\\x00\\x13\\x01\\x0c\\x00\\x1eE\\x02\\x00\\x01\\x0cT\\x00\\nN\\x00\\x16E\\x00\\x17\\x1c\\x1f\\x00\\x00\\x03\\x00\\x0e\\x00\\x02\\x01\\x14\\x00\\x1c\\x04\\x00\\x0b\\x00\\x16']"
            ]
          },
          "metadata": {
            "tags": []
          },
          "execution_count": 10
        }
      ]
    },
    {
      "cell_type": "code",
      "metadata": {
        "colab_type": "code",
        "id": "GD00ubXDXzKU",
        "colab": {}
      },
      "source": [
        "\n",
        "# # encoded array of cyphers\n",
        "mxorArrhex = [(i).encode() for i in mxorArr]\n",
        "# type(mxorArr[1]) # int\n",
        "# type(mxorArrhex[0]) # str\n",
        "# # hex() returns a string can't be used in bit wise obration \n",
        "# mxorArrhex[0]"
      ],
      "execution_count": 0,
      "outputs": []
    },
    {
      "cell_type": "code",
      "metadata": {
        "id": "YvTvFnx803YS",
        "colab_type": "code",
        "colab": {}
      },
      "source": [
        ""
      ],
      "execution_count": 0,
      "outputs": []
    },
    {
      "cell_type": "code",
      "metadata": {
        "id": "gePZ8upDqDK5",
        "colab_type": "code",
        "colab": {}
      },
      "source": [
        ""
      ],
      "execution_count": 0,
      "outputs": []
    },
    {
      "cell_type": "code",
      "metadata": {
        "id": "r3DL6HkAEojV",
        "colab_type": "code",
        "colab": {}
      },
      "source": [
        "guessword = ['the', 'Hello', 'Dear','good']\n",
        "bigrams = [ i.encode() for i in \"th, he, in, en, nt, re, er, an, ti, es, on, at, se, nd, or, ar, al, te, co, de, to, ra, et, ed, it, sa, em, ro\".split(', ')]\n",
        "guesswordhex = [i.encode() for i in guessword]\n",
        "\n",
        "# guesswordhex\n"
      ],
      "execution_count": 0,
      "outputs": []
    },
    {
      "cell_type": "code",
      "metadata": {
        "id": "e4WOZ7Uk7lAH",
        "colab_type": "code",
        "outputId": "4f9bea41-39c4-4ce0-80ad-8de4e05fcfb9",
        "colab": {
          "base_uri": "https://localhost:8080/",
          "height": 117
        }
      },
      "source": [
        "l = xor(b'oehlo',b'hello')\n",
        "print(l)\n",
        "for i in l:\n",
        "  print(i ,i.encode())\n"
      ],
      "execution_count": 13,
      "outputs": [
        {
          "output_type": "stream",
          "text": [
            "\u0007\u0000\u0004\u0000\u0000\n",
            "\u0007 b'\\x07'\n",
            "\u0000 b'\\x00'\n",
            "\u0004 b'\\x04'\n",
            "\u0000 b'\\x00'\n",
            "\u0000 b'\\x00'\n"
          ],
          "name": "stdout"
        }
      ]
    },
    {
      "cell_type": "code",
      "metadata": {
        "id": "WOWXVbbxRLZq",
        "colab_type": "code",
        "outputId": "63ed0dfb-94c7-4527-a55c-830c66521a84",
        "colab": {
          "base_uri": "https://localhost:8080/",
          "height": 117
        }
      },
      "source": [
        "# seeing what bytes are represented as\n",
        "for i in b'hello':\n",
        "  print(i, hex(i),chr(i))\n",
        "(b'hello'[0] ^ b'day'[0])\n"
      ],
      "execution_count": 14,
      "outputs": [
        {
          "output_type": "stream",
          "text": [
            "104 0x68 h\n",
            "101 0x65 e\n",
            "108 0x6c l\n",
            "108 0x6c l\n",
            "111 0x6f o\n"
          ],
          "name": "stdout"
        },
        {
          "output_type": "execute_result",
          "data": {
            "text/plain": [
              "12"
            ]
          },
          "metadata": {
            "tags": []
          },
          "execution_count": 14
        }
      ]
    },
    {
      "cell_type": "code",
      "metadata": {
        "id": "OULHUdTBODhr",
        "colab_type": "code",
        "outputId": "877283c8-e038-4940-fa53-266fded0ad0a",
        "colab": {
          "base_uri": "https://localhost:8080/",
          "height": 100
        }
      },
      "source": [
        "x = b'hello'\n",
        "for k in range(len(x)):\n",
        "  print(x[k:] + x[:k])\n",
        "  \n"
      ],
      "execution_count": 15,
      "outputs": [
        {
          "output_type": "stream",
          "text": [
            "b'hello'\n",
            "b'elloh'\n",
            "b'llohe'\n",
            "b'lohel'\n",
            "b'ohell'\n"
          ],
          "name": "stdout"
        }
      ]
    },
    {
      "cell_type": "code",
      "metadata": {
        "id": "dT4z1xnkvieV",
        "colab_type": "code",
        "outputId": "4001844c-4fd6-4551-be5e-bca07ce36c53",
        "colab": {
          "base_uri": "https://localhost:8080/",
          "height": 33
        }
      },
      "source": [
        "type(ord('b'))\n",
        "b'\\x00frsta' is bytes"
      ],
      "execution_count": 16,
      "outputs": [
        {
          "output_type": "execute_result",
          "data": {
            "text/plain": [
              "False"
            ]
          },
          "metadata": {
            "tags": []
          },
          "execution_count": 16
        }
      ]
    },
    {
      "cell_type": "code",
      "metadata": {
        "id": "qqp7yjb5q7hy",
        "colab_type": "code",
        "outputId": "0375ecf3-7b6b-492f-ea88-ebd12cacbd6d",
        "colab": {
          "base_uri": "https://localhost:8080/",
          "height": 33
        }
      },
      "source": [
        "def human_readable_format(string):\n",
        "  if type(string) == bytes:\n",
        "    string = string.decode()\n",
        "  # function to be made on a string to a string\n",
        "  return ''.join([(i if 32 <= ord(i) <= 122 else '_') for i in string ])\n",
        "  # function to be maped to a string\n",
        "  # return chr if ( 32<= ord(chr) <= 122) else '_'\n",
        "\n",
        "human_readable_format('a`ePa\\xc3\\xa1\\xc2\\xb5\\xc2\\x94`\\x01AQ\\xc3\\x91t\\xc3\\xa0@`t\\xc2\\x80\\xc3\\x81\\xc3\\x95@\\xc2\\xa1\\x11Ap\\x00\\xc3\\xa0\\x02')\n",
        "\n",
        "\n",
        "\n",
        "\n",
        "\n",
        "\n"
      ],
      "execution_count": 17,
      "outputs": [
        {
          "output_type": "execute_result",
          "data": {
            "text/plain": [
              "'a`ePa______`_AQ__t__@`t______@___Ap____'"
            ]
          },
          "metadata": {
            "tags": []
          },
          "execution_count": 17
        }
      ]
    },
    {
      "cell_type": "code",
      "metadata": {
        "id": "WXCJIjubrJhu",
        "colab_type": "code",
        "colab": {}
      },
      "source": [
        ""
      ],
      "execution_count": 0,
      "outputs": []
    },
    {
      "cell_type": "code",
      "metadata": {
        "id": "shVcgvOqLNPS",
        "colab_type": "code",
        "colab": {}
      },
      "source": [
        "\n",
        "def guesser(arr1, arr2):\n",
        "  'functioni that takes two array of bytes first is the xored array secdond is the array of guess words'\n",
        "  # array that holds other arrays\n",
        "  upperarray = []\n",
        "  \n",
        "  \n",
        "  # to know which xored element is which \n",
        "  for i, m in enumerate(arr1):\n",
        "    # to know which word is from the guess word is used with this m xor m\n",
        "    middlearray = []\n",
        "    # for each element xor array we compare each element of guess words\n",
        "    for j, n in enumerate(arr2):\n",
        "      # for the size of each element in the guesser array we create len(element) elements of lower array compare this to create \n",
        "      # this creates a shifting effect for example on the bigger element resulting in lower number of sentences ex hellohellohello, ohellohellohell, lohellohellohel, ...\n",
        "      # array that holds len(an element of arr2)\n",
        "      lowerarray = []\n",
        "      for k in range(len(n)):\n",
        "        # x = 'hello' 'elloh' 'llohe' 'lohel' 'ohell' -> lower array contains those variation\n",
        "        x = n[k:] + n[:k]\n",
        "        fragment = []\n",
        "        for l in range(0,(len(m)-len(n)),len(n)):\n",
        "          # make a list to keep the comparison in (concatination is costly in terms of time)\n",
        "          fragment.append( xor( m[l:l+len(n)] , x) )\n",
        "        # joins the comparisons into one sentence and append it to lowerarray\n",
        "        lowerarray.append(''.join(fragment))\n",
        "      middlearray.append(lowerarray)\n",
        "    upperarray.append(middlearray)\n",
        "\n",
        "\n",
        "  return upperarray\n",
        "\n",
        "guessed = guesser(mxorArrhex, guesswordhex)\n",
        "\n"
      ],
      "execution_count": 0,
      "outputs": []
    },
    {
      "cell_type": "code",
      "metadata": {
        "id": "aj0lnk-jWf90",
        "colab_type": "code",
        "outputId": "5465a940-21e3-48d6-b418-f3d150147505",
        "colab": {
          "base_uri": "https://localhost:8080/",
          "height": 1000
        }
      },
      "source": [
        "def printer(arr, guessword):\n",
        "  for i, l in enumerate(arr):\n",
        "    for j, m in enumerate(l):\n",
        "      for k, n in enumerate(m):\n",
        "        print(f'{element_to_mxorm[i]} word {guessword[j][k:]+guessword[j][:k]} :',human_readable_format(n))\n",
        "\n",
        "printer(guessed, guessword)"
      ],
      "execution_count": 19,
      "outputs": [
        {
          "output_type": "stream",
          "text": [
            "m0 XOR m1 word the : tnebn0tnejh_-.et_pturufatnb<dx hotye`hrthk\n",
            "m0 XOR m1 word het : hct_c!hctveo1#thqahxcikphcs ii<e_htt_echez\n",
            "m0 XOR m1 word eth : erhsr=erh_ts<2he`_ei_dzlero-xu1tbeehqt_etf\n",
            "m0 XOR m1 word Hello : Hclzi_ejlqH_5*oHqylr_dbhoNb$`r_efl_Hql_o\n",
            "m0 XOR m1 word elloH : ejlyN0ljoVew5)HexyoUrmbkHck$cU1lfoYexlxH\n",
            "m0 XOR m1 word lloHe : ljo^c9liH_lw6_elxzHx_maLejk'Dx8leHtlxo_e\n",
            "m0 XOR m1 word loHel : liHsj9oNerlt_#ll_]eq_nFaljh_iq8oBe_l_Hrl\n",
            "m0 XOR m1 word oHell : oNezj:HclroS<*lo\\plqxIkhliO-`q;Hol_o\\e_l\n",
            "m0 XOR m1 word Dear : DcadB0atD_ai_#arPpaoSdovDcf:Hx5rNeprPevr\n",
            "m0 XOR m1 word earD : egrRc4rBe_r_<'rDqtrYr`_@egu_i_&DoacDqaeD\n",
            "m0 XOR m1 word arDe : atDsg'DcalD_84DeugDxvsJaatC-mo_ekrUeurSe\n",
            "m0 XOR m1 word rDea : rBewt_egrZez+_eafQe_eEkerBb)_Y1axDtafDra\n",
            "m0 XOR m1 word good : giora:obgqo_>)odszoypna`gih,kr;dmo_dsoxd\n",
            "m0 XOR m1 word oodg : oidqi:daoqd_6)dg_zdzxnjcoic/cr0geoug_osg\n",
            "m0 XOR m1 word odgo : obgyi1giozgt6\"go_qgrxeikob`'cy3oedvo_dpo\n",
            "m0 XOR m1 word dgoo : daoyb2oidyot=!ooprorsfakdah'hz;ong_opgxo\n",
            "m0 XOR m2 word the : toeyn0t_esht`1dutjtuwtu to_1!w8hatueshoihl\n",
            "m0 XOR m2 word het : hbtec!hrtoee_<uiy_hxfhx1hbo-,f$ephxtoe_ue_\n",
            "m0 XOR m2 word eth : eshhr=echbtyq-idhgeizei-ess =z)tleihbtbxta\n",
            "m0 XOR m2 word Hello : Hblai_e_lhHtx5nIyclrZeq)oO_)%__ehlrHblfr\n",
            "m0 XOR m2 word elloH : eklbN0l_oOe_x6IdpcoUwlq*Hbw)&Z)lhoUekleU\n",
            "m0 XOR m2 word lloHe : lkoEc9lxHbl___dmp`Hx_lr_ekw*_w lkHxlkoBx\n",
            "m0 XOR m2 word loHel : lhHhj9o_ekl_\\<mmsGeq_oU lkt_,_ oLeqlhHoq\n",
            "m0 XOR m2 word oHell : oOeaj:HrlkoYq5mnTjlq_Hx)lhS %_#HalqoOefq\n",
            "m0 XOR m2 word Dear : Dba_B0aeDbacP<`sXjaoVe_7Dbz7_w-r@e_rCeko\n",
            "m0 XOR m2 word earD : efrIc4rSefrUq8sEynrYwao_efi_,s>DaaoDbaxY\n",
            "m0 XOR m2 word arDe : auDhg'DrauDtu+Ed__DxsrY au_ (`_eerYefrNx\n",
            "m0 XOR m2 word rDea : rCelt_evrCepf_d`nKe_`Dx$rC_$;V)avDxauDo_\n",
            "m0 XOR m2 word good : ghoia:osghous6ne_`oyuor!ght!._#dcord`oey\n",
            "m0 XOR m2 word oodg : ohdji:dpohdv_6efs`dz_oy\"oh_\"&_(gkoyghonz\n",
            "m0 XOR m2 word odgo : ocgbi1gxocg__=fnskgr_dz*oc_*&v+okdzohdmr\n",
            "m0 XOR m2 word dgoo : d`obb2oxd`o_p>nnxhorvgr*d`t*-u#o`grocger\n",
            "m0 XOR m3 word the : trdq_ytveqiqj:et_qt_ttc trxtgs#iftwenhhihl\n",
            "m0 XOR m3 word het : h_umqhh_tmd`v7thv`hvehn1h_ihjb?dwhztreyue_\n",
            "m0 XOR m3 word eth : eni``tejh`u__&heg_egye_-enue__2ukekh_texta\n",
            "m0 XOR m3 word Hello : H_mi_TerljIqr>oHvxl_Yeg)oRxlcy_dolpH_lar\n",
            "m0 XOR m3 word elloH : evmj\\ylroMdxr=He_xo[tlg*H_ql`^2mooWevlbU\n",
            "m0 XOR m3 word lloHe : lvnMqplqH`mxq_el__Hv_ld_evqoGs;mlHzlvoEx\n",
            "m0 XOR m3 word loHel : luI`xpoVeim_V7ll_\\e__oC lvrHjz;nKesluHhq\n",
            "m0 XOR m3 word oHell : oRdixsH_lin\\_>lo[ql__Hn)luUecz8IflsoReaq\n",
            "m0 XOR m3 word Dear : D_`wPyalD``fZ7arWqaaUej7D__rKs6sGe_r^elo\n",
            "m0 XOR m3 word earD : e_sAq_rZedsP_3rDvurWtay_e_oDjw%EfamD_a_Y\n",
            "m0 XOR m3 word arDe : ahE`unD_awEq_ DerfDvprO ahYend_dbr[e_rIx\n",
            "m0 XOR m3 word rDea : r^ddfXe_rAdul_eaaPercDn$r^xa_R2`qDzahDh_\n",
            "m0 XOR m3 word good : gunassozgjnpy=odt_owvod!gurdhy8edopd_oby\n",
            "m0 XOR m3 word oodg : oueb_sdyojesq=dg__dt_oo\"ouyg`y3flo_guoiz\n",
            "m0 XOR m3 word odgo : o_fj_xgqoaf_q6go_pg__dl*o_zo`r0nldxoudjr\n",
            "m0 XOR m3 word dgoo : d_njp_oqdbn_z5oowso_ugd*d_rokq8nggpo_gbr\n",
            "m0 XOR m4 word the : trdqxxt_eqh_-?egvpt_ tuetxc&d6'hit_euhq_hv\n",
            "m0 XOR m4 word het : h_umuihvtmel12t__ahr1hxthur:i';exhqtie``eg\n",
            "m0 XOR m4 word eth : eni`duegh`tp<#hvj_ec-eihedn7x;6tde`hdt_mt_\n",
            "m0 XOR m4 word Hello : H_mi_Ue_ljH_5;o[_ylx_eqloXc>`<_e`l_Hdlxg\n",
            "m0 XOR m4 word elloH : evmjXxl_oMet58Hvryo_ lqoHuj>c_6l`o\\eml_@\n",
            "m0 XOR m4 word lloHe : lvnMuql_H`lt6_e_rzHr)lrHe_j=D6?lcHqlmo\\m\n",
            "m0 XOR m4 word loHel : luI`_qo[eilw_2l_q]e_)oUel_i_i??oDexlnHqd\n",
            "m0 XOR m4 word oHell : oRdi_rHvlioP<;l_Vpl_*Hxll_N7`?<HilxoIexd\n",
            "m0 XOR m4 word Dear : D_`wTxaaD`aj_2aaZpae_e_rDug H62rHeurEeuz\n",
            "m0 XOR m4 word earD : e_sAu_rWedr\\<6rW_trS aoDeqt_i2!DiafDdafL\n",
            "m0 XOR m4 word arDe : ahE`qoDvawD_8%Dv_gDr$rYeabB7m!_emrPe`rPm\n",
            "m0 XOR m4 word rDea : r^ddbYerrAey+_erlQev7DxarTc3__6a_DqasDqi\n",
            "m0 XOR m4 word good : gunawrowgjo_>8owyzos\"ordg_i6k<<dko_dfo_l\n",
            "m0 XOR m4 word oodg : oueb_rdtojd_68dtqzdp*oygo_b5c<7gcopgnopo\n",
            "m0 XOR m4 word odgo : o_fj_yg_oagw63g_qqgx*dzoota=c74ocdsondsg\n",
            "m0 XOR m4 word dgoo : d_njtzo_dbow=0o_zrox!grodwi=h4<ohg_oeg_g\n",
            "m0 XOR m5 word the : tuet_uthd_hch=efz$tuntc to_9d6$hgt_dahmxh_\n",
            "m0 XOR m5 word het : hxthpdheuaert0tzw5hx_hn1hbn%i'8evhsu_e_del\n",
            "m0 XOR m5 word eth : eiheaxetiltny!hwf)eice_-esr(x;5tjebipt`itp\n",
            "m0 XOR m5 word Hello : HxllzXelmfHcp9oZw-lrCeg)oO_!`<_enlyIpldc\n",
            "m0 XOR m5 word elloH : eqlo]ullnAejp:Hw_-oUnlg*Hbv!c_5lno^dylgD\n",
            "m0 XOR m5 word lloHe : lqoHp_loIlljs_e__.Hxgld_ekv\"D6<lmHsmyo@i\n",
            "m0 XOR m5 word loHel : lrHey_oHdeliT0l___eqgoC lku_i?<oJezmzHm`\n",
            "m0 XOR m5 word oHell : oUely_HemeoNy9l_Z$lqdHn)lhR(`??Hglzn]ed`\n",
            "m0 XOR m5 word Dear : DxarQuarElatX0a`V$aoOej7Db_?H61rFewsQei_\n",
            "m0 XOR m5 word earD : e_rDpqrDdhrBy4rVw rYnay_efh_i2\"DgadEpazH\n",
            "m0 XOR m5 word arDe : aoDetbDe`_Dc_'Dws3DxjrO au^(m!_ecrRdtrLi\n",
            "m0 XOR m5 word rDea : rYeagTeasMegn_es`_e_yDn$rC_,__5apDs`gDmm\n",
            "m0 XOR m5 word good : grodr_odffob_:ovu.oylod!ghu)k<?deoyerogh\n",
            "m0 XOR m5 word oodg : ordgz_dgnfdas:du_.dzdoo\"oh_*c<4gmorfzolk\n",
            "m0 XOR m5 word odgo : oygoztgonmgis1g__%grddl*oc_\"c77omdqnzdoc\n",
            "m0 XOR m5 word dgoo : dzooqwooenoix2o_v&orogd*d`u\"h4?ofgynqggc\n",
            "m1 XOR m2 word the : tieohetyemho9wdu`_th`u_$tiyy-jlhktdeghxihb\n",
            "m1 XOR m2 word het : hdtsethttqe_%zuimnheqiv5hdhe _pezhit_eiues\n",
            "m1 XOR m2 word eth : euh_theeh_tb(kid_retmdg)euth1g_tfexhvtuxto\n",
            "m1 XOR m2 word Hello : HdlwoHe_lvHo!snImvloMd_-oIya)`PeblcHvlqr\n",
            "m1 XOR m2 word elloH : emltHel_oQef!pIddvoH`m_.Hdpa*G_lboDe_lrU\n",
            "m1 XOR m2 word lloHe : lmoSell_H_lf\"WdmduHeim__empb_jtlaHil_oUx\n",
            "m1 XOR m2 word loHel : lnH_lloYeule_zmmgRelin[$lmsE ctoFe`l_Hxq\n",
            "m1 XOR m2 word oHell : oIewloHtluoB(smn@_lljIv-lnTh)cwHkl`o[eqq\n",
            "m1 XOR m2 word Dear : DdaiDeacD_ax_z`sL_arAdr3Dd___jyrJemrWe_o\n",
            "m1 XOR m2 word earD : e`r_earUexrN(_sEm_rD``a_e`nI njDka_DvaoY\n",
            "m1 XOR m2 word arDe : asD_arDtakDo,mEdihDedsW$asXh$_\\eorHerrYx\n",
            "m1 XOR m2 word rDea : rEezrDepr]ek?[d`z^eawEv rEyl7K_a_DiaaDx_\n",
            "m1 XOR m2 word good : gno_goougvon*pneouodbn_%gnsi\"`wdiocdtory\n",
            "m1 XOR m2 word oodg : ond_oodvovdm\"pefgudgjnw&onxj*`_gaohg_oyz\n",
            "m1 XOR m2 word odgo : oegtodg_o_ge\"_fng_gojet.oe_b*k_oadko_dzr\n",
            "m1 XOR m2 word dgoo : dfotdgo_d_oe)xnnl_ooaf_.dfsb!hwojgcowgrr\n",
            "m1 XOR m3 word the : ttdgz,tpeoij3_etodtfcum$tt_<knwiltfezh_ihb\n",
            "m1 XOR m3 word het : hyu_w=h_tsd_/qthbuhkri`5hyn f_kd_hktfenues\n",
            "m1 XOR m3 word eth : ehivf!elh_ug\"`hesiezndq)ehr-wcfuaezhktrxto\n",
            "m1 XOR m3 word Hello : Hym___etltIj+xoHbmlaNdi-oT_$odKdelaHklvr\n",
            "m1 XOR m3 word elloH : epm_Z,ltoSdc+_HekmoFcmi.Hyv$lCfmeoFebluU\n",
            "m1 XOR m3 word lloHe : lpn[w%lwH_mc(\\elknHkjmj_epv'KnomfHklboRx\n",
            "m1 XOR m3 word loHel : lsIv_%oPewm`_qllhIebjnM$lpu_fgonAeblaH_q\n",
            "m1 XOR m3 word oHell : oTd__&H_lwnG\"xloOdlbiI`-lsR-oglIllboFevq\n",
            "m1 XOR m3 word Dear : Dy`aV,ajD_`__qarCda_Bdd3Dy_:GnbsMeorJe_o\n",
            "m1 XOR m3 word earD : e_sWw(r\\ezsK\"urDb`rJc`w_e_h_fjqEla_DkahY\n",
            "m1 XOR m3 word arDe : anEvs;D_aiEj&fDefsDkgsA$an^-byGdhrJeor^x\n",
            "m1 XOR m3 word rDea : rXdr`_eyr_dn5PeauEeotE` rX_)qOf`_Dka_D__\n",
            "m1 XOR m3 word good : gsnwu&o_gtnk _od`nojanj%gsu,ddlenoadiouy\n",
            "m1 XOR m3 word oodg : oset_&d_oteh(_dghndiina&os_/ldgffojgao_z\n",
            "m1 XOR m3 word odgo : oxf__-gwo_f`(pgohegaieb.ox_'lodnfdioad_r\n",
            "m1 XOR m3 word dgoo : d_n_v.owd_n`#soocfoabfj.d_u'gllnmgaojgur\n",
            "m1 XOR m4 word the : ttdg_-t_eohftyegbetb7u_at_dnh+shctmeahf_hx\n",
            "m1 XOR m4 word het : hyu_s<hptsewhtt_otho&ivphsure:oerh`t_ew`ei\n",
            "m1 XOR m4 word eth : ehivb eah_tkeehv_he_:dglebi_t&btneqhptkmtu\n",
            "m1 XOR m4 word Hello : Hym_y_eyltHfl_o[olle_d_ho^dvl!OejljHplog\n",
            "m1 XOR m4 word elloH : epm_^-lyoSeol_HvfloB7m_kHsmvo_bljoMeyll@\n",
            "m1 XOR m4 word lloHe : lpn[s$lzH_looYe_foHo>m_LezmuH+kliH`lyoKm\n",
            "m1 XOR m4 word loHel : lsIvz$o]ewllHtl_eHef>n[alznRe\"koNeilzHfd\n",
            "m1 XOR m4 word oHell : oTd_z'HplwoKe_l_Belf=IvhlyI_l\"hHclio]eod\n",
            "m1 XOR m4 word Dear : Dy`aR-agD_aqDtaaNeax_drvDs`hD+frBedrQebz\n",
            "m1 XOR m4 word earD : e_sWs)rQezrGeprWoarN7`a@ews^e/uDcawDpaqL\n",
            "m1 XOR m4 word arDe : anEvw:DpaiDfacDvkrDo3sWaadE_a<CegrAetrGm\n",
            "m1 XOR m4 word rDea : rXdrd_etr_ebrUerxDek EverRd_r_batD`agDfi\n",
            "m1 XOR m4 word good : gsnwq'oqgtogg_owmoon5n_`gyn_g!hdaojdroll\n",
            "m1 XOR m4 word oodg : osety'drotddo_dteodm=nwcoye_o!cgioagzogo\n",
            "m1 XOR m4 word odgo : oxf_y,gzo_gloug_edge=etkorfuo*`oidbozddg\n",
            "m1 XOR m4 word dgoo : d_n_r/ozd_oldvo_ngoe6f_kdqnud)hobgjoqglg\n",
            "m1 XOR m5 word the : tseb_ tndchx1_efn1thyum$tixqh+phmtoduhzxhs\n",
            "m1 XOR m5 word het : h_t_v1hcu_ei-vtzc hehi`5hdime:le_hbuiekdeb\n",
            "m1 XOR m5 word eth : eohsg-erirtu ghwr<ettdq)euu`t&at`esidtwit_\n",
            "m1 XOR m5 word Hello : H_lz__ejmxHx)_oZc8loTdi-oIxil!LedlhIdlsc\n",
            "m1 XOR m5 word elloH : ewly[ ljn_eq)_Hwj8oHymi.Hdqio_aldoOdmlpD\n",
            "m1 XOR m5 word lloHe : lwo^v)liIrlq*[e_j;Hepmj_emqjH+hlgHbmmoWi\n",
            "m1 XOR m5 word loHel : ltHs_)oNd_lr_vl_i_elpnM$lmrMe\"ho@ekmnHz`\n",
            "m1 XOR m5 word oHell : oSez_*Hcm_oU _l_N1llsI`-lnU`l\"kHmlknIes`\n",
            "m1 XOR m5 word Dear : D_adW atErao_va`B1arXdd3Dd_wD+erLefsEe__\n",
            "m1 XOR m5 word earD : ezrRv$rBdvrY rrVc5rDy`w_e`oAe/vDmauEdamH\n",
            "m1 XOR m5 word arDe : aiDsr7Dc`eDx$aDwg&De_sA$asY`a<@eirCd`r[i\n",
            "m1 XOR m5 word rDea : r_ewa_egsSe_7West_eanE` rExdr_aazDb`sDzm\n",
            "m1 XOR m5 word good : gtort*obfxoy\"_ova;od_nj%gnrag!kdoohefoph\n",
            "m1 XOR m5 word oodg : otdq_*danxdz*_dui;dgsna&onybo!`ggocfno_k\n",
            "m1 XOR m5 word odgo : o_gy_!ginsgr*wg_i0goseb.oezjo*cogd`nndxc\n",
            "m1 XOR m5 word dgoo : d_oyw\"oiepor!to_b3ooxfj.dfrjd)kolghnegpc\n",
            "m2 XOR m3 word the : tud_z,taevi`_cdug_tfft_etuc1.aoibtjeihbthe\n",
            "m2 XOR m3 word het : hxu`w=hltjdqbnuijohkwhsthxr-#psdshgtueshet\n",
            "m2 XOR m3 word eth : eiimf!e_hgumo_id_sezkebhein 2l_uoevhxtoeth\n",
            "m2 XOR m3 word Hello : Hxmd__eelmI`fgnIjwlaKezloUc)*kSdklmHxlko\n",
            "m2 XOR m3 word elloH : eqmgZ,leoJdifdIdcwoFflzoHxj))L_mkoJeqlhH\n",
            "m2 XOR m3 word lloHe : lqn@w%lfHgmieCdmctHkolyHeqj*_awmhHglqoOe\n",
            "m2 XOR m3 word loHel : lrIm_%oAenmjBnmm`Seboo^elqi_#hwnOenlrHbl\n",
            "m2 XOR m3 word oHell : oUdd_&HllnnMogmnG_lblHsllrN *htIblnoUekl\n",
            "m2 XOR m3 word Dear : Dx`zV,a_Dg`wNn`sK_a_GewrDxg7_azsCecrYefr\n",
            "m2 XOR m3 word earD : e_sLw(rMecsAojsEjzrJfadDe_t_#eiEbapDxauD\n",
            "m2 XOR m3 word arDe : aoEms;DlapE`kyEdniDkbrReaoB 'v_dfrFe_rCe\n",
            "m2 XOR m3 word rDea : rYdi`_ehrFddxOd`__eoqDsarYc$4@_`uDgaoDba\n",
            "m2 XOR m3 word good : grnlu&omgmnamdnehtojdoydgri!!kte`omdzohd\n",
            "m2 XOR m3 word oodg : oreo_&dnomebedef`tdilorgorb\")k_fhofgrocg\n",
            "m2 XOR m3 word odgo : oyfg_-gfoffjeofn`_galdqooya*)`_nhdeord`o\n",
            "m2 XOR m3 word dgoo : dzngv.ofdenjnlnnk_oaggyodzi*\"ctncgmoygho\n",
            "m2 XOR m4 word the : tud__-tlevhl9fdfj_tb2th t_xc-$khmtaerh_ah_\n",
            "m2 XOR m4 word het : hxu`s<hatje_%kuzgnho#he1hri_ 5we_hltnej_en\n",
            "m2 XOR m4 word eth : eiimb ephgta(ziwvre_?et-ecur1)zt`e_hctvptr\n",
            "m2 XOR m4 word Hello : Hxmdy_ehlmHl!bnZgvle_el)o_x_).WedlfHclrz\n",
            "m2 XOR m4 word elloH : eqmg^-lhoJee!aIwnvoB2ll*Hrq_*_zldoAejlq]\n",
            "m2 XOR m4 word lloHe : lqn@s$lkHgle\"Fd_nuHo;lo_e_qx_$slgHlljoVp\n",
            "m2 XOR m4 word loHel : lrImz$oLenlf_km_mRef;oH l_r_ -so@eeliH_y\n",
            "m2 XOR m4 word oHell : oUddz'HalnoA(bm_J_lf8He)lxUr)-pHmleoNery\n",
            "m2 XOR m4 word Dear : Dx`zR-avDga__k``F_ax_ea7Dr_e_$_rLehrBe_g\n",
            "m2 XOR m4 word earD : e_sLs)r@ecrM(osVg_rN2ar_evoS  mDma_DcalQ\n",
            "m2 XOR m4 word arDe : aoEmw:DaapDl,_EwchDo6rD aeYr$3[eirMegrZp\n",
            "m2 XOR m4 word rDea : rYdid_eerFeh?Jdsp^ek%De$rSxv7_zazDlatD_t\n",
            "m2 XOR m4 word good : grnlq'o`gmom*anveuon0oo!gxrs\".pdoofdaoqq\n",
            "m2 XOR m4 word oodg : oreoy'dcomdn\"aeumudm8od\"oxyp*._ggomgiozr\n",
            "m2 XOR m4 word odgo : oyfgy,gkofgf\"jf_m_ge8dg*oszx*%xogdnoidyz\n",
            "m2 XOR m4 word dgoo : dzngr/okdeof)in_f_oe3go*dprx!&polgfobgqz\n",
            "m2 XOR m5 word the : trey_ t_dzhr_ddgf+th_t_ethd_-$hhctcdfhgeht\n",
            "m2 XOR m5 word het : h_tev1hrufec`iu_k:hemhstheu` 5terhnuzevyee\n",
            "m2 XOR m5 word eth : enhhg-ecikt_mxivz&etqebhetim1)ytne_iwtjtty\n",
            "m2 XOR m5 word Hello : H_la__e_maHrd`n[k\"loQezloHdd).TejldIwln_\n",
            "m2 XOR m5 word elloH : evlb[ l_nFe_dcIvb\"oH_lzoHemd*_yljoCd_lmY\n",
            "m2 XOR m5 word lloHe : lvoEv)lxIkl_gDd_b!HeulyHelmg_$pliHnm_oJt\n",
            "m2 XOR m5 word loHel : luHh_)o_dblx@im_a_eluo^elln@ -poNegm_Hg_\n",
            "m2 XOR m5 word oHell : oRea_*Hrmbo_m`m_F+llvHslloIm)-sHclgnZen_\n",
            "m2 XOR m5 word Dear : D_a_W aeEkaeLi`aJ+ar]ewrDe`z_$_rBejsVecc\n",
            "m2 XOR m5 word earD : e_rIv$rSdorSmmsWk/rD_adDeasL  nDcayEwapU\n",
            "m2 XOR m5 word arDe : ahDhr7Dr`_Dri_Evo<DexrRearEm$3XegrOdsrFt\n",
            "m2 XOR m5 word rDea : r^ela_evsJevzHdr__eakDsarDdi7_yatDn``Dgp\n",
            "m2 XOR m5 word good : guoit*osfaosocnwi!od_oydgonl\".sdaodeuomu\n",
            "m2 XOR m5 word oodg : oudj_*dpnadpgceta!dgvorgooeo*.xgioof_ofv\n",
            "m2 XOR m5 word odgo : o_gb_!gxnjgxghf_a*govdqoodfg*%_oidln_de_\n",
            "m2 XOR m5 word dgoo : d_obw\"oxeioxlkn_j)oo_gyodgng!&sobgdnvgm_\n",
            "m3 XOR m4 word the : thetldteetii3megedtl1t_ tb_&k pijtceoh_ah_\n",
            "m3 XOR m4 word het : hethauhhthdx/`t_huha hs1hoo:f1ld_hntsem_en\n",
            "m3 XOR m4 word eth : ethepieyheud\"qhvyiep<eb-e_s7w-auge_h_tqptr\n",
            "m3 XOR m4 word Hello : HellkIealoIi+io[hmlk_ez)oB_>o*LdcldH_luz\n",
            "m3 XOR m4 word elloH : elloLdlaoHd`+jHvamoL1lz*How>l_amcoCewlv]\n",
            "m3 XOR m4 word lloHe : lloHamlbHem`(Me_anHa8ly_efw=K hm`HnlwoQp\n",
            "m3 XOR m4 word loHel : loHehmoEelmc_`l_bIeh8o^ lft_f)hnGegltH_y\n",
            "m3 XOR m4 word oHell : oHelhnHhllnD\"il_Edlh;Hs)leS7o)kIjlgoSeuy\n",
            "m3 XOR m4 word Dear : Dear@da_De`__`aaIdav_ew7Doz G esKejr_exg\n",
            "m3 XOR m4 word earD : earDa`rIeasH\"drWh`r@1ad_eki_f$vEjayD_akQ\n",
            "m3 XOR m4 word arDe : arDeesDharEi&wDvlsDa5rR ax_7b7@dnrOezr]p\n",
            "m3 XOR m4 word rDea : rDeavEelrDdm5Aer_Eee&Ds$rN_3q_a`_DnaiD_t\n",
            "m3 XOR m4 word good : goodcnoigonh jowjno`3oy!get6d*kehodd_ovq\n",
            "m3 XOR m4 word oodg : oodgkndjooek(jdtbndc;or\"oe_5l*`f`oogto_r\n",
            "m3 XOR m4 word odgo : odgokegbodfc(ag_begk;dq*on_=l!cn`dlotd_z\n",
            "m3 XOR m4 word dgoo : dgoo`fobdgnc#bo_ifok0gy*dmt=g\"knkgdo_gvz\n",
            "m3 XOR m5 word the : todqiitvdxiwvoefi0tf_thetub9k sidtad_h`eht\n",
            "m3 XOR m5 word het : hbumdxh_uddfjbtzd!hknhethxs%f1oduhlugeqyee\n",
            "m3 XOR m5 word eth : esi`udejiiuzgshwu=ezretheio(w-buie_ijtmtty\n",
            "m3 XOR m5 word Hello : HbminDermcIwnkoZd9laRelloUb!o*OdmlfIjli_\n",
            "m3 XOR m5 word elloH : ekmjIilrnDd_nhHwm9oF_lloHxk!l_bmmoAdcljY\n",
            "m3 XOR m5 word lloHe : lknMd`lqIim_mOe_m:HkvloHeqk\"K kmnHlmcoMt\n",
            "m3 XOR m5 word loHel : lhI`m`oVd`m_Jbl_n_ebvoHelqh_f)knIeem`H`_\n",
            "m3 XOR m5 word oHell : oOdimcH_m`nZgkl_I0lbuHellrO(o)hIdlenGei_\n",
            "m3 XOR m5 word Dear : Db`wEialEi``Fba`E0a_^earDxf?G fsEehsKedc\n",
            "m3 XOR m5 word earD : efsAdmrZdmsVgfrVd4rJ_arDe_u_f$uEda_EjawU\n",
            "m3 XOR m5 word arDe : auE``_D_`_EwcuDw`'Dk_rDeaoC(b7Cd`rMdnrAt\n",
            "m3 XOR m5 word rDea : rCddsHe_sHdspCess_eohDearYb,q_b`sDl`_D`p\n",
            "m3 XOR m5 word good : ghnafcozfcnvehovf:oj_oodgrh)d*hefofehoju\n",
            "m3 XOR m5 word oodg : ohebncdynceumhdun:diuodgorc*l*cfnomf`oav\n",
            "m3 XOR m5 word odgo : ocfjnhgqnhf_mcg_n1gaudgooy`\"l!`nndnn`db_\n",
            "m3 XOR m5 word dgoo : d`njekoqekn_f`o_e2oa_goodzh\"g\"hnegfnkgj_\n",
            "m4 XOR m5 word the : todqmht_dxh_1jeud1tb+t_ t_ykhewhktjd`hyphn\n",
            "m4 XOR m5 word het : hbum`yhvudej-gtii ho:hs1hrhwetkezhgu_ehle_\n",
            "m4 XOR m5 word eth : esi`qeegiitv vhdx<e_&eb-ectzthftfeviqttatc\n",
            "m4 XOR m5 word Hello : HbmijEe_mcH_)noIi8le_ez)o_ysloKeblmIqlpk\n",
            "m4 XOR m5 word elloH : ekmjMhl_nDer)mHd`8oB+lz*HrpsoHflboJdxlsL\n",
            "m4 XOR m5 word lloHe : lknM`al_Iilr*Jem`;Ho\"ly_e_ppHeolaHgmxoTa\n",
            "m4 XOR m5 word loHel : lhI`iao[d`lq_glmc_ef\"o^ l_sWelooFenm_Hyh\n",
            "m4 XOR m5 word oHell : oOdiibHvm`oV nlnD1lf!Hs)lxTzlllHklnn\\eph\n",
            "m4 XOR m5 word Dear : Db`wAhaaEial_gasH1ax_ew7Dr_mDebrJecsPe_v\n",
            "m4 XOR m5 word earD : efsA`lrWdmrZ crEi5rN+ad_evn[eaqDkapEqan@\n",
            "m4 XOR m5 word arDe : auE`d_Dv`_D_$pDdm&Do/rR aeXzarGeorFdurXa\n",
            "m4 XOR m5 word rDea : rCddwIersHe_7Fe`__ek<Ds$rSy_rDfa_Dg`fDye\n",
            "m4 XOR m5 word good : ghnabbowfcoz\"moek;on)oy!gxs_goldiomesos`\n",
            "m4 XOR m5 word oodg : ohebjbdtncdy*mdfc;dm!or\"oxxxooggaoff_oxc\n",
            "m4 XOR m5 word odgo : ocfjjig_nhgq*fgnc0ge!dq*os_poddoaden_d_k\n",
            "m4 XOR m5 word dgoo : d`njajo_ekoq!eonh3oe*gy*dpspdglojgmnpgsk\n"
          ],
          "name": "stdout"
        }
      ]
    },
    {
      "cell_type": "code",
      "metadata": {
        "id": "FoD6B9P5eCMB",
        "colab_type": "code",
        "outputId": "b2e76063-bb40-4a3c-f0d3-20fa27cd725a",
        "colab": {
          "base_uri": "https://localhost:8080/",
          "height": 84
        }
      },
      "source": [
        "# mxorm 11 from(the) word: time:\n",
        "guesser([mxorArrhex[11]],[b'time'])"
      ],
      "execution_count": 21,
      "outputs": [
        {
          "output_type": "execute_result",
          "data": {
            "text/plain": [
              "[[[\"tsmhg,mrugmr|elvz'memi{etilm1(qerifdfiot\",\n",
              "   'iweyz(echcecaadgg#etpmstimd|,,ytomnu{mge',\n",
              "   'm\\x7ftd~ t~lkt~eiuzc+titebimeua($hike\\x7fh\\x7fevx',\n",
              "   'eni`v1izdzizmxh~k:im|t\\x7fmethe 5umctblwtk|']]]"
            ]
          },
          "metadata": {
            "tags": []
          },
          "execution_count": 21
        }
      ]
    }
  ]
}
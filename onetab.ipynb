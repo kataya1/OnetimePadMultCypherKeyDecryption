{
  "nbformat": 4,
  "nbformat_minor": 0,
  "metadata": {
    "colab": {
      "name": "onetab.ipynb",
      "provenance": [],
      "collapsed_sections": [],
      "toc_visible": true,
      "authorship_tag": "ABX9TyN889adbjLxuPkBHDCRh+tp",
      "include_colab_link": true
    },
    "kernelspec": {
      "name": "python3",
      "display_name": "Python 3"
    }
  },
  "cells": [
    {
      "cell_type": "markdown",
      "metadata": {
        "id": "view-in-github",
        "colab_type": "text"
      },
      "source": [
        "<a href=\"https://colab.research.google.com/github/kataya1/OnetimePadMultCypherKeyDecryption/blob/master/onetab.ipynb\" target=\"_parent\"><img src=\"https://colab.research.google.com/assets/colab-badge.svg\" alt=\"Open In Colab\"/></a>"
      ]
    },
    {
      "cell_type": "code",
      "metadata": {
        "id": "eceRog-pOJmI",
        "colab_type": "code",
        "outputId": "56f9d200-44e7-4e33-a558-790d529bd63e",
        "colab": {
          "base_uri": "https://localhost:8080/",
          "height": 33
        }
      },
      "source": [
        "def xor(word1, word2):\n",
        "  'takes two byte strings xor each char'\n",
        "  arr = []\n",
        "  for i, j in zip(word1,word2):\n",
        "    arr.append(chr(i^j))\n",
        "  return ''.join(arr)\n",
        "\n",
        "xor(b'hello',b'aloha')"
      ],
      "execution_count": 0,
      "outputs": [
        {
          "output_type": "execute_result",
          "data": {
            "text/plain": [
              "'\\t\\t\\x03\\x04\\x0e'"
            ]
          },
          "metadata": {
            "tags": []
          },
          "execution_count": 4
        }
      ]
    },
    {
      "cell_type": "code",
      "metadata": {
        "id": "B_dZgu9vGJX1",
        "colab_type": "code",
        "outputId": "2c6648c0-f2cf-43e2-d564-db655c499b2c",
        "colab": {
          "base_uri": "https://localhost:8080/",
          "height": 50
        }
      },
      "source": [
        "def hexStringtoWords(h):\n",
        "  if(type(h) == int):\n",
        "    h = hex(h)[2:]\n",
        "  letters = []\n",
        "  for i in range(0,len(h),2):\n",
        "    letters.append(chr(int(h[i:i+2],16)))\n",
        "  return ''.join(letters)\n",
        "\n",
        "\n",
        "\n",
        "print(hexStringtoWords(0x6160655061e1b59460014151d174e040607480c1d540a111417000e02))\n",
        "print(hexStringtoWords(164079155304582668457912730488801875172117382474705510036955490946562).encode())\n"
      ],
      "execution_count": 0,
      "outputs": [
        {
          "output_type": "stream",
          "text": [
            "a`ePaáµ`\u0001AQÑtà@`tÁÕ@¡\u0011Ap\u0000à\u0002\n",
            "b'a`ePa\\xc3\\xa1\\xc2\\xb5\\xc2\\x94`\\x01AQ\\xc3\\x91t\\xc3\\xa0@`t\\xc2\\x80\\xc3\\x81\\xc3\\x95@\\xc2\\xa1\\x11Ap\\x00\\xc3\\xa0\\x02'\n"
          ],
          "name": "stdout"
        }
      ]
    },
    {
      "cell_type": "code",
      "metadata": {
        "id": "sJhYKysc1R93",
        "colab_type": "code",
        "colab": {}
      },
      "source": [
        "# gonna use bytes instead of hex since it preserve the zeros at the begging \n",
        "# fuck this is annoying. broject over too much headache and time wasted\n",
        "c1 = hexStringtoWords(0xAEDE0273C4C0DA3477F919018A05DA71A2530F5A0020E4E0ACA80FF2DE).encode()\n",
        "c2 = hexStringtoWords(0xA8C80426C2DEC16D31F90D1497129475A45447561D74EEF1B8BF0FFCDC).encode()\n",
        "c3 = hexStringtoWords(0xA9D30426D3C7CB202EB8050E9717C734A5484A13126CE0FDABA212FBDF).encode()\n",
        "c4 = hexStringtoWords(0xB49B166FDAC58E2A25F90A159914D134B84E0F551677A7FFB6A512FBC1).encode()\n",
        "c5 = hexStringtoWords(0xB49B126ED7C5C26D20EA07149D40C771B2555D565373E8F4ADBC07E1D7).encode()\n",
        "c6 = hexStringtoWords(0xB3DE1763C489DC2822EB0B40970ED134A54942565370E6F6F9A003EAC1).encode()\n"
      ],
      "execution_count": 0,
      "outputs": []
    },
    {
      "cell_type": "code",
      "metadata": {
        "id": "l1YE2oci1XI6",
        "colab_type": "code",
        "outputId": "0b12fa6e-72bd-40d2-d5ea-a625504bc979",
        "colab": {
          "base_uri": "https://localhost:8080/",
          "height": 518
        }
      },
      "source": [
        "\n",
        "\n",
        "# chr() hexa to chars\n",
        "# m1 xor m2 \n",
        "#  there is alot of 000 int the message which mean there are words that are reused\n",
        "mxorArr = []\n",
        "element_to_mxorm = []\n",
        "arr = [c1, c2, c3, c4, c5, c6]\n",
        "for i,mi in enumerate(arr):\n",
        "  for j,mj in enumerate(arr[i:]):\n",
        "    if(i!= i+j):\n",
        "      mm = xor(mi,mj)\n",
        "      mxorArr.append(mm)\n",
        "      element_to_mxorm.append(f'm{i} XOR m{j+i}')\n",
        "      print(f'm{i} XOR m{j+i} = {str(mm)}')\n",
        "  print()\n",
        "\n"
      ],
      "execution_count": 0,
      "outputs": [
        {
          "output_type": "stream",
          "text": [
            "m0 XOR m1 = \u0000\u0006\u0000\u0016\u0006U\u0000\u0006\u0000\u001e\u0000\u001bYF\u0000\u0000\u0014\u0015\u0000\u001d\u0017\u0001\u000e\u0004\u0000\u0006\u0007H\f\u001dT\u0000\n",
            "\u0000\u0011\u0000\u0014\u0000\u0017\u0000\u0000\u000e\u0000\u0002\n",
            "m0 XOR m2 = \u0000\u0007\u0000\r\u0006U\u0000\u0017\u0000\u0007\u0000\u0011\u0014Y\u0001\u0001\u001c\u000f\u0000\u001d\u0012\u0000\u001dE\u0000\u0007\u001bEI\u0012L\u0000\u0004\u0000\u001d\u0000\u0007\u0000\n",
            "\u001d\u0000\t\u0000\u0001\n",
            "m0 XOR m3 = \u0000\u001a\u0001\u0005\u0014\u001c\u0000\u001e\u0000\u0005\u0001\u0014\u001eR\u0000\u0000\u0013\u0014\u0000\u0013\u0011\u0000\u000bE\u0000\u001a\u001d\u0000\u000f\u0016W\u0001\u0003\u0000\u001f\u0000\u001a\u0000\r\u001d\u0000\t\u0000\u001f\n",
            "m0 XOR m4 = \u0000\u001a\u0001\u0005\u0010\u001d\u0000\u0013\u0000\u0005\u0000\u0018YW\u0000\u0013\u001e\u0015\u0000\u0017E\u0000\u001d\u0000\u0000\u0010\u0006R\fSS\u0000\f\u0000\u0014\u0000\u0001\u0000\u0014\b\u0000\u0013\u0000\t\n",
            "m0 XOR m5 = \u0000\u001d\u0000\u0000\u0015\u0010\u0000\u0000\u0001\t\u0000\u0006\u001cU\u0000\u0012\u0012A\u0000\u001d\u000b\u0000\u000bE\u0000\u0007\u001aM\fSP\u0000\u0002\u0000\u0016\u0001\u0015\u0000\b\f\u0000\u0018\u0000\u001f\n",
            "\n",
            "m1 XOR m2 = \u0000\u0001\u0000\u001b\u0000\u0000\u0000\u0011\u0000\u0019\u0000\n",
            "M\u001f\u0001\u0001\b\u001a\u0000\u0000\u0005\u0001\u0013A\u0000\u0001\u001c\rE\u000f\u0018\u0000\u000e\u0000\f\u0000\u0013\u0000\u001d\u001d\u0000\u0007\u0000\u0003\n",
            "m1 XOR m3 = \u0000\u001c\u0001\u0013\u0012I\u0000\u0018\u0000\u001b\u0001\u000fG\u0014\u0000\u0000\u0007\u0001\u0000\u000e\u0006\u0001\u0005A\u0000\u001c\u001aH\u0003\u000b\u0003\u0001\t\u0000\u000e\u0000\u000e\u0000\u001a\u001d\u0000\u0007\u0000\u001d\n",
            "m1 XOR m4 = \u0000\u001c\u0001\u0013\u0016H\u0000\u0015\u0000\u001b\u0000\u0003\u0000\u0011\u0000\u0013\n",
            "\u0000\u0000\n",
            "R\u0001\u0013\u0004\u0000\u0016\u0001\u001a\u0000N\u0007\u0000\u0006\u0000\u0005\u0000\u0015\u0000\u0003\b\u0000\u001d\u0000\u000b\n",
            "m1 XOR m5 = \u0000\u001b\u0000\u0016\u0013E\u0000\u0006\u0001\u0017\u0000\u001dE\u0013\u0000\u0012\u0006T\u0000\u0000\u001c\u0001\u0005A\u0000\u0001\u001d\u0005\u0000N\u0004\u0000\b\u0000\u0007\u0001\u0001\u0000\u001f\f\u0000\u0016\u0000\u001d\n",
            "\n",
            "m2 XOR m3 = \u0000\u001d\u0001\b\u0012I\u0000\t\u0000\u0002\u0001\u0005\n",
            "\u000b\u0001\u0001\u000f\u001b\u0000\u000e\u0003\u0000\u0016\u0000\u0000\u001d\u0006EF\u0004\u001b\u0001\u0007\u0000\u0002\u0000\u001d\u0000\u0007\u0000\u0000\u0000\u0000\u001e\n",
            "m2 XOR m4 = \u0000\u001d\u0001\b\u0016H\u0000\u0004\u0000\u0002\u0000\tM\u000e\u0001\u0012\u0002\u001a\u0000\n",
            "W\u0000\u0000E\u0000\u0017\u001d\u0017EA\u001f\u0000\b\u0000\t\u0000\u0006\u0000\u001e\u0015\u0000\u001a\u0000\b\n",
            "m2 XOR m5 = \u0000\u001a\u0000\r\u0013E\u0000\u0017\u0001\u000e\u0000\u0017\b\f\u0001\u0013\u000eN\u0000\u0000\u0019\u0000\u0016\u0000\u0000\u0000\u0001\bEA\u001c\u0000\u0006\u0000\u000b\u0001\u0012\u0000\u0002\u0011\u0000\u0011\u0000\u001e\n",
            "\n",
            "m3 XOR m4 = \u0000\u0000\u0000\u0000\u0004\u0001\u0000\r\u0000\u0000\u0001\fG\u0005\u0000\u0013\r\u0001\u0000\u0004T\u0000\u0016E\u0000\n",
            "\u001bR\u0003E\u0004\u0001\u000f\u0000\u000b\u0000\u001b\u0000\u0019\u0015\u0000\u001a\u0000\u0016\n",
            "m3 XOR m5 = \u0000\u0007\u0001\u0005\u0001\f\u0000\u001e\u0001\f\u0001\u0012\u0002\u0007\u0000\u0012\u0001U\u0000\u000e\u001a\u0000\u0000\u0000\u0000\u001d\u0007M\u0003E\u0007\u0001\u0001\u0000\t\u0001\u000f\u0000\u0005\u0011\u0000\u0011\u0000\u0000\n",
            "\n",
            "m4 XOR m5 = \u0000\u0007\u0001\u0005\u0005\r\u0000\u0013\u0001\f\u0000\u001eE\u0002\u0000\u0001\fT\u0000\n",
            "N\u0000\u0016E\u0000\u0017\u001c\u001f\u0000\u0000\u0003\u0000\u000e\u0000\u0002\u0001\u0014\u0000\u001c\u0004\u0000\u000b\u0000\u0016\n",
            "\n",
            "\n"
          ],
          "name": "stdout"
        }
      ]
    },
    {
      "cell_type": "code",
      "metadata": {
        "id": "j7WHACEQFpwM",
        "colab_type": "code",
        "outputId": "f2d6d2e7-5e71-4eb1-afd8-618daa9a3b66",
        "colab": {
          "base_uri": "https://localhost:8080/",
          "height": 33
        }
      },
      "source": [
        "mxorArr[0][1]"
      ],
      "execution_count": 0,
      "outputs": [
        {
          "output_type": "execute_result",
          "data": {
            "text/plain": [
              "'\\x06'"
            ]
          },
          "metadata": {
            "tags": []
          },
          "execution_count": 8
        }
      ]
    },
    {
      "cell_type": "code",
      "metadata": {
        "id": "IMlJfGO8K2iI",
        "colab_type": "code",
        "outputId": "62eafe09-6c43-41d0-c4a6-c3301a609fc0",
        "colab": {
          "base_uri": "https://localhost:8080/",
          "height": 288
        }
      },
      "source": [
        "\n",
        "mxorArr"
      ],
      "execution_count": 0,
      "outputs": [
        {
          "output_type": "execute_result",
          "data": {
            "text/plain": [
              "['\\x00\\x06\\x00\\x16\\x06U\\x00\\x06\\x00\\x1e\\x00\\x1bYF\\x00\\x00\\x14\\x15\\x00\\x1d\\x17\\x01\\x0e\\x04\\x00\\x06\\x07H\\x0c\\x1dT\\x00\\n\\x00\\x11\\x00\\x14\\x00\\x17\\x00\\x00\\x0e\\x00\\x02',\n",
              " '\\x00\\x07\\x00\\r\\x06U\\x00\\x17\\x00\\x07\\x00\\x11\\x14Y\\x01\\x01\\x1c\\x0f\\x00\\x1d\\x12\\x00\\x1dE\\x00\\x07\\x1bEI\\x12L\\x00\\x04\\x00\\x1d\\x00\\x07\\x00\\n\\x1d\\x00\\t\\x00\\x01',\n",
              " '\\x00\\x1a\\x01\\x05\\x14\\x1c\\x00\\x1e\\x00\\x05\\x01\\x14\\x1eR\\x00\\x00\\x13\\x14\\x00\\x13\\x11\\x00\\x0bE\\x00\\x1a\\x1d\\x00\\x0f\\x16W\\x01\\x03\\x00\\x1f\\x00\\x1a\\x00\\r\\x1d\\x00\\t\\x00\\x1f',\n",
              " '\\x00\\x1a\\x01\\x05\\x10\\x1d\\x00\\x13\\x00\\x05\\x00\\x18YW\\x00\\x13\\x1e\\x15\\x00\\x17E\\x00\\x1d\\x00\\x00\\x10\\x06R\\x0cSS\\x00\\x0c\\x00\\x14\\x00\\x01\\x00\\x14\\x08\\x00\\x13\\x00\\t',\n",
              " '\\x00\\x1d\\x00\\x00\\x15\\x10\\x00\\x00\\x01\\t\\x00\\x06\\x1cU\\x00\\x12\\x12A\\x00\\x1d\\x0b\\x00\\x0bE\\x00\\x07\\x1aM\\x0cSP\\x00\\x02\\x00\\x16\\x01\\x15\\x00\\x08\\x0c\\x00\\x18\\x00\\x1f',\n",
              " '\\x00\\x01\\x00\\x1b\\x00\\x00\\x00\\x11\\x00\\x19\\x00\\nM\\x1f\\x01\\x01\\x08\\x1a\\x00\\x00\\x05\\x01\\x13A\\x00\\x01\\x1c\\rE\\x0f\\x18\\x00\\x0e\\x00\\x0c\\x00\\x13\\x00\\x1d\\x1d\\x00\\x07\\x00\\x03',\n",
              " '\\x00\\x1c\\x01\\x13\\x12I\\x00\\x18\\x00\\x1b\\x01\\x0fG\\x14\\x00\\x00\\x07\\x01\\x00\\x0e\\x06\\x01\\x05A\\x00\\x1c\\x1aH\\x03\\x0b\\x03\\x01\\t\\x00\\x0e\\x00\\x0e\\x00\\x1a\\x1d\\x00\\x07\\x00\\x1d',\n",
              " '\\x00\\x1c\\x01\\x13\\x16H\\x00\\x15\\x00\\x1b\\x00\\x03\\x00\\x11\\x00\\x13\\n\\x00\\x00\\nR\\x01\\x13\\x04\\x00\\x16\\x01\\x1a\\x00N\\x07\\x00\\x06\\x00\\x05\\x00\\x15\\x00\\x03\\x08\\x00\\x1d\\x00\\x0b',\n",
              " '\\x00\\x1b\\x00\\x16\\x13E\\x00\\x06\\x01\\x17\\x00\\x1dE\\x13\\x00\\x12\\x06T\\x00\\x00\\x1c\\x01\\x05A\\x00\\x01\\x1d\\x05\\x00N\\x04\\x00\\x08\\x00\\x07\\x01\\x01\\x00\\x1f\\x0c\\x00\\x16\\x00\\x1d',\n",
              " '\\x00\\x1d\\x01\\x08\\x12I\\x00\\t\\x00\\x02\\x01\\x05\\n\\x0b\\x01\\x01\\x0f\\x1b\\x00\\x0e\\x03\\x00\\x16\\x00\\x00\\x1d\\x06EF\\x04\\x1b\\x01\\x07\\x00\\x02\\x00\\x1d\\x00\\x07\\x00\\x00\\x00\\x00\\x1e',\n",
              " '\\x00\\x1d\\x01\\x08\\x16H\\x00\\x04\\x00\\x02\\x00\\tM\\x0e\\x01\\x12\\x02\\x1a\\x00\\nW\\x00\\x00E\\x00\\x17\\x1d\\x17EA\\x1f\\x00\\x08\\x00\\t\\x00\\x06\\x00\\x1e\\x15\\x00\\x1a\\x00\\x08',\n",
              " '\\x00\\x1a\\x00\\r\\x13E\\x00\\x17\\x01\\x0e\\x00\\x17\\x08\\x0c\\x01\\x13\\x0eN\\x00\\x00\\x19\\x00\\x16\\x00\\x00\\x00\\x01\\x08EA\\x1c\\x00\\x06\\x00\\x0b\\x01\\x12\\x00\\x02\\x11\\x00\\x11\\x00\\x1e',\n",
              " '\\x00\\x00\\x00\\x00\\x04\\x01\\x00\\r\\x00\\x00\\x01\\x0cG\\x05\\x00\\x13\\r\\x01\\x00\\x04T\\x00\\x16E\\x00\\n\\x1bR\\x03E\\x04\\x01\\x0f\\x00\\x0b\\x00\\x1b\\x00\\x19\\x15\\x00\\x1a\\x00\\x16',\n",
              " '\\x00\\x07\\x01\\x05\\x01\\x0c\\x00\\x1e\\x01\\x0c\\x01\\x12\\x02\\x07\\x00\\x12\\x01U\\x00\\x0e\\x1a\\x00\\x00\\x00\\x00\\x1d\\x07M\\x03E\\x07\\x01\\x01\\x00\\t\\x01\\x0f\\x00\\x05\\x11\\x00\\x11\\x00\\x00',\n",
              " '\\x00\\x07\\x01\\x05\\x05\\r\\x00\\x13\\x01\\x0c\\x00\\x1eE\\x02\\x00\\x01\\x0cT\\x00\\nN\\x00\\x16E\\x00\\x17\\x1c\\x1f\\x00\\x00\\x03\\x00\\x0e\\x00\\x02\\x01\\x14\\x00\\x1c\\x04\\x00\\x0b\\x00\\x16']"
            ]
          },
          "metadata": {
            "tags": []
          },
          "execution_count": 9
        }
      ]
    },
    {
      "cell_type": "code",
      "metadata": {
        "colab_type": "code",
        "id": "GD00ubXDXzKU",
        "colab": {}
      },
      "source": [
        "\n",
        "# # encoded array of cyphers\n",
        "mxorArrhex = [(i).encode() for i in mxorArr]\n",
        "# type(mxorArr[1]) # int\n",
        "# type(mxorArrhex[0]) # str\n",
        "# # hex() returns a string can't be used in bit wise obration \n",
        "# mxorArrhex[0]"
      ],
      "execution_count": 0,
      "outputs": []
    },
    {
      "cell_type": "code",
      "metadata": {
        "id": "YvTvFnx803YS",
        "colab_type": "code",
        "colab": {}
      },
      "source": [
        ""
      ],
      "execution_count": 0,
      "outputs": []
    },
    {
      "cell_type": "code",
      "metadata": {
        "id": "gePZ8upDqDK5",
        "colab_type": "code",
        "colab": {}
      },
      "source": [
        ""
      ],
      "execution_count": 0,
      "outputs": []
    },
    {
      "cell_type": "code",
      "metadata": {
        "id": "r3DL6HkAEojV",
        "colab_type": "code",
        "colab": {}
      },
      "source": [
        "guessword = [' the ', 'Hello ', ' that ',' have ',' from ', ' with ']\n",
        "bigrams = [ i.encode() for i in \"th, he, in, en, nt, re, er, an, ti, es, on, at, se, nd, or, ar, al, te, co, de, to, ra, et, ed, it, sa, em, ro\".split(', ')]\n",
        "guesswordhex = [i.encode() for i in guessword]\n",
        "\n",
        "# guesswordhex\n"
      ],
      "execution_count": 0,
      "outputs": []
    },
    {
      "cell_type": "code",
      "metadata": {
        "id": "e4WOZ7Uk7lAH",
        "colab_type": "code",
        "outputId": "a1f6e399-ca44-4477-e172-aed196ae19ed",
        "colab": {
          "base_uri": "https://localhost:8080/",
          "height": 117
        }
      },
      "source": [
        "l = xor(b'oehlo',b'hello')\n",
        "print(l)\n",
        "for i in l:\n",
        "  print(i ,i.encode())\n"
      ],
      "execution_count": 0,
      "outputs": [
        {
          "output_type": "stream",
          "text": [
            "\u0007\u0000\u0004\u0000\u0000\n",
            "\u0007 b'\\x07'\n",
            "\u0000 b'\\x00'\n",
            "\u0004 b'\\x04'\n",
            "\u0000 b'\\x00'\n",
            "\u0000 b'\\x00'\n"
          ],
          "name": "stdout"
        }
      ]
    },
    {
      "cell_type": "code",
      "metadata": {
        "id": "WOWXVbbxRLZq",
        "colab_type": "code",
        "outputId": "895ad88d-a97d-4f79-e2f1-7620d098b01d",
        "colab": {
          "base_uri": "https://localhost:8080/",
          "height": 117
        }
      },
      "source": [
        "# seeing what bytes are represented as\n",
        "for i in b'hello':\n",
        "  print(i, hex(i),chr(i))\n",
        "(b'hello'[0] ^ b'day'[0])\n"
      ],
      "execution_count": 0,
      "outputs": [
        {
          "output_type": "stream",
          "text": [
            "104 0x68 h\n",
            "101 0x65 e\n",
            "108 0x6c l\n",
            "108 0x6c l\n",
            "111 0x6f o\n"
          ],
          "name": "stdout"
        },
        {
          "output_type": "execute_result",
          "data": {
            "text/plain": [
              "12"
            ]
          },
          "metadata": {
            "tags": []
          },
          "execution_count": 13
        }
      ]
    },
    {
      "cell_type": "code",
      "metadata": {
        "id": "OULHUdTBODhr",
        "colab_type": "code",
        "outputId": "1650f4c3-3a4b-456f-e0de-6c1a472e3bac",
        "colab": {
          "base_uri": "https://localhost:8080/",
          "height": 100
        }
      },
      "source": [
        "x = b'hello'\n",
        "for k in range(len(x)):\n",
        "  print(x[k:] + x[:k])\n",
        "  \n"
      ],
      "execution_count": 0,
      "outputs": [
        {
          "output_type": "stream",
          "text": [
            "b'hello'\n",
            "b'elloh'\n",
            "b'llohe'\n",
            "b'lohel'\n",
            "b'ohell'\n"
          ],
          "name": "stdout"
        }
      ]
    },
    {
      "cell_type": "code",
      "metadata": {
        "id": "dT4z1xnkvieV",
        "colab_type": "code",
        "outputId": "ebfa23ab-6012-4413-ead1-3e1f4dfc32f8",
        "colab": {
          "base_uri": "https://localhost:8080/",
          "height": 33
        }
      },
      "source": [
        "type(ord('b'))\n",
        "b'\\x00frsta' is bytes"
      ],
      "execution_count": 0,
      "outputs": [
        {
          "output_type": "execute_result",
          "data": {
            "text/plain": [
              "False"
            ]
          },
          "metadata": {
            "tags": []
          },
          "execution_count": 15
        }
      ]
    },
    {
      "cell_type": "code",
      "metadata": {
        "id": "qqp7yjb5q7hy",
        "colab_type": "code",
        "outputId": "17bf09d6-e95d-4e6f-a0f6-c7aa149987b3",
        "colab": {
          "base_uri": "https://localhost:8080/",
          "height": 33
        }
      },
      "source": [
        "def human_readable_format(string):\n",
        "  if type(string) == bytes:\n",
        "    string = string.decode()\n",
        "  # function to be made on a string to a string\n",
        "  return ''.join([(i if 32 <= ord(i) <= 122 else '_') for i in string ])\n",
        "  # function to be maped to a string\n",
        "  # return chr if ( 32<= ord(chr) <= 122) else '_'\n",
        "\n",
        "human_readable_format('a`ePa\\xc3\\xa1\\xc2\\xb5\\xc2\\x94`\\x01AQ\\xc3\\x91t\\xc3\\xa0@`t\\xc2\\x80\\xc3\\x81\\xc3\\x95@\\xc2\\xa1\\x11Ap\\x00\\xc3\\xa0\\x02')\n",
        "\n",
        "\n",
        "\n",
        "\n",
        "\n",
        "\n"
      ],
      "execution_count": 0,
      "outputs": [
        {
          "output_type": "execute_result",
          "data": {
            "text/plain": [
              "'a`ePa______`_AQ__t__@`t______@___Ap____'"
            ]
          },
          "metadata": {
            "tags": []
          },
          "execution_count": 16
        }
      ]
    },
    {
      "cell_type": "code",
      "metadata": {
        "id": "WXCJIjubrJhu",
        "colab_type": "code",
        "colab": {}
      },
      "source": [
        ""
      ],
      "execution_count": 0,
      "outputs": []
    },
    {
      "cell_type": "code",
      "metadata": {
        "id": "shVcgvOqLNPS",
        "colab_type": "code",
        "colab": {}
      },
      "source": [
        "\n",
        "def guesser(arr1, arr2):\n",
        "  'functioni that takes two array of bytes first is the xored array secdond is the array of guess words'\n",
        "  # array that holds other arrays\n",
        "  upperarray = []\n",
        "  \n",
        "  \n",
        "  # to know which xored element is which \n",
        "  for i, m in enumerate(arr1):\n",
        "    # to know which word is from the guess word is used with this m xor m\n",
        "    middlearray = []\n",
        "    # for each element xor array we compare each element of guess words\n",
        "    for j, n in enumerate(arr2):\n",
        "      # for the size of each element in the guesser array we create len(element) elements of lower array compare this to create \n",
        "      # this creates a shifting effect for example on the bigger element resulting in lower number of sentences ex hellohellohello, ohellohellohell, lohellohellohel, ...\n",
        "      # array that holds len(an element of arr2)\n",
        "      lowerarray = []\n",
        "      for k in range(len(n)):\n",
        "        # x = 'hello' 'elloh' 'llohe' 'lohel' 'ohell' -> lower array contains those variation\n",
        "        x = n[k:] + n[:k]\n",
        "        fragment = []\n",
        "        for l in range(0,(len(m)-len(n)),len(n)):\n",
        "          # make a list to keep the comparison in (concatination is costly in terms of time)\n",
        "          fragment.append( xor( m[l:l+len(n)] , x) )\n",
        "        # joins the comparisons into one sentence and append it to lowerarray\n",
        "        lowerarray.append(''.join(fragment))\n",
        "      middlearray.append(lowerarray)\n",
        "    upperarray.append(middlearray)\n",
        "\n",
        "\n",
        "  return upperarray\n",
        "\n",
        "guessed = guesser(mxorArrhex, guesswordhex)\n",
        "\n"
      ],
      "execution_count": 0,
      "outputs": []
    },
    {
      "cell_type": "code",
      "metadata": {
        "id": "aj0lnk-jWf90",
        "colab_type": "code",
        "outputId": "bae50459-9d45-46e7-98a2-a6a8fec3c211",
        "colab": {
          "base_uri": "https://localhost:8080/",
          "height": 1000
        }
      },
      "source": [
        "def printer(arr, guessword):\n",
        "  for i, l in enumerate(arr):\n",
        "    for j, m in enumerate(l):\n",
        "      for k, n in enumerate(m):\n",
        "        print(f'{element_to_mxorm[i]} word {guessword[j][k:]+guessword[j][:k]} :',human_readable_format(n))\n",
        "\n",
        "printer(guessed, guessword)"
      ],
      "execution_count": 0,
      "outputs": [
        {
          "output_type": "stream",
          "text": [
            "m0 XOR m1 word  the  :  rhs&utne> o1#  `_e=7ufa &s i=ttbe1 `hr \n",
            "m0 XOR m1 word the   : tne6&!hc >ts<f t_p =cik$ ro-,= ho 1t_e7 \n",
            "m0 XOR m1 word he  t : hc 6r=e& jh_yfthq5 i_d.$tnbh,i<e* ehq 7t\n",
            "m0 XOR m1 word e  th : e& bn0 &tve;y2he45tur!.phc'hxu1 *tye4 ch\n",
            "m0 XOR m1 word   the :  &t_cu rh_ ;-.e 4ahx7!zle&'<dxt _ht 4t_e\n",
            "m0 XOR m1 word Hello  : HclziuHclro;_#ll_5Hx_ma$Hck$c=_efl_ \\e_lo.\n",
            "m0 XOR m1 word ello H : ejly&_ejlq S<*lo4]eq_n.Lejk',U1lfo1Hql_o F\n",
            "m0 XOR m1 word llo He : ljo6N0ljo>H_5*o \\plqx!FaljhhDx8le Yexlx Hk\n",
            "m0 XOR m1 word lo Hel : li ^c9li Vew5) Hqylr7Ikhli'_iq8o*Htlxo7Heb\n",
            "m0 XOR m1 word o Hell : o&Hsj9o&H_lw6fHexyo=_dbho&O-`q; Be_l_ _elb\n",
            "m0 XOR m1 word  Hello :  Nezj: Nerlty_elxz Urmbk Nb$`rtHol_o4Hrlla\n",
            "m0 XOR m1 word  that  :  rhwru rh_t;y2ha`5 i_`z$ ro)x=ttbae 4t_at.\n",
            "m0 XOR m1 word that   : tnab&utnaj ;-.at45tuvu.$tnf<,= hkt1 `hvt .\n",
            "m0 XOR m1 word hat  t : hgt6&!hgt> o1't 4ah_c!.phgsh,i<a_ 1t_ac  z\n",
            "m0 XOR m1 word at  th : ar 6r=ar >ts82  `_ai7!zlar'hxu5t* ehut7 tf\n",
            "m0 XOR m1 word t  tha : t& bn4t& jhz-f t_tt=7ufet&'<d_  *tya` 7tho\n",
            "m0 XOR m1 word   that :  &t_g! &tvaoyfthua =ciop &s mit _hpt4 chaz\n",
            "m0 XOR m1 word  have  :  na`cu nahe;y.avq5 uvwk$ nf>i=thkvt 4hvve.\n",
            "m0 XOR m1 word have   : hgvs&uhgv_ ;1've45h_ad.$hgq-,=<a_e1 _aae .\n",
            "m0 XOR m1 word ave  h : ape6&=ape> s80e 4_akr!.lapbh,u5vo 1huvr  f\n",
            "m0 XOR m1 word ve  ha : vc 6n4vc >hz/#  _tvx7!fevc'hd_\"e* yabe7 ho\n",
            "m0 XOR m1 word e  hav : e& _g#e& vam<f huce=7iore&' mk1 *hpvq 7hax\n",
            "m0 XOR m1 word   have :  &hwp0 &h_v_yfhabp =_`xa &o)zxt bage4 _avk\n",
            "m0 XOR m1 word  from  :  `ryku `rqm;y roy5 _enc$ `u'a=tfxo_ 4feom.\n",
            "m0 XOR m1 word from   : fto_&uftos ;?4om45foxl.$fth%,=2rem1 rrxm .\n",
            "m0 XOR m1 word rom  f : rim6&3rim> _+)m 4srrz!.brijh,_&og 1ffoz  h\n",
            "m0 XOR m1 word om  fr : ok 6`'ok >fi6+  rgop7!hvok'hjo;m* wr_m7 f_\n",
            "m0 XOR m1 word m  fro : m& pt:m& xrt4f ffzm=7g_km&'._r9 *fcoy 7fra\n",
            "m0 XOR m1 word   from :  &fdi8 &flovyffr_x =qsai &a:cpt lr_m4 qroc\n",
            "m0 XOR m1 word  with  :  qibnu qijh;y1it_5 j_uf$ qn<d=twcty 4w_th.\n",
            "m0 XOR m1 word with   : wot_&uwotv ;./th45wtci.$wos ,=#i_h1 cich .\n",
            "m0 XOR m1 word ith  w : irh6&\"irh> l02h 4bii_!.siroh,j=tb 1w_t_  y\n",
            "m0 XOR m1 word th  wi : tn 6q<tn >wr-.  c_tu7!ymtn'h_t h* fi`h7 wg\n",
            "m0 XOR m1 word h  wit : h& ao!h& iio1f w_ah=7vgph&'?ei< *wxt_ 7wiz\n",
            "m0 XOR m1 word   with :  &w_r= &wwtsyfwi`_ =`hzl &p!xut _ieh4 `itf\n",
            "m0 XOR m2 word  the  :  shh&ut_e' e_<!!hge=2tu  'o-,2ltle= sho=\n",
            "m0 XOR m2 word the   : toe-&!hr 'tyqy!utj =fhxe ss i28ha =toe*=\n",
            "m0 XOR m2 word he  t : hb -r=e7 sht4yuiy/ ize=eto_eif$e$ ihb *i\n",
            "m0 XOR m2 word e  th : e' yn0 7toe14-id</tuw =1hb;e=z) $tue' _u\n",
            "m0 XOR m2 word   the :  'tecu chb 1`1d!<_hx2 i-e';1!wl phx 'tbx\n",
            "m0 XOR m2 word Hello  : HblaiuHrlko1\\<mms/Hx_lreHbw)&2_ehlr Oefqo)\n",
            "m0 XOR m2 word ello H : eklb&_e_lh Yq5mn<Geq_o=_ekw*iZ)lho=Hblfr A\n",
            "m0 XOR m2 word llo He : lko-N0l_o'Htx5n!Tjlq_ U lkte_w lk Uekle=Hl\n",
            "m0 XOR m2 word lo Hel : lh Ec9lx Oe_x6!Iyclr2Hx)lh;_,_ o$Hxlko*Uee\n",
            "m0 XOR m2 word o Hell : o'Hhj9o7Hbl__yIdpco=Zeq)o'S %_# Leqlh Bxle\n",
            "m0 XOR m2 word  Hello :  Oeaj: _ekl_4_dmp` Uwlq* O_)%_lHalqo'Hoqlf\n",
            "m0 XOR m2 word  that  :  shlru chft14-i`h/ izaie ss$=2ltlai 'tb_t)\n",
            "m0 XOR m2 word that   : toay&ut_as 1`1`u</tust=etoz1i28het= shki )\n",
            "m0 XOR m2 word hat  t : hft-&!hvt' e_8u!<_h_f =1hfoeif$ap =toa_= _\n",
            "m0 XOR m2 word at  th : as -r=ac 'tyu-!!hgai2 i-as;e=z-t$ ihft*=ta\n",
            "m0 XOR m2 word t  tha : t' yn4t7 shp`y!utnt=2tu$t';1!s8 $tuas *ihh\n",
            "m0 XOR m2 word   that :  'teg! 7toae4yui__ =fh_1 'o-(fl ph_t' _ua_\n",
            "m0 XOR m2 word  have  :  oa_cu _aqe141`wy/ usvxe oz3,2lhevx 'hkke)\n",
            "m0 XOR m2 word have   : hfvh&uhvvb 1_8wd</h_de=ehfm i2$are= oa_x )\n",
            "m0 XOR m2 word ave  h : aqe-&=aae' yu/d!<gakw =-aq_eiz-va =hfvo= a\n",
            "m0 XOR m2 word ve  ha : vb -n4vr 'hpb<!!tnvx2 u$vb;e!s:e$ uaqe*=hh\n",
            "m0 XOR m2 word e  hav : e' eg#e7 oagqy!i_ye=2h_3e';-(d) $h_vb *ua_\n",
            "m0 XOR m2 word   have :  'hlp0 7hfvt4yi`jj =zak  's$?wl lake' b_vl\n",
            "m0 XOR m2 word  from  :  arbku qrhm14?snq/ _`ope ai*$2lfvop 'fxrm)\n",
            "m0 XOR m2 word from   : fuo`&ufeoj 1r+nl</fo_m=efut(i2*rkm= arep )\n",
            "m0 XOR m2 word rom  f : rhm-&3rxm' wf6l!<irr_ =#rhveit>oi =fuog= o\n",
            "m0 XOR m2 word om  fr : oj -`'oz 'fc_4!!z_op2 _7oj;e/`#m$ _rhm*=f_\n",
            "m0 XOR m2 word m  fro : m' kt:m7 ar_yy!gn`m=2fo*m';#;_! $fooj *_rf\n",
            "m0 XOR m2 word   from :  'f_i8 7fuo_4ygssb =trr( '_7&_l brrm' lood\n",
            "m0 XOR m2 word  with  :  piynu `ish14.hut/ j_tue pr1!2lwmtu 'wcih)\n",
            "m0 XOR m2 word with   : wnte&uw_to 1c0ui</wtfh=ewno-i2;iph= pi_u )\n",
            "m0 XOR m2 word ith  w : ish-&\"ich' f_-i!<xiiz =2isseie%tl =wntb= _\n",
            "m0 XOR m2 word th  wi : to -q<t_ 'wx`1!!kftu2 j,to;e>_8h$ jish*=w`\n",
            "m0 XOR m2 word h  wit : h' zo!h7 pie_y!vu_h=2wt1h';2 f$ $wtto *ji_\n",
            "m0 XOR m2 word   with :  'wdr= 7wnty4yvhhg =eii- 'l,=zl siih' _tta\n",
            "m0 XOR m3 word  the  :  ni`4<tve%!`v7  g_e31tc  :ihj6wuke? nhh=\n",
            "m0 XOR m3 word the   : trd%4hh_ %u__r t_q 3ehne nue/6#if ?tre-=\n",
            "m0 XOR m3 word he  t : h_!%`te> qiq>rthv4 gye+etrx /b?d# kh_ -i\n",
            "m0 XOR m3 word e  th : e:!q_y >tmd4>&he34t_t +1h_= __2!#twe: yu\n",
            "m0 XOR m3 word   the :  :umq< jh`!4j:e 3`hv1 _-e:=tgsw!whz :tex\n",
            "m0 XOR m3 word Hello  : H_mi_<H_lin4V7ll_4Hv_ldeH_ql`6_dolp Reaqo)\n",
            "m0 XOR m3 word ello H : evmj4Terlj!\\_>lo3\\e__o+_evqo/^2moo?H_lar A\n",
            "m0 XOR m3 word llo He : lvn%\\ylro%Iqr>o [ql__ C lvr Gs;ml Wevlb=Hl\n",
            "m0 XOR m3 word lo Hel : lu!Mqplq Mdxr= Hvxl_1Hn)lu=Hjz;n#Hzlvo-Uee\n",
            "m0 XOR m3 word o Hell : o:I`xpo>H`mxqrHe_xo3Yeg)o:Uecz8!Keslu Exle\n",
            "m0 XOR m3 word  Hello :  Rdixs Veim_>_el__ [tlg* RxlcywIflso:Hhqlf\n",
            "m0 XOR m3 word  that  :  nid`< jhdu4>&hag4 gya_e nua_6wukak :te_t)\n",
            "m0 XOR m3 word that   : tr`q4<tvaq!4j:at34t_pt+etr_t/6#ibt? nhli )\n",
            "m0 XOR m3 word hat  t : h_u%4hh_t%!`v3t 3`hre +1h_i /b?`w ?tray= _\n",
            "m0 XOR m3 word at  th : an!%`taj %u__&  g_ag1 _-an= __6u# kh_t-=ta\n",
            "m0 XOR m3 word t  tha : t:!q__t> qiujr t_ut31tc$t:=tgw#!#twan -ihh\n",
            "m0 XOR m3 word   that :  :umuh >tm``>rthr` 3ehj1 :ihnbw!wh_t: yua_\n",
            "m0 XOR m3 word  have  :  r`sq< vasd4>:avv4 _pvne r_vj6wibvz :hlke)\n",
            "m0 XOR m3 word have   : h_w`4<h_v`!4v3ve34hrge+eh_ke/6?`ue? ra_x )\n",
            "m0 XOR m3 word ave  h : ald%4tahe%!__$e 3_aet +-alx /_6wf ?h_vh= a\n",
            "m0 XOR m3 word ve  ha : v_!%__v_ %iuh7  _uvv1 c$v_= gw!d# wale-=hh\n",
            "m0 XOR m3 word e  hav : e:!muje> m`b_r hrbe31hj3e:=hn`2!#h_v_ -ua_\n",
            "m0 XOR m3 word   have :  :idby >hdwq>rhaeq 3ya_  :uaysw!kaie: e_vl\n",
            "m0 XOR m3 word  from  :  _sjy< xrjl4>4ro_4 ucofe _oob6wgqor :f_rm)\n",
            "m0 XOR m3 word from   : fhnh4<floh!4x om34fa_m+efhrm/61slm? _rbp )\n",
            "m0 XOR m3 word rom  f : rul%4zrqm%!rl=m 3rr__ +#rup /p%nn ?fho`= o\n",
            "m0 XOR m3 word om  fr : ow!%rnos %gfq?  ufo_1 m7ow= id8l# yrum-=f_\n",
            "m0 XOR m3 word m  fro : m:!cfsm> cs_sr fa_m31fy*m:=f_y:!#fmow -_rf\n",
            "m0 XOR m3 word   from :  :gw_q >fwny>rfr_y 3wrd( :_r`_w!erpm: kood\n",
            "m0 XOR m3 word  with  :  mhq_< iiqi4>%it_4 dxtce mttg6wvjtw :wdih)\n",
            "m0 XOR m3 word with   : wsum4<wwtm!4i;th34wzeh+ewsih/6 hwh? miyu )\n",
            "m0 XOR m3 word ith  w : ini%4kijh%!cw&h 3cigy +2inu /a>uk ?wste= _\n",
            "m0 XOR m3 word th  wi : tr!%cutv %v_j:  d_t_1 _,tr= x_#i# hinh-=w`\n",
            "m0 XOR m3 word h  wit : h:!r_hh> rh`vr wz`h31wb1h:=wfb?!#wvtr -ji_\n",
            "m0 XOR m3 word   with :  :vl`t >wlu_>rwig_ 3fi_- :ji__w!tikh: ztta\n",
            "m0 XOR m4 word  the  :  ni`0=t_e% l12 3j_e7etue 0r:isstde4 uhq(\n",
            "m0 XOR m4 word the   : trd%0ihv %tp<w gvp 71hx  dn7,s'hi 4tie4(\n",
            "m0 XOR m4 word he  t : h_!%due3 qh_ywt__5 c-e= txcr,';e, `hd 4_\n",
            "m0 XOR m4 word e  th : e:!qxx 3tme8y#hv>5t_  =thu&rx;6 ,t_e! ``\n",
            "m0 XOR m4 word   the :  :umu= gh` 8-?e3>ahre ihe0&&d6s xhq !t_m\n",
            "m0 XOR m4 word Hello  : H_mi_=Hvlio8_2l_q5Hr)lr Huj>cs_e`l_ Iexdo3\n",
            "m0 XOR m4 word ello H : evmj0Ue_lj P<;l_>]e_)o=He_j=,_6l`o4Hdlxg [\n",
            "m0 XOR m4 word llo He : lvn%Xxl_o%H_5;o3Vpl_* Uel_irD6?lc \\eml_(Hv\n",
            "m0 XOR m4 word lo Hel : lu!Muql_ Met58 [_ylxeHxll_&_i??o,Hqlmo4@e_\n",
            "m0 XOR m4 word o Hell : o:I`_qo3H`lt6wHvryo7_eqlo0N7`?< Dexln \\ml_\n",
            "m0 XOR m4 word  Hello :  Rdi_r [eilwy_e_rz _ lqo Xc>`<sHilxo!Hqdl_\n",
            "m0 XOR m4 word  that  :  nidd= ghdt8y#hrj5 c-ai  dn3xsstda` !t_it3\n",
            "m0 XOR m4 word that   : tr`q0=t_aq 8-?ag>5t_$t= txg&,s'hmt4 uhu_ 3\n",
            "m0 XOR m4 word hat  t : h_u%0ihrt% l16t3>ahv1 =thqrr,';ax 4tia`( g\n",
            "m0 XOR m4 word at  th : an!%duag %tp8# 3j_ace ihad&rx;2t, `h`t4(t_\n",
            "m0 XOR m4 word t  tha : t:!qx_t3 qhy-w gvtt7etuat0&&d2' ,t_au 4_hr\n",
            "m0 XOR m4 word   that :  :umqi 3tmalywt__a 71h_t 0r:m's xhut! ``ag\n",
            "m0 XOR m4 word  have  :  r`su= _ase8y?ae_5 _$vx  xg$isshmvq !hu_e3\n",
            "m0 XOR m4 word have   : h_w`0=hrv` 816vv>5hv3e= hqp7,s;aze4 iabm 3\n",
            "m0 XOR m4 word ave  h : ald%0uaee% p8!e3>_aa  =hafcr,;2vi 4h`vq( _\n",
            "m0 XOR m4 word ve  ha : v_!%x_vv %hy/2 3vtvre uavu&rd2%e, _awe4(hr\n",
            "m0 XOR m4 word e  hav : e:!mqke3 man<w __ce7eh_ve0&:m%6 ,huvd 4`ae\n",
            "m0 XOR m4 word   have :  :idfx 3hdv_ywhrhp 7-ake 0n3z6s dabe! _ivv\n",
            "m0 XOR m4 word  from  :  _sj_= urjm8y1r_s5 q7op  vt=assf_oy !ffgm3\n",
            "m0 XOR m4 word from   : fhnh0=faoh 8?%o_>5fe*m= fbi?,s5rcm4 gr_e 3\n",
            "m0 XOR m4 word rom  f : rul%0_r_m% _+8m3>srx( =fr_kr,5!oa 4fsoy( u\n",
            "m0 XOR m4 word om  fr : ow!%voo_ %fj6: 3xgoze _ro_&rj!<m, rrnm4(fa\n",
            "m0 XOR m4 word m  fro : m:!cbrm3 crw4w ulzm7efoom0&4_<> ,ffol 4nr_\n",
            "m0 XOR m4 word   from :  :gw_p 3fwouywfaqx 7#rrm 0` c>s jr_m! rzo_\n",
            "m0 XOR m4 word  with  :  mhqx= diqh8y igv5 `,tu  go&dsswet_ !w__h3\n",
            "m0 XOR m4 word with   : wsum0=wztm 8.>t_>5w_1h= wyr:,s$ixh4 vi`` 3\n",
            "m0 XOR m4 word ith  w : ini%0jigh% o0#h3>bic- =widnr,$:td 4wht_( d\n",
            "m0 XOR m4 word th  wi : tr!%gtt_ %wq-? 3i_t_e jitx&r_:'h, ciuh4(wz\n",
            "m0 XOR m4 word h  wit : h:!ryih3 ril1w dwah7ewtth0&%e'; ,w_ti 4_ig\n",
            "m0 XOR m4 word   with :  :vldu 3wltpywwzj_ 72iih 0q;x;s _i`h! cat_\n",
            "m0 XOR m5 word  the  :  ihe50thd) rt0 2f)e=+tc  'n%isptje6!ahm,\n",
            "m0 XOR m5 word the   : tue 5dhe!)tnyu fz$ =_hne sr(,s$hg 6u_e(,\n",
            "m0 XOR m5 word he  t : hx  axe !_hc<utzwa ice+eto_m,'8e\" bip (x\n",
            "m0 XOR m5 word e  th : e= t_u  uae&<!hw2atun +1hb:mx;5 \"t_d5 _d\n",
            "m0 XOR m5 word   the :  =thp0 til &h=e225hx+ _-e':9d6p vhs!5t`i\n",
            "m0 XOR m5 word Hello  : Hxllz0Hemeo&T0l__aHxgldeHbv!cs_enly!]ed`o8\n",
            "m0 XOR m5 word ello H : eqlo5Xelmf Ny9l_2_eqgo+_ekv\",_5lno6Ipldc P\n",
            "m0 XOR m5 word llo He : lqo ]ulln)Hcp9o2Z$lqd C lkumD6<lm ^dylg,H_\n",
            "m0 XOR m5 word lo Hel : lr Hp_lo!Aejp: Zw-lr+Hn)lh:_i?<o\"Hsmyo(Det\n",
            "m0 XOR m5 word o Hell : o=Hey_o IlljsuHw_-o=Ceg)o'R(`?? Jezmz @ilt\n",
            "m0 XOR m5 word  Hello :  Uely_ Hdeli<_e__. Unlg* O_!`<pHglzn5Hm`lw\n",
            "m0 XOR m5 word  that  :  ihaa0 tiht&<!hsfa ica_e sr,xsptjab!5t`mt8\n",
            "m0 XOR m5 word that   : tuat50th`_ &h=af2atujt+eto_9,s$hct6!ahix 8\n",
            "m0 XOR m5 word hat  t : h_t 5dhau) rt4t225h__ +1hfnm,'8av 6u_a_, l\n",
            "m0 XOR m5 word at  th : ai  axat!)tn_! 2f)ai+ _-as:mx;1t\" bitt(,tp\n",
            "m0 XOR m5 word t  tha : t= t_qt !_hghu fz t=+tc$t':9d2$ \"t_`a (xhy\n",
            "m0 XOR m5 word   that :  =thtd  uaar<utzs5 =_hj1 'n%m'p vhwu5 _dal\n",
            "m0 XOR m5 word  have  :  uavp0 h`_e&<=adwa ujvne o_;isphcvs!5hize8\n",
            "m0 XOR m5 word have   : h_ve50hawl &t4vw2ah__e+ehfl(,s8ate6!_a_i 8\n",
            "m0 XOR m5 word ave  h : ake 5xavd) n_#e22)akn +-aq_m,;1vg 6itvm, p\n",
            "m0 XOR m5 word ve  ha : vx  _qve!)hgj0 2z vx+ c$vb:md2&e\" _`ce(,hy\n",
            "m0 XOR m5 word e  hav : e= htfe !aapyu zs7e=+hj3e':%m%5 \"hwwp (dan\n",
            "m0 XOR m5 word   have :  =hacu  ihvc<uhsd$ =ca_  'r,z6p ja`d5 `mv_\n",
            "m0 XOR m5 word  from  :  _rox0 fsfm&<3r__a _yofe ah\"aspfpo_!5fzcm8\n",
            "m0 XOR m5 word from   : foom50frnd &z'o_2afodm+efuu ,s6rmm6!srga 8\n",
            "m0 XOR m5 word rom  f : rrm 5vrol) `n:m22'rrf +#rhwm,5\"oo 6ggoe, _\n",
            "m0 XOR m5 word om  fr : op  sbom!)fts8 2t3op+ m7oj:mj!?m\" pszm(,fj\n",
            "m0 XOR m5 word m  fro : m= fg_m !oriqu t`.m=+fy*m':+_<= \"fdnx (jrw\n",
            "m0 XOR m5 word   from :  =frz_  g_ok<uf`_, =mrd( '_?c>p dryl5 n_ou\n",
            "m0 XOR m5 word  with  :  jit_0 wh_h&<\"ifza jbtce ps9dspwkt_!5waxh8\n",
            "m0 XOR m5 word with   : wtth50wiua &k<tz2awt_h+ewnn%,s'ivh6!bi_d 8\n",
            "m0 XOR m5 word ith  w : iih 5giti) qu!h226iic +2isrm,$9tj 6v_t`, o\n",
            "m0 XOR m5 word th  wi : tu  byth!)woh= 2e(tu+ _,to:m_:$h\" ahah(,wq\n",
            "m0 XOR m5 word h  wit : h= w_dh !_irtu e_5h=+wb1h'::e'8 \"w_u_ (_il\n",
            "m0 XOR m5 word   with :  =wiax  v`tn<uw_f) =_i_- 'm$x;p uibi5 _etp\n",
            "m1 XOR m2 word  the  :  uh_  tye9 _%z!!_re %u_$ !he /8tfe, ghx=\n",
            "m1 XOR m2 word the   : tie; tht 9tb(?!u`_  qiva uthe/lhk ,t_e==\n",
            "m1 XOR m2 word he  t : hd ;the1 mhom?uim: tmd3atiy-e_pe. xhv =i\n",
            "m1 XOR m2 word e  th : e! ohe 1tqe*mkid(:th`!35hd<-1g_ .tde3 iu\n",
            "m1 XOR m2 word   the :  !tse  eh_ *9wd!(nhe%!g)e!<y-j8 zhi 3tux\n",
            "m1 XOR m2 word Hello  : Hdlwo Htluo*_zmmg:Heim_aHdpa*/Peblc [eqqo'\n",
            "m1 XOR m2 word ello H : emlt He_lv B(smn(Relin3_empbeG_lbo,Hvlqr O\n",
            "m1 XOR m2 word llo He : lmo;Hel_o9Ho!sn!@_llj![$lms-_jtla De_lr=Hb\n",
            "m1 XOR m2 word lo Hel : ln Sell_ Qef!p!Imvlo%Iv-ln<E cto.Hil_o=Uek\n",
            "m1 XOR m2 word o Hell : o!H_llo1H_lf\"?Iddvo Md_-o!Th)cw Fe`l_ Uxlk\n",
            "m1 XOR m2 word  Hello :  Iewlo YeulemWdmdu H`m_. Iya)`8Hkl`o3Hxqlh\n",
            "m1 XOR m2 word  that  :  uhzt  ehxt*mki`_: tm`ga utl1/8tfax 3tu_t'\n",
            "m1 XOR m2 word that   : tiao  tyam *9w`u(:thdu3ati_ye/lhot, gh_i '\n",
            "m1 XOR m2 word hat  t : h`t; thpt9 _%_u!(nhaq!35h`h-e_paz ,t_ai= s\n",
            "m1 XOR m2 word at  th : au ;thae 9tb,k!!_rat%!g)au<-1gyt. xhrt==to\n",
            "m1 XOR m2 word t  tha : t! ohat1 mhk9?!u`_t %u_ t!<y-nl .tdag =ihf\n",
            "m1 XOR m2 word   that :  !tsat 1tqa_m?uiin  qir5 !he$_8 zhmt3 iuas\n",
            "m1 XOR m2 word  have  :  iame  yaoe*mw`wm: hdwva i__ /8hovi 3h_ke'\n",
            "m1 XOR m2 word have   : h`v_  hpv_ *%_wd(:hasd3ah`jhe/paxe, _akx '\n",
            "m1 XOR m2 word ave  h : awe; hage9 b,id!(rav`!3)awy-egyvk ,hrvx= o\n",
            "m1 XOR m2 word ve  ha : vd ;havt 9hk;z!!`_ve%!_ vd<--nne. daee==hf\n",
            "m1 XOR m2 word e  hav : e! save1 qa_(?!iile %ir7e!<e$y_ .hmvv =uaq\n",
            "m1 XOR m2 word   have :  !hzve 1hxvom?i`__  m`e$ !tl3j8 faze3 u_vb\n",
            "m1 XOR m2 word  from  :  grtm  wrvm*mysne: fwn_a gnb(/8f_oa 3form'\n",
            "m1 XOR m2 word from   : fsov  fcot *+mnl(:frjl3afss`e/_ram, urrp '\n",
            "m1 XOR m2 word rom  f : rnm; fr_m9 l?pl!(_roh!3'rnq-eijoc ,faop= a\n",
            "m1 XOR m2 word om  fr : ol ;fro_ 9fx\"r!!nhom%!u3ol<-#_wm. jr_m==fu\n",
            "m1 XOR m2 word m  fro : m! _rom1 _re ?!gzum %ga.m!<k7`u .f_o_ =_rh\n",
            "m1 XOR m2 word   from :  !fiom 1fkogm?gsgw  cs_, !z_*b8 hrcm3 _ooj\n",
            "m1 XOR m2 word  with  :  vioh  fimh*mhhu`: wlu_a vuy-/8wgtd 3wtih'\n",
            "m1 XOR m2 word with   : whts  wxtq *:vui(:wiqi3awhhee/oizh, diiu '\n",
            "m1 XOR m2 word ith  w : iuh; wieh9 _$ki!(mitm!36iut-exqtf ,wztu= p\n",
            "m1 XOR m2 word th  wi : ti ;wity 9wc9w!!_sth%!d(ti<-2flh. _igh==wn\n",
            "m1 XOR m2 word h  wit : h! lith1 ni_%?!vanh %vz5h!<z,_p .wet_ =jis\n",
            "m1 XOR m2 word   with :  !wrth 1wptbm?vh_r  rhg) !kd1g8 yixh3 jtto\n",
            "m1 XOR m3 word  the  :  hiv2itpe;!_/q  sie.&um$ <n f+#uae. zh_=\n",
            "m1 XOR m3 word the   : ttd32=h_ ;ug\"4 tod .ri`a hr-#+wil .tfe:=\n",
            "m1 XOR m3 word he  t : hy!3f!e8 oijg4thb! znd%att_h#_kd) zhk :i\n",
            "m1 XOR m3 word e  th : e<!gz, 8tsd/g`he'!tfc!%5hy:hwcf!)tfe. nu\n",
            "m1 XOR m3 word   the :  <u_wi lh_!/3_e 'uhk&!q)e<:<kn#!_hk .trx\n",
            "m1 XOR m3 word Hello  : Hym__iH_lwn/_qllh!HkjmjaHyv$l+Kdela Fevqo'\n",
            "m1 XOR m3 word ello H : epm_2_etlt!G\"xlo'Iebjn%_epv'#Cfmeo.Hklvr O\n",
            "m1 XOR m3 word llo He : lpn3Z,lto;Ij+xo Odlbi!M$lpuhKnomf Feblu=Hb\n",
            "m1 XOR m3 word lo Hel : ls![w%lw Sdc+_ Hbmla&I`-ls:_fgon)Hklbo:Uek\n",
            "m1 XOR m3 word o Hell : o<Iv_%o8H_mc(4Hekmo.Ndi-o<R-ogl!Aebla Rxlk\n",
            "m1 XOR m3 word  Hello :  Td__& Pewm`g\\elkn Fcmi. T_$od#Illbo.H_qlh\n",
            "m1 XOR m3 word  that  :  hirfi lhzu/g`has! zn`qa hr)w+#uaaz .tr_t'\n",
            "m1 XOR m3 word that   : tt`g2itpao!/3_at'!tfgu%att_<#+wiht. zh_i '\n",
            "m1 XOR m3 word hat  t : h_u32=hyt;!_/ut 'uhor!%5h_nh#_k`_ .tfan= s\n",
            "m1 XOR m3 word at  th : ah!3f!al ;ug&`  siaz&!q)ah:hwcbu) zhot:=to\n",
            "m1 XOR m3 word t  tha : t<!gz(t8 oin34 to`t.&um t<:<kjw!)tfaz :ihf\n",
            "m1 XOR m3 word   that :  <u_s= 8ts`_g4thfu .rid5 <n b_#!_hot. nuas\n",
            "m1 XOR m3 word  have  :  t`ewi pamd/g_avb! fgw`a t_>f+#ihvk .h_ke'\n",
            "m1 XOR m3 word have   : h_wv2ihyv_!//uve'!hopd%ah_l-#+k`_e. falx '\n",
            "m1 XOR m3 word ave  h : ajd32!ane;!g&be 'iaxc!%)aj_h#cbwl .hov_= o\n",
            "m1 XOR m3 word ve  ha : vy!3z(v_ ;in1q  o`vk&!m vy:hkjud) faxe:=hf\n",
            "m1 XOR m3 word e  hav : e<!_s?e8 s`y\"4 hfwe.&id7e<: b_f!)hovk :uaq\n",
            "m1 XOR m3 word   have :  <ird, 8hzwjg4haqd .n`s$ <r)un#!aaxe. r_vb\n",
            "m1 XOR m3 word  from  :  zs__i _rtl/grroj! htnha zh'n+#g_oc .fhrm'\n",
            "m1 XOR m3 word from   : fnn_2ifjov!/!fom'!f_il%afnu%#+esfm. hrup '\n",
            "m1 XOR m3 word rom  f : rsl32/rwm;!i5_m 'grak!%'rswh#mqnd .f_ow= a\n",
            "m1 XOR m3 word om  fr : oq!3t;ou ;g_(y  asoc&!c3oq:heyll) hram:=fu\n",
            "m1 XOR m3 word m  fro : m<!u`&m8 _s`*4 funm.&gw.m<:.qdn!)f_oc :_rh\n",
            "m1 XOR m3 word   from :  <ga_$ 8finbg4frhl .`sj, <_:lf#!oram. _ooj\n",
            "m1 XOR m3 word  with  :  khgzi oioi/gcito! youma ks<k+#v`tf .wsih'\n",
            "m1 XOR m3 word with   : wuu_2iwqts!/0_th'!wgri%awun #+th_h. yinu '\n",
            "m1 XOR m3 word ith  w : ihi32>ilh;!x.`h 'vizn!%6ihrh#_jua .wgtr= p\n",
            "m1 XOR m3 word th  wi : tt!3e tp ;vf3_  phtf&!r(tt:htbwi) yizh:=wn\n",
            "m1 XOR m3 word h  wit : h<!d_=h8 lh_/4 wnuh.&vl5h<:?j_k!)wgtf :jis\n",
            "m1 XOR m3 word   with :  <vzf! 8wrugg4wisi .qhq) <m!wc#!_izh. mtto\n",
            "m1 XOR m4 word  the  :  hiv6ht_e; wht 3_he*ru_a 6uren'tne% ahf(\n",
            "m1 XOR m4 word the   : ttd36<hp ;tke1 gbe *&iv$ bi_ nshc %t_e#(\n",
            "m1 XOR m4 word he  t : hy!3b e5 ohf 1t_o  _:d3$t_d: :oe& qhp #_\n",
            "m1 XOR m4 word e  th : e<!g_- 5tse# ehv* tb7!3phs!:t&b &tme5 w`\n",
            "m1 XOR m4 word   the :  <u_sh ah_ #tye3*thor!gle6!nh+' rh` 5tkm\n",
            "m1 XOR m4 word Hello  : Hym_yhHplwo#Htl_e Ho>m_$HsmvonOejlj ]eodo=\n",
            "m1 XOR m4 word ello H : epm_6_eylt Ke_l_*Hef>n3Lezmu _bljo%Hplog U\n",
            "m1 XOR m4 word llo He : lpn3^-lyo;Hfl_o3Belf=![alzn:H+kli Meyll(Hx\n",
            "m1 XOR m4 word lo Hel : ls![s$lz Seol_ [ollerIvhly!Re\"ko&H`lyo#@eq\n",
            "m1 XOR m4 word o Hell : o<Ivz$o5H_loo1Hvflo*_d_ho6I_l\"h Neilz Kmlq\n",
            "m1 XOR m4 word  Hello :  Td_z' ]ewll Ye_fo B7m_k ^dvl!'Hclio5Hfdlr\n",
            "m1 XOR m4 word  that  :  hirbh ahzt# ehr_  _:`g$ bi_tn'tnaq 5tkit=\n",
            "m1 XOR m4 word that   : tt`g6ht_ao #tyag* tb3u3$t_`n nshgt% ahb_ =\n",
            "m1 XOR m4 word hat  t : h_u36<htt; whpt3*thk&!3phwu: :oar %t_aw( i\n",
            "m1 XOR m4 word at  th : ah!3b aa ;tkae 3_ha_r!glab!:t&ft& qhtt#(tu\n",
            "m1 XOR m4 word t  tha : t<!g_)t5 ohbt1 gbat*ru_et6!nh/s &tmaa #_h_\n",
            "m1 XOR m4 word   that :  <u_w< 5tsaw 1t_kt *&irp 6ura:' rhdt5 w`ai\n",
            "m1 XOR m4 word  have  :  t`esh _ame# yaeo  b3wv$ _`len'hgv` 5hb_e=\n",
            "m1 XOR m4 word have   : h_wv6hhtv_ #hpvv* hk$d3$hww_ noape% _aum =\n",
            "m1 XOR m4 word ave  h : ajd36 ace; kage3*ha_7!3la`d: &fvc %htvf( u\n",
            "m1 XOR m4 word ve  ha : vy!3_)vp ;hbvt 3bavor!_evs!:h/qe& mace#(h_\n",
            "m1 XOR m4 word e  hav : e<!_w>e5 saue1 _kve*rirre6!ra8b &hdvp #`ak\n",
            "m1 XOR m4 word   have :  <ir`- 5hzvf 1hr_e *:`ea 6i_v+' nase5 kivx\n",
            "m1 XOR m4 word  from  :  zs__h srtm# wr_g  l n_$ psumn'ftoh 5fqgm=\n",
            "m1 XOR m4 word from   : fnn_6hfgov #fco_* fx=l3$fdnw narim% srle =\n",
            "m1 XOR m4 word rom  f : rsl36.rzm; er_m3*fre?!3bryl: (uok %fgon( _\n",
            "m1 XOR m4 word om  fr : oq!3p:ox ;fqo_ 3lrogr!uvo_!:f<hm& crzm#(fo\n",
            "m1 XOR m4 word m  fro : m<!ud'm5 _rlm1 uxom*rgakm6!_r!j &fwox #nrr\n",
            "m1 XOR m4 word   from :  <gay% 5fion 1faem *4s_i 6gho#' `rjm5 ezop\n",
            "m1 XOR m4 word  with  :  khg_h bioh# figb  _;u_$ ahnhn'wotm 5wj_h=\n",
            "m1 XOR m4 word with   : wuu_6hw_ts #wxt_* wc&i3$w_ur npirh% biw` =\n",
            "m1 XOR m4 word ith  w : ihi36?iah; tieh3*wi_:!3sibi: 9ntn %w_tk( j\n",
            "m1 XOR m4 word th  wi : tt!3a!t_ ;wjty 3_itbr!dmt_!:w'sh& riah#(wt\n",
            "m1 XOR m4 word h  wit : h<!d_<h5 liwh1 dcth*rvzph6!mi:o &wlt_ #_ii\n",
            "m1 XOR m4 word   with :  <vzb  5wrtk 1wz_h *%hgl 6vst&' qiqh5 tatu\n",
            "m1 XOR m5 word  the  :  ohs3etnd7 i-v 2r<e <um$ !imen$t`e'!uhz,\n",
            "m1 XOR m5 word the   : tse631hc!7tu 3 fn1  hi`a uu` nphm 'uie?,\n",
            "m1 XOR m5 word he  t : h_ 6g-e&!chxe3tzct ttd%atix% :le( sid ?x\n",
            "m1 XOR m5 word e  th : e; b_  &u_e=eghw&tthy!%5hd=%t&a (tod! kd\n",
            "m1 XOR m5 word   the :  ;t_ve rir =1_e2& he<!q)e!=qh+$ _hb!!twi\n",
            "m1 XOR m5 word Hello  : H_lz_eHcm_o=_vl_itHepmjaHdqionLedlh!Ies`o6\n",
            "m1 XOR m5 word ello H : ewly3_ejmx U _l_&_elpn%_emqj _aldo'Idlsc ^\n",
            "m1 XOR m5 word llo He : lwo6[ ljn7Hx)_o2N1lls!M$lmr%H+hlg Odmlp,Hs\n",
            "m1 XOR m5 word lo Hel : lt ^v)li!_eq)_ Zc8lo<I`-ln=Me\"ho(Hbmmo?Dez\n",
            "m1 XOR m5 word o Hell : o;Hs_)o&Irlq*3Hwj8o Tdi-o!U`l\"k @ekmn Wilz\n",
            "m1 XOR m5 word  Hello :  Sez_* Nd_lre[e_j; Hymi. Ixil!$Hmlkn!Hz`ly\n",
            "m1 XOR m5 word  that  :  ohwge rivt=eghsrt tt`qa uudtn$t`as!!twmt6\n",
            "m1 XOR m5 word that   : tsab3etn`c =1_af&tth_u%ati_q nphit'!uh_x 6\n",
            "m1 XOR m5 word hat  t : hzt631hgu7 i-rt2& hah!%5h`i% :la_ 'uiak, b\n",
            "m1 XOR m5 word at  th : ao 6g-ar!7tu$g 2r<at<!q)au=%t&et( si`t?,t_\n",
            "m1 XOR m5 word t  tha : t; b_$t&!ch_13 fn5t <um t!=qh/p (to`u ?xhw\n",
            "m1 XOR m5 word   that :  ;t_r1 &u_aie3tzg   hid5 !ima:$ _hfu! kdab\n",
            "m1 XOR m5 word  have  :  sa`ve n`ae=e_adct h_w`a i_sen$hivb!!h_ze6\n",
            "m1 XOR m5 word have   : hzvs3ehgwr =-rvw&thajd%ah`k` nla_e'!iaii 6\n",
            "m1 XOR m5 word ave  h : ame63-apd7 u$ee2&<avy!%)awx% &evm 'i`vz, _\n",
            "m1 XOR m5 word ve  ha : v_ 6_$vc!7h_3v 2n5ve<!m vd=%h/re( o`we?,hw\n",
            "m1 XOR m5 word e  hav : e; _r3e&!_ak 3 zg\"e <id7e!=ma8a (hfwd ?da`\n",
            "m1 XOR m5 word   have :  ;hwe  &ivvxe3hsp1  t`s$ !udv+$ `aqd! wmvs\n",
            "m1 XOR m5 word  from  :  _ry_e `sxm=eur_kt fnnha gojmn$fzoj!!fmcm6\n",
            "m1 XOR m5 word from   : fio_3eftnz =#ao_&tfrsl%afsrh nbrgm'!grpa 6\n",
            "m1 XOR m5 word rom  f : rtm63#ril7 _7_m2&2roq!%'rnp% (voe 'gsor, p\n",
            "m1 XOR m5 word om  fr : ov 6u7ok!7fo*_ 2`&om<!c3ol=%f<km( asnm?,fd\n",
            "m1 XOR m5 word m  fro : m; pa*m&!qrr(3 tt;m <gw.m!=cr!i (funl ?jry\n",
            "m1 XOR m5 word   from :  ;fd_( &geope3f`i9  zsj, !_wo#$ nrhl! y_o_\n",
            "m1 XOR m5 word  with  :  lib_e qhch=edifnt wuuma vtqhn$wato!!wvxh6\n",
            "m1 XOR m5 word with   : wrt_3ewou_ =2ztz&twihi%awhim nsi_h'!vikd 6\n",
            "m1 XOR m5 word ith  w : ioh632iri7 j,gh2&#itt!%6iuu% 9mt` 'vhtw, a\n",
            "m1 XOR m5 word th  wi : ts 6d,tn!7wt1_ 2q=th<!r(ti=%w'ph( phuh?,w_\n",
            "m1 XOR m5 word h  wit : h; az1h&!`ii-3 eo h <vl5h!=ri:l (wnui ?_ib\n",
            "m1 XOR m5 word   with :  ;w_g- &v_tue3w_r<  khq) !jlt&$ _isi! het_\n",
            "m2 XOR m3 word  the  :  iim2itae\"!qbn!!_se.#t_e =r-#$;uoe\" ihb \n",
            "m2 XOR m3 word the   : tud(2=hl \"umo+!ug_ .whs  in f$oib \"tue' \n",
            "m2 XOR m3 word he  t : hx!(f!e) vi`*+uij; zke6 tucefpsd' vhx 't\n",
            "m2 XOR m3 word e  th : e=!_z, )tjd%*_id/;tff 6thx&e2l_!'tje= sh\n",
            "m2 XOR m3 word   the :  =u`wi _hg!%_cd!/ohk# bhe=&1.a;!shg =toe\n",
            "m2 XOR m3 word Hello  : Hxmd_iHllnn%Bnmm`;Hkoly Hxj))$Sdklm Ueklo \n",
            "m2 XOR m3 word ello H : eqmg2_eelm!Mogmn/Seboo6Heqj*fL_mko\"Hxlko H\n",
            "m2 XOR m3 word llo He : lqn(Z,leo\"I`fgn!G_lbl ^elqie_awmh Jeqlh He\n",
            "m2 XOR m3 word lo Hel : lr!@w%lf Jdifd!Ijwla#Hsllr&_#hwn'Hglqo'Hel\n",
            "m2 XOR m3 word o Hell : o=Im_%o)Hgmie+Idcwo.Kezlo=N *ht!Oenlr Oell\n",
            "m2 XOR m3 word  Hello :  Udd_& Aenmj*Cdmct Fflzo Uc)*k;Iblno=Hbllo\n",
            "m2 XOR m3 word  that  :  iiifi _hcu%*_i`_; zkab  in$2$;uoav =toat \n",
            "m2 XOR m3 word that   : tu`_2itaav!%_c`u/;tfbt6 tug1f$oift\" ihft  \n",
            "m2 XOR m3 word hat  t : h_u(2=hht\"!qbju!/ohow 6th_refps`s \"tuas  t\n",
            "m2 XOR m3 word at  th : ai!(f!a_ \"umk_!!_saz# bhai&e2lzu' vh_t' th\n",
            "m2 XOR m3 word t  tha : t=!_z(t) vid_+!ugzt.#t_at=&1.eo!'tjai 'tha\n",
            "m2 XOR m3 word   that :  =u`s= )tj`q*+uino .whwt =r-'p;!shct= shat\n",
            "m2 XOR m3 word  have  :  u`_wi aatd%*c`wj; fbvs  ug3#$;ifvg =hfve \n",
            "m2 XOR m3 word have   : h_wm2ihhvg!%bjwd/;houe6 h_p f$s`qe\" uaqe  \n",
            "m2 XOR m3 word ave  h : akd(2!a_e\"!mk_d!/saxf 6hakceflzwb \"h_vb  h\n",
            "m2 XOR m3 word ve  ha : vx!(z(vl \"id_n!!gzvk# _avx&e.emd' jake' ha\n",
            "m2 XOR m3 word e  hav : e=!`s?e) j`so+!inme.#hwve=&-'r_!'hcvx 'hav\n",
            "m2 XOR m3 word   have :  =iid, )hcw`*+i`y_ .ka`e =n$0a;!oate= oave\n",
            "m2 XOR m3 word  from  :  _sg_i orml%*msnb; hqo_  _t*+$;guoo =fuom \n",
            "m2 XOR m3 word from   : fone2if_oo!%lynl/;f_lm6 foi(f$_shm\" _rhm  \n",
            "m2 XOR m3 word rom  f : rrl(2/rfm\"!cxdl!/_ran 6frrkefbinj \"fooj  f\n",
            "m2 XOR m3 word om  fr : op!(t;od \"gwef!!iioc# prop&e vtl' drrm' fr\n",
            "m2 XOR m3 word m  fro : m=!n`&m) dsjg+!g_tm.#fdom=&#4kv!'fpop 'fro\n",
            "m2 XOR m3 word   from :  =gz_$ )fpnh*+gs`v .erym =`7)i;!armm= arom\n",
            "m2 XOR m3 word  with  :  jh_zi _ivi%*_hug; yjt_  jo1.$;vntj =wnth \n",
            "m2 XOR m3 word with   : wtu`2iw`tj!%_bui/;wgwh6 wtr-f$lhsh\" jish  \n",
            "m2 XOR m3 word ith  w : iii(2>i_h\"!rc_i!/lizk 6wiinefsruo \"wtto  w\n",
            "m2 XOR m3 word th  wi : tu!(e ta \"vl_c!!xrtf# aitu&e1moi' uiih' wi\n",
            "m2 XOR m3 word h  wit : h=!__=h) uhqb+!vfoh.#w_th=&2/ps!'wktu 'wit\n",
            "m2 XOR m3 word   with :  =vaf! )wkum*+vh_s .tibh =q,2l;!pivh= pith\n",
            "m2 XOR m4 word  the  :  iim6htle\" _%k!2vre*wth  7i_ a?t`e) rh_5\n",
            "m2 XOR m4 word the   : tud(6<ha \"ta(.!fj_ *#hee cureakhm )tne>5\n",
            "m2 XOR m4 word he  t : hx!(b e$ vhlm.uzg: _?e et_x7e5we( _hc >a\n",
            "m2 XOR m4 word e  th : e=!__- $tje)mziw\":tb2  1hr=71)z (tae& j_\n",
            "m2 XOR m4 word   the :  =u`sh phg )9fd2\"nhow t-e7=c-$? _hl &tvp\n",
            "m2 XOR m4 word Hello  : HxmdyhHalno)_km_m:Ho;loeHrq_*aWedlf Neryo:\n",
            "m2 XOR m4 word ello H : eqmg6_ehlm A(bm_\"Ref;o _e_qxe_zldo)Hclrz R\n",
            "m2 XOR m4 word llo He : lqn(^-lho\"Hl!bn2J_lf8 H l_r7_$slg Aejlq5H_\n",
            "m2 XOR m4 word lo Hel : lr!@s$lk Jee!a!ZgvlewHe)lx=_ -so(Hlljo>]ev\n",
            "m2 XOR m4 word o Hell : o=Imz$o$Hgle\".Iwnvo*_el)o7Ur)-p @eeli Vplv\n",
            "m2 XOR m4 word  Hello :  Uddz' LenlfmFd_nu B2ll* _x_).?Hmleo&H_ylu\n",
            "m2 XOR m4 word  that  :  iiibh phct)mzisv: _?ate cuv1a?t`a_ &tvtt:\n",
            "m2 XOR m4 word that   : tu`_6htlav )9f`f\":tb6t et__ceakhit) rh_a :\n",
            "m2 XOR m4 word hat  t : h_u(6<het\" _%ou2\"nhk#  1hvi7e5wa_ )tnaj5 n\n",
            "m2 XOR m4 word at  th : ai!(b ap \"ta,z!2vra_w t-ac=71)_t( _hgt>5tr\n",
            "m2 XOR m4 word t  tha : t=!__)t$ vhh9.!fj_t*wth$t7=c- k (taar >ah_\n",
            "m2 XOR m4 word   that :  =u`w< $tja_m.uzcn *#ha1 7i_$5? _hht& j_an\n",
            "m2 XOR m4 word  have  :  u`_sh late)mf`dg: b6vee __a a?hivl &h_ce:\n",
            "m2 XOR m4 word have   : h_wm6hhevg )%oww\":hk!e ehvkreawa_e) nahp :\n",
            "m2 XOR m4 word ave  h : akd(6 are\" a,xd2\"ra_2  -aax7e)_vm )hgv_5 r\n",
            "m2 XOR m4 word ve  ha : vx!(_)va \"hh;k!2j_vow h$vr=7- ie( aape>5h_\n",
            "m2 XOR m4 word e  hav : e=!`w>e$ ja_(.!zcle*wha3e7=_$7z (hhvc >_al\n",
            "m2 XOR m4 word   have :  =ii`- $hcvlm.ist_ *?av  7uv3$? `a_e& vtv_\n",
            "m2 XOR m4 word  from  :  _sg_h brmm)mhs_o: l%ome qox(a?fzod &flzm:\n",
            "m2 XOR m4 word from   : fone6hfvoo )+_n_\":fx8m eferzeayrgm) `rqx :\n",
            "m2 XOR m4 word rom  f : rrl(6.rkm\" o?al2\"_re:  #rxp7e'moe )ftos5 _\n",
            "m2 XOR m4 word om  fr : op!(p:oi \"f_\"c!2dhogw f7oz=7#3pm( orim>5fh\n",
            "m2 XOR m4 word m  fro : m=!nd'm$ drf .!tpum*wfr*m7=q7.r (f_ok >sru\n",
            "m2 XOR m4 word   from :  =gzy% $fpodm.g`mw *1ro( 7_e*,? nrfm& xgow\n",
            "m2 XOR m4 word  with  :  jh__h sivh)myhfj: _>the `tc-a?wata &wwah:\n",
            "m2 XOR m4 word with   : wtu`6hwmtj ):guz\":wc#h ew_i_eahi_h) qij_ :\n",
            "m2 XOR m4 word ith  w : iii(6?iph\" _$zi2\"mi_?  2icu7e6vt` )wotv5 m\n",
            "m2 XOR m4 word th  wi : tu!(a!tl \"w`9f!2ustbw w,t_=72(kh( _irh>5ws\n",
            "m2 XOR m4 word h  wit : h=!__<h$ ui_%.!eknh*wwi1h7=`,5w (w`tn >bin\n",
            "m2 XOR m4 word   with :  =vab  $wktam.v_vr * it- 7j_1)? _i_h& i_tr\n",
            "m2 XOR m5 word  the  :  nhh3et_d. c`i!3z&e 9t_e  u` a<tne+!fhg1\n",
            "m2 XOR m5 word the   : tre-31hr!.t_m,!gf+  mhs  timeahhc +uze\"1\n",
            "m2 XOR m5 word he  t : h_ -g-e7!zhr(,u_kn tqe6 thd(e5te& _iw \"e\n",
            "m2 XOR m5 word e  th : e: y_  7ufe7(xiv.nth_ 6the!(1)y &tcd2 vy\n",
            "m2 XOR m5 word   the :  :teve cik 7_dd3.:he9 bhe !_-$< rhn!2tjt\n",
            "m2 XOR m5 word Hello  : H_la_eHrmbo7@im_anHeuly Hemd*aTejld!Zen_o1\n",
            "m2 XOR m5 word ello H : evlb3_e_ma _m`m_._eluo6Helmge_yljo+Iwln_ Y\n",
            "m2 XOR m5 word llo He : lvo-[ l_n.Hrd`n3F+llv ^elln(_$pli Cd_lm1Ht\n",
            "m2 XOR m5 word lo Hel : lu Ev)lx!Fe_dc![k\"lo9Hsllo!@ -po&Hnm_o\"Ye_\n",
            "m2 XOR m5 word o Hell : o:Hh_)o7Ikl_g,Ivb\"o Qezlo Im)-s Negm_ Jtl_\n",
            "m2 XOR m5 word  Hello :  Rea_* _dblx(Dd_b! H_lzo Hdd).<Hclgn2Hg_l_\n",
            "m2 XOR m5 word  that  :  nhlge ciot7(xirzn tqab  tii1a<tna_!2tjpt1\n",
            "m2 XOR m5 word that   : tray3et_`z 7_d`g.nthxt6 th`_eahhgt+!fhce 1\n",
            "m2 XOR m5 word hat  t : h_t-31hvu. c`mu3.:ham 6thau(e5tar +uzav1 e\n",
            "m2 XOR m5 word at  th : an -g-ac!.t_ix!3z&at9 bhat!(1)_t& _ist\"1ty\n",
            "m2 XOR m5 word t  tha : t: y_$t7!zhv_,!gf/t 9t_at !_- h &tc`f \"ehp\n",
            "m2 XOR m5 word   that :  :ter1 7ufac(,u_o:  mhwt  u`$5< rhju2 vyae\n",
            "m2 XOR m5 word  have  :  ra_ve _`xe7(d`ekn hxvs  h`_ a<hgvn!2hcge1\n",
            "m2 XOR m5 word have   : h_vh3ehvwk 7`mwv.nhaoe6 hawmeatape+!zatt 1\n",
            "m2 XOR m5 word ave  h : ale-3-aad. _izd3.&av_ 6havd(e)_vc +isvg1 y\n",
            "m2 XOR m5 word ve  ha : v_ -_$vr!.hv_i!3f/ve9 _ave!(- je& c`de\"1hp\n",
            "m2 XOR m5 word e  hav : e: er3e7!faam,!_o8e 9hwve !`$7y &hjww \"yag\n",
            "m2 XOR m5 word   have :  :hle  7iovr(,irx+  qa`e  ii3$< na_d2 jpvt\n",
            "m2 XOR m5 word  from  :  _rb_e qsam7(js_cn fko_  fsg(a<ftof!2fp_m1\n",
            "m2 XOR m5 word from   : fho`3efenc 7n_n_.nfrvm6 frneeazrim+!trm_ 1\n",
            "m2 XOR m5 word rom  f : rum-3#rxl. qzcl3.(rot 6frol(e'nok +g`oo1 w\n",
            "m2 XOR m5 word om  fr : ow -u7oz!.fega!3h<om9 prom!(#3sm& ms_m\"1fc\n",
            "m2 XOR m5 word m  fro : m: ka*m7!hrxe,!u_!m 9fdom !n7.q &fyn_ \"wr_\n",
            "m2 XOR m5 word   from :  :f__( 7g_oz(,gaa#  _rym  gz*,< `rdl2 dco_\n",
            "m2 XOR m5 word  with  :  miy_e `hzh7(_hgfn wpt_  wh_-a<wotc!2wkeh1\n",
            "m2 XOR m5 word with   : wste3ew_uf 7_eu_.nwimh6 wiu`eakirh+!eivy 1\n",
            "m2 XOR m5 word ith  w : inh-32ici. `axi3.9itq 6witi(e6utn +v_tj1 f\n",
            "m2 XOR m5 word th  wi : tr -d,t_!.w__d!3y'th9 aith!(2(hh& _hfh\"1wx\n",
            "m2 XOR m5 word h  wit : h: zz1h7!yic`,!dg:h 9w_th !_,5t &wbuz \"fie\n",
            "m2 XOR m5 word   with :  :wdg- 7vgt_(,vzz&  nibh  va1)< qi_i2 uxty\n",
            "m3 XOR m4 word  the  :  the$!tee !x/` 3yie$tt_  *o:fe$uge+ oh_5\n",
            "m3 XOR m4 word the   : the $uhh  ud\"% ged $ hse _s7#epij +tse95\n",
            "m3 XOR m4 word he  t : he  pie- tiig%t_h! p<e6etb_r#1ld/ _h_ 9a\n",
            "m3 XOR m4 word e  th : e  tld -thd,gqhv-!tl1 61ho;rw-a!/tce; m_\n",
            "m3 XOR m4 word   the :   tha! yhe!,3me3-uhat b-e*;&k $!_hn ;tqp\n",
            "m3 XOR m4 word Hello  : Hellk!Hhlln,_`l_b!Ha8lyeHow>leLdcld Seuyo:\n",
            "m3 XOR m4 word ello H : ello$Iealo!D\"il_-Ieh8o6_efw=#_amco+H_luz R\n",
            "m3 XOR m4 word llo He : llo Ldlao Ii+io3Edlh; ^ lftrK hm` Cewlv5H_\n",
            "m3 XOR m4 word lo Hel : lo Hamlb Hd`+j [hmlktHs)le;_f)hn/Hnlwo9]ev\n",
            "m3 XOR m4 word o Hell : o Hehmo-Hem`(%Hvamo$_ez)o*S7o)k!Geglt Qplv\n",
            "m3 XOR m4 word  Hello :  Helhn EelmcgMe_an L1lz* B_>o*$Ijlgo;H_ylu\n",
            "m3 XOR m4 word  that  :  thap! yhau,gqhry! p<abe _s3we$uga_ ;tqtt:\n",
            "m3 XOR m4 word that   : that$!teat!,3mag-!tl5t6etbz&#epint+ ohxa :\n",
            "m3 XOR m4 word hat  t : hat $uhlt !x/dt3-uhe  61hkor#1l`_ +tsam5 n\n",
            "m3 XOR m4 word at  th : at  piay  ud&q 3yiapt b-a_;rw-eu/ _hzt95tr\n",
            "m3 XOR m4 word t  tha : t  tl`t- tim3% ge`t$tt_$t*;&k$p!/tcao 9ah_\n",
            "m3 XOR m4 word   that :   theu -th`xg%t_lu $ hw1 *o:b1$!_hjt; m_an\n",
            "m3 XOR m4 word  have  :  hava! eavd,gmaeh! l5vse bz$fe$invn ;hxce:\n",
            "m3 XOR m4 word have   : have$!hlve!,/dvv-!he\"e6ehkm7#el`ye+ saop :\n",
            "m3 XOR m4 word ave  h : ave $ia_e !d&se3-iar1 6-a__r#-ewj +hzv_5 r\n",
            "m3 XOR m4 word ve  ha : ve  l`vh  im1` 3e`vat _$vo;rk$rd/ came95h_\n",
            "m3 XOR m4 word e  hav : e  hewe- h`z\"% _lwe$thw3e*;:b3a!/hjv_ 9_al\n",
            "m3 XOR m4 word   have :   hard -hawig%hr_d $<a`  *s3u $!ga_e; qtv_\n",
            "m3 XOR m4 word  from  :  froi! krol,gcr_`! b&o_e li=ne$g_of ;fkzm:\n",
            "m3 XOR m4 word from   : from$!f_om!,!wo_-!fv;m6efxt?#ebs`m+ _rvx :\n",
            "m3 XOR m4 word rom  f : rom $grbm !j5jm3-grk9 6#revr##vnb +fiot5 _\n",
            "m3 XOR m4 word om  fr : om  bso`  g_(h 3ksoit p7og;re7kl/ mrtm95fh\n",
            "m3 XOR m4 word m  fro : m  fvnm- fsc*% u_nm$tfd*m*;4q*i!/fyov 9sru\n",
            "m3 XOR m4 word   from :   frkl -frnag%fabl $2ry( *_ l($!irdm; _gow\n",
            "m3 XOR m4 word  with  :  witl! ziti,grige! s=t_e _r&ke$vftc ;wpah:\n",
            "m3 XOR m4 word with   : with$!wdth!,0lt_-!wm h6ewco:#esh_h+ lim_ :\n",
            "m3 XOR m4 word ith  w : ith $viyh !_.qh3-vip< 62i_sr#2mug +wrtq5 m\n",
            "m3 XOR m4 word th  wi : th  shte  ve3m 3zhtlt a,tb;rt,pi/ _ioh95ws\n",
            "m3 XOR m4 word h  wit : h  wmuh- whx/% dduh$tw_1h*;%j1l!/wbts 9bin\n",
            "m3 XOR m4 word   with :   wipi -wiudg%wzyi $#ib- *l;w-$!xi_h; n_tr\n",
            "m3 XOR m5 word  the  :  si`!,tvd,!fjb 2u=e.:the =s%fe'uie)!_h`1\n",
            "m3 XOR m5 word the   : tod%!xh_!,uzg' fi0 .nhe  io(#esid )uge%1\n",
            "m3 XOR m5 word he  t : hb!%ude>!xiw\"'tzdu zre  tubm#1od! _ij %e\n",
            "m3 XOR m5 word e  th : e'!qii >udd2\"shw!utf_  thx'mw-b!!tad/ qy\n",
            "m3 XOR m5 word   the :  'umd, jii!2voe2!!hk: the='9k '!uhl!/tmt\n",
            "m3 XOR m5 word Hello  : Hbmin,H_m`n2Jbl_nuHkvlo Hxk!leOdmlf!Gei_o1\n",
            "m3 XOR m5 word ello H : ekmj!Dermc!Zgkl_!_ebvo Heqk\"#_bmmo)Ijli_ Y\n",
            "m3 XOR m5 word llo He : lkn%Iilrn,Iwnko2I0lbu HelqhmK kmn Adclj1Ht\n",
            "m3 XOR m5 word lo Hel : lh!Md`lq!Dd_nh Zd9la:Hellr'_f)kn!Hlmco%Ye_\n",
            "m3 XOR m5 word o Hell : o'I`m`o>Iim_m'Hwm9o.Rello=O(o)h!Ieem` Mtl_\n",
            "m3 XOR m5 word  Hello :  Odimc Vd`m_\"Oe_m: F_llo Ub!o*'Idlen/H`_l_\n",
            "m3 XOR m5 word  that  :  sidu, jimu2\"shsuu zrat  io,we'uia_!/tmpt1\n",
            "m3 XOR m5 word that   : to`q!,tv`x!2voaf!utf_t  tuf9#esi`t)!_hde 1\n",
            "m3 XOR m5 word hat  t : hfu%!xh_u,!fjft2!!hon  th_sm#1o`u )ugaq1 e\n",
            "m3 XOR m5 word at  th : as!%udaj!,uzcs 2u=az: thai'mw-fu! _int%1ty\n",
            "m3 XOR m5 word t  tha : t'!qimt>!xisv' fi4t.:that='9k$s!!ta`_ %ehp\n",
            "m3 XOR m5 word   that :  'um`x >ud`f\"'tz`! .nhat =s%b1'!uhhu/ qyae\n",
            "m3 XOR m5 word  have  :  o`sd, v`zd2\"oaddu f_ve  uf;fe'i`vl!/hdge1\n",
            "m3 XOR m5 word have   : hfw`!,h_wi!2jfvw!uhole  h_q(#eo`we)!gast 1\n",
            "m3 XOR m5 word ave  h : aqd%!dahd,!zcqe2!=ax_  hakbm#-fwd )inv`1 y\n",
            "m3 XOR m5 word ve  ha : vb!%imv_!,istb 2i4vk: havx'mk$qd! a`ye%1hp\n",
            "m3 XOR m5 word e  hav : e'!m`ze>!d`dg' z`#e.:have='%b3b!!hhwj %yag\n",
            "m3 XOR m5 word   have :  'idwi >imww\"'hsw0 .rave =o,u '!ia_d/ mpvt\n",
            "m3 XOR m5 word  from  :  asjl, xscl2\"ar_lu hhom  _u\"ne'gsod!/fw_m1\n",
            "m3 XOR m5 word from   : funh!,flna!2duo_!uf_um  foh #easnm)!irj_ 1\n",
            "m3 XOR m5 word rom  f : rhl%!jrql,!tphm2!3raw  frrjm##unl )g_oh1 w\n",
            "m3 XOR m5 word om  fr : oj!%g_os!,g`mj 2g'oc: frop'me7hl! os`m%1fc\n",
            "m3 XOR m5 word m  fro : m'!cscm>!js_o' ts:m.:from='+q*j!!f_nb %wr_\n",
            "m3 XOR m5 word   from :  'gwna >g_n_\"'f`n8 ._rom =a?l('!grfl/ cco_\n",
            "m3 XOR m5 word  with  :  phqi, ihxi2\"pifiu ysth  jn9ke'vhta!/wleh1\n",
            "m3 XOR m5 word with   : wnum!,wwud!2untz!uwgnh  wts%#ephuh)!xiqy 1\n",
            "m3 XOR m5 word ith  w : isi%!_iji,!eksh2!\"izr  wiiom#2nui )vftm1 f\n",
            "m3 XOR m5 word th  wi : to!%vetv!,v_vo 2v<tf: witu'mt,si! _h_h%1wx\n",
            "m3 XOR m5 word h  wit : h'!rhxh>!_hfj' eh!h.:with=':j1o!!w`ug %fie\n",
            "m3 XOR m5 word   with :  'vlud >veuz\"'w_u= .mith =p$w-'!vi_i/ rxty\n",
            "m4 XOR m5 word  the  :  si`%-t_d, j-g !x<e*nt_  7hwe #tfe\"!`hy$\n",
            "m4 XOR m5 word the   : tod%%yhv!,tv \" ud1 *:hse ctz  whk \"u_e<$\n",
            "m4 XOR m5 word he  t : hb!%qee3!xh_e\"tiit _&e6et_y? tke. viq <p\n",
            "m4 XOR m5 word e  th : e'!qmh 3ude>evhd,ttb+ 61hr<?thf .tjd4 hl\n",
            "m4 XOR m5 word   the :  'um`- gii >1je!, hon b-e7<khe# zhg!4tta\n",
            "m4 XOR m5 word Hello  : Hbmij-Hvm`o>_glmctHo\"lyeHrpso Keblm!\\epho+\n",
            "m4 XOR m5 word ello H : ekmj%Ee_mc V nln,_ef\"o6_e_pp Hflbo\"Iqlpk C\n",
            "m4 XOR m5 word llo He : lkn%Mhl_n,H_)no!D1lf! ^ l_s?Heola Jdxls$Hn\n",
            "m4 XOR m5 word lo Hel : lh!M`al_!Der)m Ii8lenHs)lx<Weloo.Hgmxo<Leg\n",
            "m4 XOR m5 word o Hell : o'I`iao3Iilr*\"Hd`8o*_ez)o7Tzlll Fenm_ Talg\n",
            "m4 XOR m5 word  Hello :  Odiib [d`lqeJem`; B+lz* _yslo#Hklnn4Hyhld\n",
            "m4 XOR m5 word  that  :  sidq- gimt>evh`xt _&abe ct_t #tfav!4ttet+\n",
            "m4 XOR m5 word that   : to`q%-t_`x >1jau,ttb/t6et__k  whot\"!`h_p +\n",
            "m4 XOR m5 word hat  t : hfu%%yhru, j-ct!, hk: 61hvh? tkaz \"u_ah$ _\n",
            "m4 XOR m5 word at  th : as!%qeag!,tv$v !x<a_n b-ac<?thbt. viut<$tc\n",
            "m4 XOR m5 word t  tha : t'!qmlt3!xh_1\" ud5t*nt_$t7<khaw .tj`` <phj\n",
            "m4 XOR m5 word   that :  'umdy 3udaje\"tim  *:hw1 7hwat# zhcu4 hla_\n",
            "m4 XOR m5 word  have  :  o`s`- _`ze>ejawit b/vse __ie #hovg!4h_re+\n",
            "m4 XOR m5 word have   : hfw`%-hrwi >-cvd,thk8e6ehvjz  kaxe\"!_aja +\n",
            "m4 XOR m5 word ave  h : aqd%%eaed, v$te!,<a_+ 6-aay? hbvk \"iuvy$ c\n",
            "m4 XOR m5 word ve  ha : vb!%mlvv!,h_3g !d5von _$vr<?haue. j`be<$hj\n",
            "m4 XOR m5 word e  hav : e'!md_e3!dah \" im\"e*nhw3e7<wavf .hcwq <la_\n",
            "m4 XOR m5 word   have :  'idsh 3imv_e\"h`z1 *&a`  7t_ve# fatd4 tevn\n",
            "m4 XOR m5 word  from  :  asjh- uscm>edrnat l<o_e qnpm #f_oo!4fnkm+\n",
            "m4 XOR m5 word from   : funh%-fana >#pol,tfx!m6efesr  eram\"!rrsi +\n",
            "m4 XOR m5 word rom  f : rhl%%kr_l, x7mm!,2re# 6#rxq? fqoc \"gfoq$ m\n",
            "m4 XOR m5 word om  fr : oj!%c_o_!,fl*o !j&ogn p7oz<?frlm. ds_m<$fy\n",
            "m4 XOR m5 word m  fro : m'!cwbm3!jrq(\" g_;m*nfd*m7<yron .fpny <brd\n",
            "m4 XOR m5 word   from :  'gwj` 3g_ose\"fsc9 *(ry( 7zmom# hrml4 zvof\n",
            "m4 XOR m5 word  with  :  phqm- dhxh>euiudt _'t_e `ukh #wgtj!4wuph+\n",
            "m4 XOR m5 word with   : wnum%-wzud >2kti,twc:h6ew_hw  tizh\"!cihl +\n",
            "m4 XOR m5 word ith  w : isi%%zigi, i,vh!,#i_& 62ict? wjtf \"v_tt$ _\n",
            "m4 XOR m5 word th  wi : to!%rdt_!,ww1j !_=tbn a,t_<?wiwh. uh`h<$wb\n",
            "m4 XOR m5 word h  wit : h'!rlyh3!_ij-\" ve h*nw_1h7<hitk .wku_ <si_\n",
            "m4 XOR m5 word   with :  'vlqe 3vetve\"whx< *9ib- 7kvth# yivi4 kmtc\n"
          ],
          "name": "stdout"
        }
      ]
    },
    {
      "cell_type": "code",
      "metadata": {
        "id": "FoD6B9P5eCMB",
        "colab_type": "code",
        "outputId": "c491c63f-fc09-483c-ab8d-514e66811f67",
        "colab": {
          "base_uri": "https://localhost:8080/",
          "height": 84
        }
      },
      "source": [
        "#  c1 Xor C2 = m1 xor m2 \n",
        "# if we xor part of m1 (guess word )\n",
        "# m1 xor m2 xor m1 = m2\n",
        "# mxorm 11 from(the) word: time:\n",
        "guesser([mxorArrhex[11]],[b'time'])"
      ],
      "execution_count": 0,
      "outputs": [
        {
          "output_type": "execute_result",
          "data": {
            "text/plain": [
              "[[[\"tsmhg,mrugmr|elvz'memi{etilm1(qerifdfiot\",\n",
              "   'iweyz(echcecaadgg#etpmstimd|,,ytomnu{mge',\n",
              "   'm\\x7ftd~ t~lkt~eiuzc+titebimeua($hike\\x7fh\\x7fevx',\n",
              "   'eni`v1izdzizmxh~k:im|t\\x7fmethe 5umctblwtk|']]]"
            ]
          },
          "metadata": {
            "tags": []
          },
          "execution_count": 19
        }
      ]
    },
    {
      "cell_type": "code",
      "metadata": {
        "id": "Ofk_LokdNAp-",
        "colab_type": "code",
        "colab": {}
      },
      "source": [
        "# new plan instead of the range of ascii 22 to 108 make it like the recquirement exactly letters and space.\n",
        "# the ascii of space start with 00..... while letter ascii start with 01.....\n",
        "# so if we xor space with space and letter with letter it would get 00 while letter with space is 01 so we can figure out where the spaces are and the length of the words"
      ],
      "execution_count": 0,
      "outputs": []
    }
  ]
}
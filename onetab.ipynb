{
  "nbformat": 4,
  "nbformat_minor": 0,
  "metadata": {
    "colab": {
      "name": "onetab.ipynb",
      "provenance": [],
      "collapsed_sections": [],
      "toc_visible": true,
      "authorship_tag": "ABX9TyMRVqKb0Qij2KloybP4IITq",
      "include_colab_link": true
    },
    "kernelspec": {
      "name": "python3",
      "display_name": "Python 3"
    }
  },
  "cells": [
    {
      "cell_type": "markdown",
      "metadata": {
        "id": "view-in-github",
        "colab_type": "text"
      },
      "source": [
        "<a href=\"https://colab.research.google.com/github/kataya1/OnetimePadMultCypherKeyDecryption/blob/master/onetab.ipynb\" target=\"_parent\"><img src=\"https://colab.research.google.com/assets/colab-badge.svg\" alt=\"Open In Colab\"/></a>"
      ]
    },
    {
      "cell_type": "code",
      "metadata": {
        "id": "eceRog-pOJmI",
        "colab_type": "code",
        "outputId": "cd212095-8a3b-454a-810b-40021ddd55ce",
        "colab": {
          "base_uri": "https://localhost:8080/",
          "height": 34
        }
      },
      "source": [
        "def xor(word1, word2):\n",
        "  'takes two byte strings xor each char'\n",
        "  arr = []\n",
        "  for i, j in zip(word1,word2):\n",
        "    arr.append(chr(i^j))\n",
        "  return ''.join(arr)\n",
        "\n",
        "xor(b'hello',b'aloha')"
      ],
      "execution_count": 41,
      "outputs": [
        {
          "output_type": "execute_result",
          "data": {
            "text/plain": [
              "'\\t\\t\\x03\\x04\\x0e'"
            ]
          },
          "metadata": {
            "tags": []
          },
          "execution_count": 41
        }
      ]
    },
    {
      "cell_type": "code",
      "metadata": {
        "id": "l1YE2oci1XI6",
        "colab_type": "code",
        "outputId": "332bbda4-fb55-42d6-dd4e-f0954faf29e8",
        "colab": {
          "base_uri": "https://localhost:8080/",
          "height": 454
        }
      },
      "source": [
        "# gonna use bytes instead of hex since it preserve the zeros at the begging \n",
        "# fuck this is annoying. broject over too much headache and time wasted\n",
        "c1 = b'AEDE0273C4C0DA3477F919018A05DA71A2530F5A0020E4E0ACA80FF2DE'\n",
        "c2 = b'A8C80426C2DEC16D31F90D1497129475A45447561D74EEF1B8BF0FFCDC'\n",
        "c3 = b'A9D30426D3C7CB202EB8050E9717C734A5484A13126CE0FDABA212FBDF'\n",
        "c4 = b'B49B166FDAC58E2A25F90A159914D134B84E0F551677A7FFB6A512FBC1'\n",
        "c5 = b'B49B126ED7C5C26D20EA07149D40C771B2555D565373E8F4ADBC07E1D7'\n",
        "c6 = b'B3DE1763C489DC2822EB0B40970ED134A54942565370E6F6F9A003EAC1'\n",
        "\n",
        "# chr() hexa to chars\n",
        "# m1 xor m2 \n",
        "#  there is alot of 000 int the message which mean there are words that are reused\n",
        "mxorArr = []\n",
        "element_to_mxorm = []\n",
        "arr = [c1, c2, c3, c4, c5, c6]\n",
        "for i,mi in enumerate(arr):\n",
        "  for j,mj in enumerate(arr[i:]):\n",
        "    if(i!= i+j):\n",
        "      mm = xor(mi,mj)\n",
        "      mxorArr.append(mm)\n",
        "      element_to_mxorm.append(f'm{i} XOR m{j+i}')\n",
        "      print(f'm{i} XOR m{j+i} = {str(mm)}')\n",
        "  print()\n",
        "\n"
      ],
      "execution_count": 42,
      "outputs": [
        {
          "output_type": "stream",
          "text": [
            "m0 XOR m1 = \u0000}\u0007}\u0000\u0006\u0005\u0005\u0000\u0006\u0007u\u0007p\u0005p\u0004\u0006\u0000\u0000\u0001}\u0001\u0005\u0001v\u0001\u0007}u\u0000\u0004\u0000\u0006\u0000\u0007\u0004q\u0000w\u0001t\u0005\u0004\u0000q\u0003\u0001\u0003{\u0003~\u0000\u0000\u0000q\u0000\u0006\n",
            "m0 XOR m2 = \u0000|\u0000v\u0000\u0006\u0005\u0005\u0007\u0007\u0000\u0007\u0007\u0003\u0001\u0004\u0005r\u0004\u0001\u0001\f\u0000t\u0001v\u0001\u0002\u0007v\u0004\u0005\u0000\u0007\u0001\u000b\u0004\u0007\u0004r\u0001\u0002\u0004s\u0000\u0004\u0003t\u0000\u0001\u0000\n",
            "\u0001t\u0000p\u0000\u0003\n",
            "m0 XOR m3 = \u0003q}\u0007\u0001\u0004\u0001u\u0007u\u0000\u0005|\u0004\u0001u\u0005\u0002\u0000\u0000\u0001x\u0001\u0004\u0001x\u0001\u0001\u0000p\u0004\u0005\u0003\n",
            "\u0001v\u0000\u0000\u0000t\u0001\u0006\u0005\u0007\u0004\u0003\u0003v\u0003u\u0000\r\u0001t\u0000p\u0007t\n",
            "m0 XOR m4 = \u0003q}\u0007\u0001\u0000\u0001v\u0007\u0003\u0000\u0005\u0007s\u0005p\u0005\u0007\u0003x\u0001\u000e\u0001\u0005\u0001\u0005\u0004\u0005\u0007v\u0000\u0000\u0003\u0000\u0000\u0006\u0005\u0002\u0000w\u0005\u0003\u0005\u0003\u0000\f\u0003\u0004\u0000\u0007\u0003{\u0000q\u0003\u0003\u0000r\n",
            "m0 XOR m5 = \u0003v\u0000\u0000\u0001\u0005\u0001\u0000\u0000\u0000{\t\u0000\u0002\u0001\f\u0005\u0005\u0003{\u0001{\u0004\u0001\u0001v\u0000p\u0000p\u0004\u0005\u0000\u0007\u0001\n",
            "\u0004t\u0000w\u0005\u0003\u0005\u0000\u0000\u0002\u0003\u0006\u0007z\u0000\b\u0000u\u0003s\u0007t\n",
            "\n",
            "m1 XOR m2 = \u0000\u0001\u0007\u000b\u0000\u0000\u0000\u0000\u0007\u0001\u0007r\u0000s\u0004t\u0001t\u0004\u0001\u0000q\u0001q\u0000\u0000\u0000\u0005z\u0003\u0004\u0001\u0000\u0001\u0001\f\u0000v\u0004\u0005\u0000v\u0001w\u0000u\u0000u\u0003z\u0003t\u0001t\u0000\u0001\u0000\u0005\n",
            "m1 XOR m3 = \u0003\fzz\u0001\u0002\u0004p\u0007s\u0007p{t\u0004\u0005\u0001\u0004\u0000\u0000\u0000\u0005\u0000\u0001\u0000\u000e\u0000\u0006}\u0005\u0004\u0001\u0003\f\u0001q\u0004q\u0000\u0003\u0000r\u0000\u0003\u0004r\u0000w\u0000\u000e\u0003s\u0001t\u0000\u0001\u0007r\n",
            "m1 XOR m4 = \u0003\fzz\u0001\u0006\u0004s\u0007\u0005\u0007p\u0000\u0003\u0000\u0000\u0001\u0001\u0003x\u0000s\u0000\u0000\u0000s\u0005\u0002z\u0003\u0000\u0004\u0003\u0006\u0000\u0001\u0001s\u0000\u0000\u0004w\u0000\u0007\u0000}\u0000\u0005\u0003|\u0000\u0005\u0000q\u0003r\u0000t\n",
            "m1 XOR m5 = \u0003\u000b\u0007}\u0001\u0003\u0004\u0005\u0000\u0006||\u0007r\u0004|\u0001\u0003\u0003{\u0000\u0006\u0005\u0004\u0000\u0000\u0001w}\u0005\u0004\u0001\u0000\u0001\u0001\r\u0000\u0005\u0000\u0000\u0004w\u0000\u0004\u0000s\u0000\u0007\u0004\u0001\u0003v\u0000u\u0003\u0002\u0007r\n",
            "\n",
            "m2 XOR m3 = \u0003\r}q\u0001\u0002\u0004p\u0000r\u0000\u0002{\u0007\u0000q\u0000p\u0004\u0001\u0000t\u0001p\u0000\u000e\u0000\u0003\u0007\u0006\u0000\u0000\u0003\r\u0000}\u0004\u0007\u0004\u0006\u0000\u0004\u0001t\u0004\u0007\u0000\u0002\u0003t\u0000\u0007\u0000\u0000\u0000\u0000\u0007w\n",
            "m2 XOR m4 = \u0003\r}q\u0001\u0006\u0004s\u0000\u0004\u0000\u0002\u0000p\u0004t\u0000u\u0007y\u0000\u0002\u0001q\u0000s\u0005\u0007\u0000\u0000\u0004\u0005\u0003\u0007\u0001\r\u0001\u0005\u0004\u0005\u0004\u0001\u0001p\u0000\b\u0000p\u0000\u0006\u0003q\u0001\u0005\u0003s\u0000q\n",
            "m2 XOR m5 = \u0003\n",
            "\u0000v\u0001\u0003\u0004\u0005\u0007\u0007{\u000e\u0007\u0001\u0000\b\u0000w\u0007z\u0000w\u0004u\u0000\u0000\u0001r\u0007\u0006\u0000\u0000\u0000\u0000\u0000\u0001\u0000s\u0004\u0005\u0004\u0001\u0001s\u0000\u0006\u0000r\u0007{\u0000\u0002\u0001\u0001\u0003\u0003\u0007w\n",
            "\n",
            "m3 XOR m4 = \u0000\u0000\u0000\u0000\u0000\u0004\u0000\u0003\u0000v\u0000\u0000{w\u0004\u0005\u0000\u0005\u0003x\u0000v\u0000\u0001\u0000}\u0005\u0004\u0007\u0006\u0004\u0005\u0000\n",
            "\u0001p\u0005\u0002\u0000\u0003\u0004\u0005\u0000\u0004\u0004\u000f\u0000r\u0003r\u0003v\u0001\u0005\u0003s\u0007\u0006\n",
            "m3 XOR m5 = \u0000\u0007}\u0007\u0000\u0001\u0000u\u0007u{\f|\u0006\u0000y\u0000\u0007\u0003{\u0000\u0003\u0005\u0005\u0000\u000e\u0001q\u0000\u0000\u0000\u0000\u0003\r\u0000|\u0004t\u0000\u0003\u0004\u0005\u0000\u0007\u0004\u0001\u0000p\u0004\u000f\u0000\u0005\u0001\u0001\u0003\u0003\u0000\u0000\n",
            "\n",
            "m4 XOR m5 = \u0000\u0007}\u0007\u0000\u0005\u0000v\u0007\u0003{\f\u0007q\u0004|\u0000\u0002\u0000\u0003\u0000u\u0005\u0004\u0000s\u0004u\u0007\u0006\u0004\u0005\u0003\u0007\u0001\f\u0001v\u0000\u0000\u0000\u0000\u0000\u0003\u0000\u000e\u0000\u0002\u0007}\u0003s\u0000\u0004\u0000p\u0007\u0006\n",
            "\n",
            "\n"
          ],
          "name": "stdout"
        }
      ]
    },
    {
      "cell_type": "code",
      "metadata": {
        "id": "j7WHACEQFpwM",
        "colab_type": "code",
        "outputId": "2a8debfa-6df7-4af7-db5c-605bd31a5860",
        "colab": {
          "base_uri": "https://localhost:8080/",
          "height": 34
        }
      },
      "source": [
        "mxorArr[0][1]"
      ],
      "execution_count": 43,
      "outputs": [
        {
          "output_type": "execute_result",
          "data": {
            "text/plain": [
              "'}'"
            ]
          },
          "metadata": {
            "tags": []
          },
          "execution_count": 43
        }
      ]
    },
    {
      "cell_type": "code",
      "metadata": {
        "id": "B_dZgu9vGJX1",
        "colab_type": "code",
        "outputId": "354964f2-f7bb-4d4e-e2c0-651060fe1bb7",
        "colab": {
          "base_uri": "https://localhost:8080/",
          "height": 50
        }
      },
      "source": [
        "def hexStringtoWords(h):\n",
        "  if(type(h) == int):\n",
        "    h = hex(h)[2:]\n",
        "  letters = []\n",
        "  for i in range(0,len(h),2):\n",
        "    letters.append(chr(int(h[i:i+2],16)))\n",
        "  return ''.join(letters)\n",
        "\n",
        "\n",
        "\n",
        "print(hexStringtoWords(0x6160655061e1b59460014151d174e040607480c1d540a111417000e02))\n",
        "print(hexStringtoWords(164079155304582668457912730488801875172117382474705510036955490946562).encode())\n"
      ],
      "execution_count": 44,
      "outputs": [
        {
          "output_type": "stream",
          "text": [
            "a`ePaáµ`\u0001AQÑtà@`tÁÕ@¡\u0011Ap\u0000à\u0002\n",
            "b'a`ePa\\xc3\\xa1\\xc2\\xb5\\xc2\\x94`\\x01AQ\\xc3\\x91t\\xc3\\xa0@`t\\xc2\\x80\\xc3\\x81\\xc3\\x95@\\xc2\\xa1\\x11Ap\\x00\\xc3\\xa0\\x02'\n"
          ],
          "name": "stdout"
        }
      ]
    },
    {
      "cell_type": "code",
      "metadata": {
        "id": "IMlJfGO8K2iI",
        "colab_type": "code",
        "outputId": "7cd6f461-fbe8-4069-afbe-eede4c47f6c7",
        "colab": {
          "base_uri": "https://localhost:8080/",
          "height": 289
        }
      },
      "source": [
        "\n",
        "mxorArr"
      ],
      "execution_count": 45,
      "outputs": [
        {
          "output_type": "execute_result",
          "data": {
            "text/plain": [
              "['\\x00}\\x07}\\x00\\x06\\x05\\x05\\x00\\x06\\x07u\\x07p\\x05p\\x04\\x06\\x00\\x00\\x01}\\x01\\x05\\x01v\\x01\\x07}u\\x00\\x04\\x00\\x06\\x00\\x07\\x04q\\x00w\\x01t\\x05\\x04\\x00q\\x03\\x01\\x03{\\x03~\\x00\\x00\\x00q\\x00\\x06',\n",
              " '\\x00|\\x00v\\x00\\x06\\x05\\x05\\x07\\x07\\x00\\x07\\x07\\x03\\x01\\x04\\x05r\\x04\\x01\\x01\\x0c\\x00t\\x01v\\x01\\x02\\x07v\\x04\\x05\\x00\\x07\\x01\\x0b\\x04\\x07\\x04r\\x01\\x02\\x04s\\x00\\x04\\x03t\\x00\\x01\\x00\\n\\x01t\\x00p\\x00\\x03',\n",
              " '\\x03q}\\x07\\x01\\x04\\x01u\\x07u\\x00\\x05|\\x04\\x01u\\x05\\x02\\x00\\x00\\x01x\\x01\\x04\\x01x\\x01\\x01\\x00p\\x04\\x05\\x03\\n\\x01v\\x00\\x00\\x00t\\x01\\x06\\x05\\x07\\x04\\x03\\x03v\\x03u\\x00\\r\\x01t\\x00p\\x07t',\n",
              " '\\x03q}\\x07\\x01\\x00\\x01v\\x07\\x03\\x00\\x05\\x07s\\x05p\\x05\\x07\\x03x\\x01\\x0e\\x01\\x05\\x01\\x05\\x04\\x05\\x07v\\x00\\x00\\x03\\x00\\x00\\x06\\x05\\x02\\x00w\\x05\\x03\\x05\\x03\\x00\\x0c\\x03\\x04\\x00\\x07\\x03{\\x00q\\x03\\x03\\x00r',\n",
              " '\\x03v\\x00\\x00\\x01\\x05\\x01\\x00\\x00\\x00{\\t\\x00\\x02\\x01\\x0c\\x05\\x05\\x03{\\x01{\\x04\\x01\\x01v\\x00p\\x00p\\x04\\x05\\x00\\x07\\x01\\n\\x04t\\x00w\\x05\\x03\\x05\\x00\\x00\\x02\\x03\\x06\\x07z\\x00\\x08\\x00u\\x03s\\x07t',\n",
              " '\\x00\\x01\\x07\\x0b\\x00\\x00\\x00\\x00\\x07\\x01\\x07r\\x00s\\x04t\\x01t\\x04\\x01\\x00q\\x01q\\x00\\x00\\x00\\x05z\\x03\\x04\\x01\\x00\\x01\\x01\\x0c\\x00v\\x04\\x05\\x00v\\x01w\\x00u\\x00u\\x03z\\x03t\\x01t\\x00\\x01\\x00\\x05',\n",
              " '\\x03\\x0czz\\x01\\x02\\x04p\\x07s\\x07p{t\\x04\\x05\\x01\\x04\\x00\\x00\\x00\\x05\\x00\\x01\\x00\\x0e\\x00\\x06}\\x05\\x04\\x01\\x03\\x0c\\x01q\\x04q\\x00\\x03\\x00r\\x00\\x03\\x04r\\x00w\\x00\\x0e\\x03s\\x01t\\x00\\x01\\x07r',\n",
              " '\\x03\\x0czz\\x01\\x06\\x04s\\x07\\x05\\x07p\\x00\\x03\\x00\\x00\\x01\\x01\\x03x\\x00s\\x00\\x00\\x00s\\x05\\x02z\\x03\\x00\\x04\\x03\\x06\\x00\\x01\\x01s\\x00\\x00\\x04w\\x00\\x07\\x00}\\x00\\x05\\x03|\\x00\\x05\\x00q\\x03r\\x00t',\n",
              " '\\x03\\x0b\\x07}\\x01\\x03\\x04\\x05\\x00\\x06||\\x07r\\x04|\\x01\\x03\\x03{\\x00\\x06\\x05\\x04\\x00\\x00\\x01w}\\x05\\x04\\x01\\x00\\x01\\x01\\r\\x00\\x05\\x00\\x00\\x04w\\x00\\x04\\x00s\\x00\\x07\\x04\\x01\\x03v\\x00u\\x03\\x02\\x07r',\n",
              " '\\x03\\r}q\\x01\\x02\\x04p\\x00r\\x00\\x02{\\x07\\x00q\\x00p\\x04\\x01\\x00t\\x01p\\x00\\x0e\\x00\\x03\\x07\\x06\\x00\\x00\\x03\\r\\x00}\\x04\\x07\\x04\\x06\\x00\\x04\\x01t\\x04\\x07\\x00\\x02\\x03t\\x00\\x07\\x00\\x00\\x00\\x00\\x07w',\n",
              " '\\x03\\r}q\\x01\\x06\\x04s\\x00\\x04\\x00\\x02\\x00p\\x04t\\x00u\\x07y\\x00\\x02\\x01q\\x00s\\x05\\x07\\x00\\x00\\x04\\x05\\x03\\x07\\x01\\r\\x01\\x05\\x04\\x05\\x04\\x01\\x01p\\x00\\x08\\x00p\\x00\\x06\\x03q\\x01\\x05\\x03s\\x00q',\n",
              " '\\x03\\n\\x00v\\x01\\x03\\x04\\x05\\x07\\x07{\\x0e\\x07\\x01\\x00\\x08\\x00w\\x07z\\x00w\\x04u\\x00\\x00\\x01r\\x07\\x06\\x00\\x00\\x00\\x00\\x00\\x01\\x00s\\x04\\x05\\x04\\x01\\x01s\\x00\\x06\\x00r\\x07{\\x00\\x02\\x01\\x01\\x03\\x03\\x07w',\n",
              " '\\x00\\x00\\x00\\x00\\x00\\x04\\x00\\x03\\x00v\\x00\\x00{w\\x04\\x05\\x00\\x05\\x03x\\x00v\\x00\\x01\\x00}\\x05\\x04\\x07\\x06\\x04\\x05\\x00\\n\\x01p\\x05\\x02\\x00\\x03\\x04\\x05\\x00\\x04\\x04\\x0f\\x00r\\x03r\\x03v\\x01\\x05\\x03s\\x07\\x06',\n",
              " '\\x00\\x07}\\x07\\x00\\x01\\x00u\\x07u{\\x0c|\\x06\\x00y\\x00\\x07\\x03{\\x00\\x03\\x05\\x05\\x00\\x0e\\x01q\\x00\\x00\\x00\\x00\\x03\\r\\x00|\\x04t\\x00\\x03\\x04\\x05\\x00\\x07\\x04\\x01\\x00p\\x04\\x0f\\x00\\x05\\x01\\x01\\x03\\x03\\x00\\x00',\n",
              " '\\x00\\x07}\\x07\\x00\\x05\\x00v\\x07\\x03{\\x0c\\x07q\\x04|\\x00\\x02\\x00\\x03\\x00u\\x05\\x04\\x00s\\x04u\\x07\\x06\\x04\\x05\\x03\\x07\\x01\\x0c\\x01v\\x00\\x00\\x00\\x00\\x00\\x03\\x00\\x0e\\x00\\x02\\x07}\\x03s\\x00\\x04\\x00p\\x07\\x06']"
            ]
          },
          "metadata": {
            "tags": []
          },
          "execution_count": 45
        }
      ]
    },
    {
      "cell_type": "code",
      "metadata": {
        "colab_type": "code",
        "id": "GD00ubXDXzKU",
        "colab": {}
      },
      "source": [
        "\n",
        "# # encoded array of cyphers\n",
        "mxorArrhex = [(i).encode() for i in mxorArr]\n",
        "# type(mxorArr[1]) # int\n",
        "# type(mxorArrhex[0]) # str\n",
        "# # hex() returns a string can't be used in bit wise obration \n",
        "# mxorArrhex[0]"
      ],
      "execution_count": 0,
      "outputs": []
    },
    {
      "cell_type": "code",
      "metadata": {
        "id": "YvTvFnx803YS",
        "colab_type": "code",
        "colab": {}
      },
      "source": [
        ""
      ],
      "execution_count": 0,
      "outputs": []
    },
    {
      "cell_type": "code",
      "metadata": {
        "id": "gePZ8upDqDK5",
        "colab_type": "code",
        "colab": {}
      },
      "source": [
        ""
      ],
      "execution_count": 0,
      "outputs": []
    },
    {
      "cell_type": "code",
      "metadata": {
        "id": "r3DL6HkAEojV",
        "colab_type": "code",
        "colab": {}
      },
      "source": [
        "guessword = ['the', 'Hello', 'Dear','good']\n",
        "bigrams = [ i.encode() for i in \"th, he, in, en, nt, re, er, an, ti, es, on, at, se, nd, or, ar, al, te, co, de, to, ra, et, ed, it, sa, em, ro\".split(', ')]\n",
        "guesswordhex = [i.encode() for i in guessword]\n",
        "\n",
        "# guesswordhex\n"
      ],
      "execution_count": 0,
      "outputs": []
    },
    {
      "cell_type": "code",
      "metadata": {
        "id": "e4WOZ7Uk7lAH",
        "colab_type": "code",
        "outputId": "03f5d408-0bf3-423d-d4da-32cac32ce1b0",
        "colab": {
          "base_uri": "https://localhost:8080/",
          "height": 118
        }
      },
      "source": [
        "l = xor(b'oehlo',b'hello')\n",
        "print(l)\n",
        "for i in l:\n",
        "  print(i ,i.encode())\n"
      ],
      "execution_count": 57,
      "outputs": [
        {
          "output_type": "stream",
          "text": [
            "\u0007\u0000\u0004\u0000\u0000\n",
            "\u0007 b'\\x07'\n",
            "\u0000 b'\\x00'\n",
            "\u0004 b'\\x04'\n",
            "\u0000 b'\\x00'\n",
            "\u0000 b'\\x00'\n"
          ],
          "name": "stdout"
        }
      ]
    },
    {
      "cell_type": "code",
      "metadata": {
        "id": "WOWXVbbxRLZq",
        "colab_type": "code",
        "outputId": "9a7bbec0-d47c-47c6-8ac8-42debafa4196",
        "colab": {
          "base_uri": "https://localhost:8080/",
          "height": 118
        }
      },
      "source": [
        "# seeing what bytes are represented as\n",
        "for i in b'hello':\n",
        "  print(i, hex(i),chr(i))\n",
        "(b'hello'[0] ^ b'day'[0])\n"
      ],
      "execution_count": 49,
      "outputs": [
        {
          "output_type": "stream",
          "text": [
            "104 0x68 h\n",
            "101 0x65 e\n",
            "108 0x6c l\n",
            "108 0x6c l\n",
            "111 0x6f o\n"
          ],
          "name": "stdout"
        },
        {
          "output_type": "execute_result",
          "data": {
            "text/plain": [
              "12"
            ]
          },
          "metadata": {
            "tags": []
          },
          "execution_count": 49
        }
      ]
    },
    {
      "cell_type": "code",
      "metadata": {
        "id": "OULHUdTBODhr",
        "colab_type": "code",
        "outputId": "26b8bbfd-fca6-496f-d555-d33978d6069e",
        "colab": {
          "base_uri": "https://localhost:8080/",
          "height": 101
        }
      },
      "source": [
        "x = b'hello'\n",
        "for k in range(len(x)):\n",
        "  print(x[k:] + x[:k])\n",
        "  \n"
      ],
      "execution_count": 50,
      "outputs": [
        {
          "output_type": "stream",
          "text": [
            "b'hello'\n",
            "b'elloh'\n",
            "b'llohe'\n",
            "b'lohel'\n",
            "b'ohell'\n"
          ],
          "name": "stdout"
        }
      ]
    },
    {
      "cell_type": "code",
      "metadata": {
        "id": "dT4z1xnkvieV",
        "colab_type": "code",
        "colab": {
          "base_uri": "https://localhost:8080/",
          "height": 34
        },
        "outputId": "00ed00e5-72d7-4ca5-b637-549db16adfa9"
      },
      "source": [
        "type(ord('b'))\n",
        "b'\\x00frsta' is bytes"
      ],
      "execution_count": 80,
      "outputs": [
        {
          "output_type": "execute_result",
          "data": {
            "text/plain": [
              "False"
            ]
          },
          "metadata": {
            "tags": []
          },
          "execution_count": 80
        }
      ]
    },
    {
      "cell_type": "code",
      "metadata": {
        "id": "qqp7yjb5q7hy",
        "colab_type": "code",
        "colab": {
          "base_uri": "https://localhost:8080/",
          "height": 34
        },
        "outputId": "db0ac59a-0be7-48b2-e454-9c805d00606e"
      },
      "source": [
        "def human_readable_format(string):\n",
        "  if type(string) == bytes:\n",
        "    string = string.decode()\n",
        "  # function to be made on a string to a string\n",
        "  return ''.join([(i if 32 <= ord(i) <= 122 else '_') for i in string ])\n",
        "  # function to be maped to a string\n",
        "  # return chr if ( 32<= ord(chr) <= 122) else '_'\n",
        "\n",
        "human_readable_format('a`ePa\\xc3\\xa1\\xc2\\xb5\\xc2\\x94`\\x01AQ\\xc3\\x91t\\xc3\\xa0@`t\\xc2\\x80\\xc3\\x81\\xc3\\x95@\\xc2\\xa1\\x11Ap\\x00\\xc3\\xa0\\x02')\n",
        "\n",
        "\n",
        "\n",
        "\n",
        "\n",
        "\n"
      ],
      "execution_count": 70,
      "outputs": [
        {
          "output_type": "execute_result",
          "data": {
            "text/plain": [
              "'a`ePa______`_AQ__t__@`t______@___Ap____'"
            ]
          },
          "metadata": {
            "tags": []
          },
          "execution_count": 70
        }
      ]
    },
    {
      "cell_type": "code",
      "metadata": {
        "id": "WXCJIjubrJhu",
        "colab_type": "code",
        "colab": {}
      },
      "source": [
        ""
      ],
      "execution_count": 0,
      "outputs": []
    },
    {
      "cell_type": "code",
      "metadata": {
        "id": "shVcgvOqLNPS",
        "colab_type": "code",
        "colab": {}
      },
      "source": [
        "\n",
        "def guesser(arr1, arr2):\n",
        "  'functioni that takes two array of bytes first is the xored array secdond is the array of guess words'\n",
        "  # array that holds other arrays\n",
        "  upperarray = []\n",
        "  \n",
        "  \n",
        "  # to know which xored element is which \n",
        "  for i, m in enumerate(arr1):\n",
        "    # to know which word is from the guess word is used with this m xor m\n",
        "    middlearray = []\n",
        "    # for each element xor array we compare each element of guess words\n",
        "    for j, n in enumerate(arr2):\n",
        "      # for the size of each element in the guesser array we create len(element) elements of lower array compare this to create \n",
        "      # this creates a shifting effect for example on the bigger element resulting in lower number of sentences ex hellohellohello, ohellohellohell, lohellohellohel, ...\n",
        "      # array that holds len(an element of arr2)\n",
        "      lowerarray = []\n",
        "      for k in range(len(n)):\n",
        "        # x = 'hello' 'elloh' 'llohe' 'lohel' 'ohell' -> lower array contains those variation\n",
        "        x = n[k:] + n[:k]\n",
        "        fragment = []\n",
        "        for l in range(0,(len(m)-len(n)),len(n)):\n",
        "          # make a list to keep the comparison in (concatination is costly in terms of time)\n",
        "          fragment.append( xor( m[l:l+len(n)] , x) )\n",
        "        # joins the comparisons into one sentence and append it to lowerarray\n",
        "        lowerarray.append(''.join(fragment))\n",
        "      middlearray.append(lowerarray)\n",
        "    upperarray.append(middlearray)\n",
        "\n",
        "\n",
        "  return upperarray\n",
        "\n",
        "guessed = guesser(mxorArrhex, guesswordhex)\n",
        "\n"
      ],
      "execution_count": 0,
      "outputs": []
    },
    {
      "cell_type": "code",
      "metadata": {
        "id": "aj0lnk-jWf90",
        "colab_type": "code",
        "outputId": "3c0f7e58-d307-43a4-c75d-734985d93716",
        "colab": {
          "base_uri": "https://localhost:8080/",
          "height": 1000
        }
      },
      "source": [
        "def printer(arr, guessword):\n",
        "  for i, l in enumerate(arr):\n",
        "    for j, m in enumerate(l):\n",
        "      for k, n in enumerate(m):\n",
        "        print(f'{element_to_mxorm[i]} word {guessword[j][k:]+guessword[j][:k]} :',n)\n",
        "\n",
        "printer(guessed, guessword)"
      ],
      "execution_count": 52,
      "outputs": [
        {
          "output_type": "stream",
          "text": [
            "m0 XOR m1 word the : t\u0015b\thcqmero\u0010s\u0018`\u0004lcthd\ti`u\u001eds\u0015\u0010tlerhbp\u0019e\u0003i\u0011qle\u0005kdw\u0013f\n",
            "het\u0019e\n",
            "m0 XOR m1 word het : h\u0018s\u0015erm`tnb\u0001o\u0015q\u0018arheu\u0015dqi\u0013uo\u0018\u0001hatnesl\u0014t\u001fd\u0000mat\u0019fuk\u001ew\u0016eth\u0014t\n",
            "m0 XOR m1 word eth : e\to\u0018tn`qhcs\u001db\u0004m\u0015pneti\u0018umd\u0002ib\t\u001dephctoa\u0005h\u0012u\u001c`ph\u0014wif\u000fk\u001bthe\u0005h\n",
            "m0 XOR m1 word Hello : H\u0018k\u0011oN`iliO\u0010k\u001cj8ajloI\u0018min>dk\u0011\u001aHaljoOa\u001dl\u0018I\u0011iho9fmo\u0014K\u001bllo\n",
            "m0 XOR m1 word elloH : e\u0011k\u0012HciioNb\u0019k\u001fM\u0015hjoHd\u0011mjI\u0013mk\u0012=ehliHbh\u001do?d\u0018ikH\u0014oml3f\u0012loH\n",
            "m0 XOR m1 word lloHe : l\u0011h5ejijHck\u0019h8`\u001chiHem\u0011nMd\u001amh5\u0010lhoNekh\u001eH\u0012m\u0018jLe\u001donK\u001eo\u0012oHe\n",
            "m0 XOR m1 word loHel : l\u0012O\u0018ljjMejk\u001aO\u0015i\u001ckNelm\u0012I`m\u001anO\u0018\u0019lkHclkk9e\u001bm\u001bMal\u001dlIf\u0017o\u0011Hel\n",
            "m0 XOR m1 word oHell : o5b\u0011liM`ljh=b\u001ci\u001fLclln5dim\u0019Ib\u0011\u0019oLejlhL\u0014l\u001bn<`hl\u001eKdo\u0017l6ell\n",
            "m0 XOR m1 word Dear : D\u0018f\u000fDcdwDcf\u0007C\u0015d\u0002@carE\u0018`wE\u0013`u9\u0010avDcau@\u0014a\u0005E\u0011dvD\u0014bsG\u001eb\fDea\u0003\n",
            "m0 XOR m1 word earD : e\u001cu9egwAegu1b\u0011w4agrDd\u001csAd\u0017sC\u0018\u0014r@egrCa\u0010r3d\u0015w@e\u0010qEf\u001aq:ear5\n",
            "m0 XOR m1 word arDe : a\u000fC\u0018atA`atC\u0010f\u0002A\u0015etDe`\u000fE``\u0004Eb\u001c\u0007DaatDbe\u0003D\u0012`\u0006Aaa\u0003Gdb\tG\u001barD\u0014\n",
            "m0 XOR m1 word rDea : r9b\u001crB`drBb\u0014u4`\u0011vBeas9dds2df\u000f1eerBefv5e\u0016s0`er5f`q?f\u001frDe\u0010\n",
            "m0 XOR m1 word good : g\u0012h\u0019gijagih\u0011`\u001fj\u0014ciodf\u0012naf\u0019nc\u001a\u001ao`giocc\u001eo\u0013f\u001bj`g\u001eled\u0014l\u001agoo\u0015\n",
            "m0 XOR m1 word oodg : o\u0012c\u001aoiaboic\u0012h\u001fa\u0017kidgn\u0012ebn\u0019e`\u0012\u001adcoid`k\u001ed\u0010n\u001baco\u001egfl\u0014g\u0019ood\u0016\n",
            "m0 XOR m1 word odgo : o\u0019`\u0012obbjob`\u001ah\u0014b\u001fkbgon\u0019fjn\u0012fh\u0012\u0011gkobghk\u0015g\u0018n\u0010bko\u0015dnl\u001fd\u0011odg\u001e\n",
            "m0 XOR m1 word dgoo : d\u001ah\u0012dajjdah\u001ac\u0017j\u001f`aooe\u001anje\u0011nh\u0019\u0012okdaoh`\u0016o\u0018e\u0013jkd\u0016lng\u001cl\u0011dgo\u001e\n",
            "m0 XOR m2 word the : t\u0014e\u0002hcqmbshbskdpm\u0017pidxh\u0011u\u001edvo\u0013pmesinpoa\u0006igp\u001bepk\u0011tie~i\u0011t\u0018e\n",
            "m0 XOR m2 word het : h\u0019t\u001eerm`soesoful`\u0006ldude\u0000i\u0013ujb\u0002l`todlbp\u001advl\u0016tlf\u0000hdtbd\u0000h\u0015t\n",
            "m0 XOR m2 word eth : e\bh\u0013tn`qobtobwiaq\u001aauiit\u001cd\u0002igs\u001eaqhbucasl\u0017uja\u0007haw\u001ceuhou\u001ce\u0004h\n",
            "m0 XOR m2 word Hello : H\u0019l\u001aoN`ikhHbkonL`\u001ehnIil\u0018n>dnk\u0019L`lknCakh\u001dIgh\u001foLf\u0018lnHom\u0018o\n",
            "m0 XOR m2 word elloH : e\u0010l\u0019HciihOekklIai\u001ekId`l\u001bI\u0013mnh>ailhInhkk:dnh\u001cHao\u0018oIefm\u001bH\n",
            "m0 XOR m2 word lloHe : l\u0010o>ejijOblkhKdhi\u001dLdm`o<d\u001ammO\u0013hioOdghhL\u0017mnk;eho\u001bHdlfn<e\n",
            "m0 XOR m2 word loHel : l\u0013H\u0013ljjMbklhOfmhj:ammcH\u0011m\u001anJb\u001ahjHbmgkOa\u001emmL\u0016lhl<emleI\u0011l\n",
            "m0 XOR m2 word oHell : o4e\u001aliM`kkoObomkM\u0017hmnDe\u0018m\u0019Igk\u001akMekmdLbh\u001enJa\u001flkK\u0011lmoBd\u0018l\n",
            "m0 XOR m2 word Dear : D\u0019a\u0004DcdwCbauCf`vA\u0017esEia\u0006E\u0013`pC\u0013ewDb`y@be\u0000Ege\u0001Dab\u0006DdaxE\u0011a\u0002\n",
            "m0 XOR m2 word earD : e\u001dr2egwAbfrCbbs@`\u0013vEdmr0d\u0017sFb\u0017vAefsOafv6dcv7eeq0e`rNd\u0015r4\n",
            "m0 XOR m2 word arDe : a\u000eD\u0013atA`fuDbfqEad\u0000@d`~D\u0011`\u0004Egf\u0004@`auEneu@\u0017`p@\u0016avG\u0011asDo`\u0006D\u0015\n",
            "m0 XOR m2 word rDea : r8e\u0017rB`duCefuGdew6a`sHe\u0015s2dcu2adrCdjvCa\u0013sFa\u0012r@f\u0015rEeks0e\u0011\n",
            "m0 XOR m2 word good : g\u0013o\u0012gija`hoc`ln`b\u001dkefco\u0010f\u0019nf`\u0019kaghnochk\u0016fmk\u0017gkl\u0010gnonf\u001bo\u0014\n",
            "m0 XOR m2 word oodg : o\u0013d\u0011oiabhhd`hlecj\u001d`fncd\u0013n\u0019eeh\u0019`bohelkh`\u0015nm`\u0014okg\u0013ondmn\u001bd\u0017\n",
            "m0 XOR m2 word odgo : o\u0018g\u0019obbjhcghhgfkj\u0016cnnhg\u001bn\u0012fmh\u0012cjocfdkcc\u001dnfc\u001co`d\u001boegen\u0010g\u001f\n",
            "m0 XOR m2 word dgoo : d\u001bo\u0019dajjc`ohcdnka\u0015kneko\u001be\u0011nmc\u0011kjd`nd``k\u001deek\u001cdcl\u001bdfoee\u0013o\u001f\n",
            "m0 XOR m3 word the : w\u0019\u0018siau\u001db\u0001h`\bld\u0001mgthd\fiau\u0010duh\u0015pmf~i\u0013the\u0000icqoawk\u0013w\u001deyi\u0011t\u0018b\n",
            "m0 XOR m3 word het : k\u0014\todpi\u0010s\u001deq\u0014au\u001d`vheu\u0010dpi\u001duie\u0004l`wbd\u0002het\u001cdrmbpkf\u0002k\u0010ted\u0000h\u0015s\n",
            "m0 XOR m3 word eth : f\u0005\u0015buld\u0001o\u0010tm\u0019pi\u0010qjeti\u001duld\fidt\u0018aqkou\u001eeth\u0011un`slfw\u001ef\u0001hhu\u001ce\u0004o\n",
            "m0 XOR m3 word Hello : K\u0014\u0011knLd\u0019k\u001aH`\u0010hn=`nloI\u001dmhn0dml\u001fL`ofn>ell\u001bIcikkKf\u001ao\u001aHhm\u0018o\n",
            "m0 XOR m3 word elloH : f\u001d\u0011hIam\u0019h=ei\u0010kI\u0010inoHd\u0014mkI\u001dmmo8aioeI\u0013llo<djihLfo\u001al=eam\u001bH\n",
            "m0 XOR m3 word lloHe : o\u001d\u0012Odhm\u001aO\u0010li\u0013Ld\u0019imHem\u0014nLd\u0014mnH\u0015hilBd\u001aloH\u0011mjjOaoo\u0019K\u0010lan<e\n",
            "m0 XOR m3 word loHel : o\u001e5bmhn=b\u0019lj4am\u0019jJelm\u0017Iam\u0014nIe\u001chjKom\u001aoHe\u0018miMbhol>f\u0019lbI\u0011l\n",
            "m0 XOR m3 word oHell : l9\u0018kmkI\u0010k\u0019oM\u0019hm\u001aMglln0dhm\u0017Idl\u001ckMffm\u0019Hel\u0018nN`khlK\u0013o\u0019oEd\u0018l\n",
            "m0 XOR m3 word Dear : G\u0014\u001cuEa`\u0007C\u0010aw8a`\u0007AgarE\u001d`vE\u001d`sD\u0015ewGo`\u0004Dea\u0006Ecdu@fb\u0004G\u0010aE\u0011a\u0002\n",
            "m0 XOR m3 word earD : f\u0010\u000fCdes1b\u0014rA\u0019es1`crDd\u0019s@d\u0019sEe\u0011vAfks2ear0dgwCabq2f\u0014rId\u0015r4\n",
            "m0 XOR m3 word arDe : b\u00039b`vE\u0010f\u0007D`\u001dvE\u0010dpDe`\n",
            "Ea`\n",
            "Eda\u0002@`bxE\u0013arD\u0011`tAbeqG\u0013b\u0007Dh`\u0006D\u0015\n",
            "m0 XOR m3 word rDea : q5\u0018fs@d\u0014u1ed\u000e@d\u0014wFeas<des<d`r4adqNd\u0017rDe\u0015sB`fvGf\u0017q1els0e\u0011\n",
            "m0 XOR m3 word good : d\u001e\u0012cfkn\u0011`\u001aoa\u001bkn\u0011bmodf\u0017n`f\u0017neg\u001fkaden\u0012goo\u0010fijccll\u0012d\u001aoif\u001bo\u0014\n",
            "m0 XOR m3 word oodg : l\u001e\u0019`nke\u0012h\u001adb\u0013ke\u0012jmdgn\u0017ecn\u0017efo\u001f`blee\u0011ood\u0013nia`klg\u0011l\u001adjn\u001bd\u0017\n",
            "m0 XOR m3 word odgo : l\u0015\u001ahn`f\u001ah\u0011gj\u0013`f\u001ajfgon\u001cfkn\u001cfno\u0014cjlnf\u0019odg\u001bnbbhkgd\u0019l\u0011gbn\u0010g\u001f\n",
            "m0 XOR m3 word dgoo : g\u0016\u0012hecn\u001ac\u0012oj\u0018cn\u001aaeooe\u001fnke\u001fnnd\u0017kjgmn\u0019dgo\u001beajh`dl\u0019g\u0012obe\u0013o\u001f\n",
            "m0 XOR m4 word the : w\u0019\u0018sieu\u001ebwh`s\u001b`\u0004mbw\u0010dzi`umaqo\u0013thfthcqje\u0003mfqkexkatof\u000fh\u0014wke\n",
            "m0 XOR m4 word het : k\u0014\todti\u0013skeqo\u0016q\u0018`sk\u001dufdqi`pmb\u0002hewhermgt\u001f`wmftdfphbw\u0013e\u0005kft\n",
            "m0 XOR m4 word eth : f\u0005\u0015buhd\u0002oftmb\u0007m\u0015qof\fikumdql`s\u001eetketn`vh\u0012qk`whiwlesk\u001et\u0019fwh\n",
            "m0 XOR m4 word Hello : K\u0014\u0011knHd\u001aklH`k\u001fj8`ko\u0017IkminMaik\u0019HeoloN`nl\u0018MfiooDfhlhK\u001el\u001dl\n",
            "m0 XOR m4 word elloH : f\u001d\u0011hIem\u001ahKeik\u001cM\u0015ikl0dbmjI`hih>elooHcino?`oilHiohoOf\u0017l\u001eK\n",
            "m0 XOR m4 word lloHe : o\u001d\u0012Odlm\u0019Oflih;`\u001cihK\u001dmbnMdihjO\u0013lllHejimH\u0012iojKe`okHbo\u0017o9f\n",
            "m0 XOR m4 word loHel : o\u001e5bmln>boljO\u0016i\u001cjOf\u0014maI`mikMb\u001aloKeljjJe\u001bilMfl`lLeko\u0014H\u0014o\n",
            "m0 XOR m4 word oHell : l9\u0018kmoI\u0013kooMb\u001fi\u001fMbo\u0014nFdimjL`k\u001aoHflliMgl\u001bjK`olcKalkl3e\u001do\n",
            "m0 XOR m4 word Dear : G\u0014\u001cuEe`\u0004CfawC\u0016d\u0002Abb\n",
            "Ek`wE`ewC\u0013arGeatAga\u0005AfdqDibvDbb\tD\u0014bq\n",
            "m0 XOR m4 word earD : f\u0010\u000fCdas2bbrAb\u0012w4`fq<dosAddvAb\u0017rDfarB`cr3`bwGemq@efq?e\u0010qG\n",
            "m0 XOR m4 word arDe : b\u00039b`rE\u0013fqD`f\u0001A\u0015duG\u001d`|E``w@`f\u0004DebrDcdpD\u0012dqAfa~GaauG\u001ea\u0003Gf\n",
            "m0 XOR m4 word rDea : q5\u0018fsDd\u0017uGedu7`\u0011wCf\u0019sJddsAadu2eaqDegwFe\u0016wG`brHferCf\u001ar5fb\n",
            "m0 XOR m4 word good : d\u001e\u0012cfon\u0012`loa`\u001cj\u0014bhl\u001cfanafjka`\u0019oddoobbmo\u0013bljggcl`ghl\u001fg\u001elg\n",
            "m0 XOR m4 word oodg : l\u001e\u0019`noe\u0011hldbh\u001ca\u0017jhg\u001fnaebnj`bh\u0019dglodajmd\u0010jladocgcohg\u001co\u001egd\n",
            "m0 XOR m4 word odgo : l\u0015\u001ahndf\u0019hggjh\u0017b\u001fjcd\u0017njfjnacjh\u0012goldgijfg\u0018jgblohdkocd\u0014o\u0015dl\n",
            "m0 XOR m4 word dgoo : g\u0016\u0012hegn\u0019cdojc\u0014j\u001fa`l\u0017einjebkjc\u0011ooggoiaeo\u0018adjldklkd`l\u0014d\u0016ll\n",
            "m0 XOR m5 word the : w\u001eeti`uhet\u0013ltjdxm`w\u0013d\u000fldu\u001ee\u0004h\u0015pmesiop\u001ce\u0003mfqhevkcs\u0012e|h\u0010w\u001bb\n",
            "m0 XOR m5 word het : k\u0013thdqieth\u001e}hgud`qk\u001eu\u0013aui\u0013t\u0018e\u0004l`tod~l\u0011t\u001f`wmetjfro\u001ft`e\u0001k\u0016s\n",
            "m0 XOR m5 word eth : f\u0002heumdthe\u000faeviiqmf\u000fi\u001epid\u0002h\u0015t\u0018aqhbuba\u0000h\u0012qk`thgwnb\u000ehmt\u001df\u0007o\n",
            "m0 XOR m5 word Hello : K\u0013llnMdllo3llnnD`io\u0014I\u001ehmn>e\u001cl\u001fL`lknBa\u0018l\u0018MfiloJfjk\u0015Hml\u0019l\n",
            "m0 XOR m5 word elloH : f\u001aloI`mloH\u001eelmIiiil3d\u0017hnI\u0013l\u001co8ailhIoh\u0018o?`oioHgojh2edl\u001aK\n",
            "m0 XOR m5 word lloHe : o\u001aoHdimoHe\u0017eoJd`ijK\u001em\u0017kId\u001al\u001fH\u0015hioOdfh\u001bH\u0012iojHenoiO\u001fldo=f\n",
            "m0 XOR m5 word loHel : o\u0019HeminHel\u0017fHgm`jMf\u0017m\u0014Ldm\u001ao8e\u001chjHbmfk<e\u001bilMelnlNb\u0016lgH\u0010o\n",
            "m0 XOR m5 word oHell : l>elmjIell\u0014AenmcM`o\u0017n3amm\u0019H\u0015l\u001ckMekmeL\u0011l\u001bjK`llmKck\u0016o@e\u0019o\n",
            "m0 XOR m5 word Dear : G\u0013arE``rDe\u001a{Dg`~A`b\tE\u001eesE\u0013a\u0002D\u0015ewDb`x@\u0011a\u0005AfdrDgbtC\u001fazD\u0010b\u0001\n",
            "m0 XOR m5 word earD : f\u0017rDddsDea\tMecsH`dq?d\u001avEd\u0017r4e\u0011vAefsNa\u0015r3`bwDecqBb\u001brLe\u0014q7\n",
            "m0 XOR m5 word arDe : b\u0004De`wEear?lapEidwG\u001e`\t@d`\u0004D\u0015a\u0002@`auEoe\u0006D\u0012dqAeapGcf\bDma\u0007G\u0016\n",
            "m0 XOR m5 word rDea : q2easAdarD\u001ehrFdmwAf\u001as?a`s2e\u0011r4adrCdkv0e\u0016wG`arFfgu>eir1f\u0012\n",
            "m0 XOR m5 word good : d\u0019odfjndgo\u0014mgmnhbjl\u001ff\u0014kef\u0019o\u0014g\u001fkaghnnc\u001bo\u0013bljdgmlb`\u0015olg\u001al\u0017\n",
            "m0 XOR m5 word oodg : l\u0019dgnjegoo\u001fnomekjjg\u001cn\u0014`fn\u0019d\u0017o\u001f`bohemk\u001bd\u0010jlagomgah\u0015doo\u001ag\u0014\n",
            "m0 XOR m5 word odgo : l\u0012gonafood\u001cfoffcjad\u0014n\u001fcnn\u0012g\u001fo\u0014cjocfek\u0010g\u0018jgboofdih\u001eggo\u0011d\u001c\n",
            "m0 XOR m5 word dgoo : g\u0011ooebnodg\u0014fdencabl\u0014e\u001ckne\u0011o\u001fd\u0017kjd`ne`\u0013o\u0018adjodelic\u001dogd\u0012l\u001c\n",
            "m1 XOR m2 word the : tibhethbuo\u0017t\u001ba\u0000i\u0011pie\u0005i\u0014theq\u0012fpieuiit\u001eaqh\u0013u\u001fe\u0001h\u0010w\u0012f\u0000i\u0011tie\n",
            "m1 XOR m2 word het : hdscethesib\u0006h\u0016p\u001cd\u0000ldt\u0019d\u0005hetm\u001fwldtidxh\u0013pme\u0002i\u0012t\u001de\u0001k\u001fw\u001cd\u0000hdt\n",
            "m1 XOR m2 word eth : euonthetods\u001ae\u0007l\u0011u\u001cauh\u0014u\u0019eth`\u000ekauhdude\u0002l`t\u001ed\u0003h\u0010t\u001df\u000ek\u0011u\u001ceuh\n",
            "m1 XOR m2 word Hello : HdkgoHelknO\u0017l\u001fk<d\u0018hnH\u0014m\u001doHei\u0016lLdlmnDe\u001ahjH\u0013m\u001bo=e\u0019o\u0015K\u0011m\u0018o\n",
            "m1 XOR m2 word elloH : emkdHellhIb\u001el\u001cL\u0011m\u0018kIe\u001dm\u001eHeli\u0015KamlnIil\u001akMe\u001am\u0018H\u0010l\u0019l2f\u0018m\u001bH\n",
            "m1 XOR m2 word lloHe : lmhCelloOdk\u001eo;a\u0018m\u001bLdl\u001dn9ellj2fhmoId`l\u0019L`l\u001an?e\u0019l\u001aK\u001fo\u0018n<e\n",
            "m1 XOR m2 word loHel : lnOnlloHbmk\u001dH\u0016h\u0018n<aml\u001eI\u0014lloM\u001fohnHdm`o>ail\u0019I\u0012l\u0019o=f\u0016o\u001bI\u0011l\n",
            "m1 XOR m2 word oHell : oIbgloHekmh:e\u001fh\u001bI\u0011hmo9d\u001dloH`\u0016okIemmcH\u0013hio>d\u001bl\u001aH\u0010o\u0016l<d\u0018l\n",
            "m1 XOR m2 word Dear : DdfyDearCdf\u0000D\u0016e\u0006E\u0011esD\u0014`\u0003Deaw>fesDd`~D\u0013ewD\u0013`\u0005D\u0010a\u0007G\u001fb\u0006E\u0011as\n",
            "m1 XOR m2 word earD : e`uOearDb`u6e\u0012v0d\u0015vEe\u0010s5earA\u001fbvEe`sHe\u0017vAe\u0017s3e\u0014r1f\u001bq0d\u0015rE\n",
            "m1 XOR m2 word arDe : asCnarDefsC\u0017a\u0001@\u0011`\u0006@da\u0003E\u0014arD`\u001bq@dasEia\u0004@`a\u0004E\u0012a\u0007D\u0010b\bG\u0011`\u0006Dd\n",
            "m1 XOR m2 word rDea : rEbjrDeauEb\u0013r7a\u0015s0a`r5d\u0010rDed\bGa`rEdmr2adr2d\u0016r1e\u0014q>f\u0015s0e`\n",
            "m1 XOR m2 word good : gnhogood`nh\u0016g\u001ck\u0010f\u001bkeg\u001en\u0015gooa\u001dlkegnnhg\u0019kag\u0019n\u0013g\u001ao\u0011d\u0015l\u0010f\u001boe\n",
            "m1 XOR m2 word oodg : oncloodghnc\u0015o\u001c`\u0013n\u001b`fo\u001ee\u0016oodb\u0015l`foneko\u0019`bo\u0019e\u0010o\u001ad\u0012l\u0015g\u0013n\u001bdf\n",
            "m1 XOR m2 word odgo : oe`dodgohe`\u001do\u0017c\u001bn\u0010cno\u0015f\u001eodgj\u0015gcnoefco\u0012cjo\u0012f\u0018o\u0011g\u001al\u001ed\u001bn\u0010gn\n",
            "m1 XOR m2 word dgoo : dfhddgoocfh\u001dd\u0014k\u001be\u0013knd\u0016n\u001edgoj\u001edkndfncd\u0011kjd\u0011n\u0018d\u0012o\u001ag\u001dl\u001be\u0013on\n",
            "m1 XOR m3 word the : wd\u001f\u000eigp\u0018b\u0007o\u0015\u000f\u001caqiatheqhdtfer\u0015`pifxi\u0014p\u0019ewh\u0017tka\u0006h\u0012tff\u0007i\u0011tib\n",
            "m1 XOR m3 word het : ki\u000e\u0012dvl\u0015s\u001bb\u0004\u0013\u0011pmdphetmeuhktn\u0018qldwdd\u0005l\u0014tke\u0006hfp\u001ae\u0003hkw\u001bd\u0000hds\n",
            "m1 XOR m3 word eth : fx\u0012\u001fuja\u0004o\u0016s\u0018\u001e\u0000l`uleth`tiezhc\tmaukiu\u0019a\u0005hft\u001aewl\u0017t\u001fezk\u0016u\u001ceuo\n",
            "m1 XOR m3 word Hello : Ki\u0016\u0016nJa\u001ck\u001cO\u0015\u0017\u0018kMdhloH`lmoFej\u0011jLdo`n9a\u001dllH\u0017lok:e\u001blaK\u0016m\u0018o\n",
            "m1 XOR m3 word elloH : f`\u0016\u0015Igh\u001ch;b\u001c\u0017\u001bL`mhoHeilnHklj\u0012MamocI\u0014h\u001doKe\u001ellL\u0017l\u001boFf\u001fm\u001bH\n",
            "m1 XOR m3 word lloHe : o`\u00152dnh\u001fO\u0016k\u001c\u0014<aimkHelioIebli5`hmlDd\u001dh\u001eHfl\u001eoKa\u001el\u0018Hko\u001fn<e\n",
            "m1 XOR m3 word loHel : oc2\u001fmnk8b\u001fk\u001f3\u0011hinLelljHdlboN\u0018ihnKim\u001dk9eol\u001dHfh\u001eo?ebo\u001cI\u0011l\n",
            "m1 XOR m3 word oHell : lD\u001f\u0016mmL\u0015k\u001fh8\u001e\u0018hjIalloMemlaHc\u0011ikIf`m\u001eL\u0014loo:eoh\u001dH\u0012lbl;d\u0018l\n",
            "m1 XOR m3 word Dear : Gi\u001b\bEge\u0002C\u0016f\u0002?\u0011ewEaarD`asDkat9`esGi`\u0003@\u0014aqD\u0017aq@\u0017a\u0005Dkb\u0001E\u0011as\n",
            "m1 XOR m3 word earD : fm\b>dcv4b\u0012u4\u001e\u0015vAderDedrEeorB\u0018dvEfms5a\u0010rGe\u0013rGa\u0013r3eoq7d\u0015rE\n",
            "m1 XOR m3 word arDe : b~>\u001f`p@\u0015f\u0001C\u0015\u001a\u0006@``vDeawDda|Dc\u001cw@db~E\u0014e\u0003Dfa\u0000Dfe\u0000D\u0012a|G\u0016`\u0006Dd\n",
            "m1 XOR m3 word rDea : qH\u001f\u001bsFa\u0011u7b\u0011\t0ads@earAe`rJeg\u000fAa`qHd\u0010v5ebr6ebv6e\u0016rJf\u0012s0e`\n",
            "m1 XOR m3 word good : dc\u0015\u001efmk\u0014`\u001ch\u0014\u001c\u001bkafkodgjoegaob\u001ajkedcn\u0015c\u001eogg\u001dogc\u001do\u0013gal\u0017f\u001boe\n",
            "m1 XOR m3 word oodg : lc\u001e\u001dnm`\u0017h\u001cc\u0017\u0014\u001b`bnkdgojdfoada\u0012j`flce\u0016k\u001eddo\u001dddk\u001dd\u0010oag\u0014n\u001bdf\n",
            "m1 XOR m3 word odgo : lh\u001d\u0015nfc\u001fh\u0017`\u001f\u0014\u0010cjn`gooagnojgi\u0012acnlhf\u001ek\u0015glo\u0016glk\u0016g\u0018ojd\u001cn\u0010gn\n",
            "m1 XOR m3 word dgoo : gk\u0015\u0015eek\u001fc\u0014h\u001f\u001f\u0013kjecoodbondioi\u0019bkngkn\u001e`\u0016old\u0015ol`\u0015o\u0018dil\u001ce\u0013on\n",
            "m1 XOR m4 word the : wd\u001f\u000eicp\u001bbqo\u0015tketidw\u0010e\u0007het\u001b`v\u0012ftlfrhdu\u001betl\u0012toe\th`w\u0014eqh\u0014w\u001ae\n",
            "m1 XOR m4 word het : ki\u000e\u0012drl\u0016smb\u0004hfthduk\u001dt\u001beth\u0016qj\u001fwhawneui\u0016tha\u0003hbt\u0015eqk\u0019tme\u0005k\u0017t\n",
            "m1 XOR m4 word eth : fx\u0012\u001funa\u0007o`s\u0018ewheuif\fh\u0016the\u0007mg\u000ekepkctid\u0007hep\u001fesh\u0018tmf\bh`t\u0019f\u0006h\n",
            "m1 XOR m4 word Hello : Ki\u0016\u0016nNa\u001fkjO\u0015looHdmo\u0017H\u0016llo;`n\u0016lHaojoId\u001floL\u0012lko5eio\u0013H`l\u001dl\n",
            "m1 XOR m4 word elloH : f`\u0016\u0015Ich\u001fhMb\u001cllHemml0e\u001floH\u0016in\u0015KehoiHdm\u001foHa\u001blhH\u0018lil4eil\u001eK\n",
            "m1 XOR m4 word lloHe : o`\u00152djh\u001cO`k\u001coKelmnK\u001dl\u001foHe\u001fim2flhlNemm\u001cHeh\u001boOe\u0011ljK\u0019lio9f\n",
            "m1 XOR m4 word loHel : oc2\u001fmjk;bik\u001fHfllnIf\u0014l\u001cHel\u001fjJ\u001folkKclmn;elh\u0018Hbl\u0011oMf\u0010ljH\u0014o\n",
            "m1 XOR m4 word oHell : lD\u001f\u0016miL\u0016kih8eoloIdo\u0014o;ell\u001cMg\u0016ooLfjlnI\u0016llk?ekl\u0012H`o\u0010oMe\u001do\n",
            "m1 XOR m4 word Dear : Gi\u001b\bEce\u0001C`f\u0002DfarEdb\n",
            "D\u0016arD\u0016dp>favGcasE\u0016ar@\u0012auD\u0018awG\u0019awD\u0014b\u0000\n",
            "m1 XOR m4 word earD : fm\b>dgv7bdu4ebrDd`q<e\u0012rDe\u0012wF\u001fbr@fgrEd\u0012rDa\u0016rCe\u001crAf\u001drAe\u0010q6\n",
            "m1 XOR m4 word arDe : b~>\u001f`t@\u0016fwC\u0015aqDe`sG\u001da\u0001Dea\u0001Ag\u001bqDabtDd`\u0001Dee\u0005Dba\u000fD`b\u000eD`a\u0003G\u0017\n",
            "m1 XOR m4 word rDea : qH\u001f\u001bsBa\u0012uAb\u0011rGeasEf\u0019r7ear7`c\bGeeqBe`s7eav3efr9edq8edr5f\u0013\n",
            "m1 XOR m4 word good : dc\u0015\u001efik\u0017`jh\u0014glodfnl\u001cg\u001codg\u001cjf\u001dlo`dioef\u001codc\u0018ocg\u0012oad\u0013oag\u001el\u0016\n",
            "m1 XOR m4 word oodg : lc\u001e\u001dni`\u0014hjc\u0017oldgnng\u001fo\u001cdgo\u001cae\u0015ldclidfn\u001cdgk\u0018d`o\u0012dbl\u0013dbo\u001eg\u0015\n",
            "m1 XOR m4 word odgo : lh\u001d\u0015nbc\u001cha`\u001foggoned\u0017o\u0017goo\u0017bm\u0015ggklbgnn\u0017gok\u0013gho\u0019gjl\u0018gjo\u0015d\u001d\n",
            "m1 XOR m4 word dgoo : gk\u0015\u0015eak\u001ccbh\u001fddooefl\u0017d\u0014ood\u0014jm\u001edokgaone\u0014oo`\u0010ohd\u001aojg\u001bojd\u0016l\u001d\n",
            "m1 XOR m5 word the : wcb\tifpmer\u0014\u0019s\u001aa\bifw\u0013ermathd\u0003\u0015`pieuihtmetl\u0012tle\u0007hbpif\u0002h\u0010wjb\n",
            "m1 XOR m5 word het : kns\u0015dwl`tn\u0019\bo\u0017p\u0014dwk\u001etn`pheu\u001f\u0018qldtidyh`tha\u0003hat\u001besldw\u001ee\u0001kgs\n",
            "m1 XOR m5 word eth : fo\u0018ukaqhc\b\u0014b\u0006l\u0019ukf\u000fhcqleti\u0012\tmauhdueeqhep\u001feph\u0016toauk\u0013t\u001dfvo\n",
            "m1 XOR m5 word Hello : Knk\u0011nKaili4\u0019k\u001ek4doo\u0014HcihoHd\u001b\u0011jLdlmnEeiloL\u0012lho;ekhnK\u0013l\u0019l\n",
            "m1 XOR m5 word elloH : fgk\u0012IfhioN\u0019\u0010k\u001dL\u0019mol3ejikHem\u001b\u0012MamlnIhlioHa\u001blkH\u0016lkkIf\u001al\u001aK\n",
            "m1 XOR m5 word lloHe : ogh5dohjHc\u0010\u0010h:a\u0010mlK\u001eljjLelm\u00185`hmoIdaljHeh\u001boLe\u001flhLdo\u001ao=f\n",
            "m1 XOR m5 word loHel : odO\u0018mokMej\u0010\u0013O\u0017h\u0010nKf\u0017liMalln?\u0018ihnHdmaoMelh\u0018Hal\u001foOamo\u0019H\u0010o\n",
            "m1 XOR m5 word oHell : lCb\u0011mlL`lj\u00134b\u001eh\u0013Ifo\u0017oN`hloI\u0012\u0011ikIemmbH`llk?ehl\u001cHbhml>e\u0019o\n",
            "m1 XOR m5 word Dear : Gnf\u000fEfewDc\u001d\u000eC\u0017e\u000eEfb\tDcdvDe`\u00059`esDd`D`ar@\u0012avD\u0016au@db\u0004D\u0010bp\n",
            "m1 XOR m5 word earD : fju9dbvAeg\u000e8b\u0013v8dbq?egw@eas3\u0018dvEe`sIedrDa\u0016r@e\u0012rCa`q2e\u0014qF\n",
            "m1 XOR m5 word arDe : byC\u0018`q@`at8\u0019f\u0000@\u0019`qG\u001eatAaarE\u0012\u001cw@dasEhawDee\u0005Daa\u0001DbesG\u0013a\u0007Gg\n",
            "m1 XOR m5 word rDea : qOb\u001csGadrB\u0019\u001du6a\u001dsGf\u001arB`erDd\u0016\u000fAa`rEdlrAeav3eer7efvEf\u0017r1fc\n",
            "m1 XOR m5 word good : ddh\u0019flkagi\u0013\u0018`\u001dk\u0018fll\u001fgij`gon\u0013\u001ajkegnnigjodc\u0018o`g\u001coccnl\u0012g\u001alf\n",
            "m1 XOR m5 word oodg : ldc\u001anl`boi\u0018\u001bh\u001d`\u001bnlg\u001coiacooe\u0010\u0012j`fonejojdgk\u0018dco\u001cd`kng\u0011o\u001age\n",
            "m1 XOR m5 word odgo : lo`\u0012ngcjob\u001b\u0013h\u0016c\u0013ngd\u0014obbkodf\u0018\u0012acnoefboagok\u0013gko\u0017ghked\u0019o\u0011dm\n",
            "m1 XOR m5 word dgoo : glh\u0012edkjda\u0013\u0013c\u0015k\u0013edl\u0014dajkdgn\u0018\u0019bkndfnbdboo`\u0010okd\u0014oh`fl\u0019d\u0012lm\n",
            "m2 XOR m3 word the : we\u0018\u0005igp\u0018e\u0006hg\u000foe\u0005h\u0015pie\u0000i\u0015tfewocthfyh\u0018poarhau\u001cashgw\u001ceshethb\n",
            "m2 XOR m3 word het : kh\t\u0019dvl\u0015t\u001aev\u0013bt\u0019e\u0004ldt\u001cd\u0004hktkbrhewee\tlbpnepi\u0011poevk\u0011toethes\n",
            "m2 XOR m3 word eth : fy\u0015\u0014uja\u0004h\u0017tj\u001esh\u0014t\u0018auh\u0011u\u0018ezhfsnetkht\u0015aslctld\u0000lbtjf\u0000hbtheto\n",
            "m2 XOR m3 word Hello : Kh\u0011\u001dnJa\u001cl\u001dHg\u0017ko9e\u001chnH\u0011m\u001coFeokiHeoao5akhiHam\u0018kOeno\u001bHbllo\n",
            "m2 XOR m3 word elloH : fa\u0011\u001eIgh\u001co:en\u0017hH\u0014l\u001ckIe\u0018m\u001fHklohNelobH\u0018hkkNehm\u001bLblnl<ekloH\n",
            "m2 XOR m3 word lloHe : oa\u00129dnh\u001fH\u0017ln\u0014Oe\u001dl\u001fLdl\u0018n8ebllOclllEe\u0011hhLclhn<aklmK\u0011lkoHe\n",
            "m2 XOR m3 word loHel : ob5\u0014mnk8e\u001elm3bl\u001do8aml\u001bI\u0015lboKbjloKhl\u0011kOajlkI\u0011hkoJf\u0018lhHel\n",
            "m2 XOR m3 word oHell : lE\u0018\u001dmmL\u0015l\u001eoJ\u001ekl\u001eH\u0015hmo<d\u001claHfkjoHfal\u0012LbhjoLd\u0018hhHgo\u0018oOell\n",
            "m2 XOR m3 word Dear : Gh\u001c\u0003Ege\u0002D\u0017ap?ba\u0003D\u0015esD\u0011`\u0002DkaqCcarGha\u000f@betDa`\u0006@bapG\u0011auDear\n",
            "m2 XOR m3 word earD : fl\u000f5dcv4e\u0013rF\u001efr5e\u0011vEe\u0015s4eorGbgrDflr9afvBees0afrFf\u0015rCearD\n",
            "m2 XOR m3 word arDe : b9\u0014`p@\u0015a\u0000Dg\u001auD\u0014a\u0002@da\u0006E\u0015a|DfftDebD\u0018eu@cavE\u0011euDgb\u0006DbarDe\n",
            "m2 XOR m3 word rDea : qI\u0018\u0010sFa\u0011r6ec\tCe\u0010r4a`r0d\u0011rJebuBeaqIe\u001cvCagr@d\u0015vCecq0efrDea\n",
            "m2 XOR m3 word good : db\u0012\u0015fmk\u0014g\u001dof\u001cho\u0015g\u001fkeg\u001bn\u0014gaog`ioddbo\u0019chkbgkn\u0010chofd\u001bocgood\n",
            "m2 XOR m3 word oodg : lb\u0019\u0016nm`\u0017o\u001dde\u0014hd\u0016o\u001f`fo\u001be\u0017oaddhidglbd\u001akh`aoke\u0013khdel\u001bd`oodg\n",
            "m2 XOR m3 word odgo : li\u001a\u001enfc\u001fo\u0016gm\u0014cg\u001eo\u0014cno\u0010f\u001fojglhbgolig\u0012kccio`f\u001bkcgml\u0010ghodgo\n",
            "m2 XOR m3 word dgoo : gj\u0012\u001eeek\u001fd\u0015om\u001f`o\u001ed\u0017knd\u0013n\u001fdiolcaoogjo\u0012``kidcn\u001b``omg\u0013ohdgoo\n",
            "m2 XOR m4 word the : we\u0018\u0005icp\u001bephgt\u0018a\u0000h\u0010s\u0011evi\u0014t\u001b`shepmfsihumaqldu\u0018e|h\u0015tnf\u0005i`w\u001be\n",
            "m2 XOR m4 word het : kh\t\u0019drl\u0016tlevh\u0015p\u001ce\u0001o\u001ctjd\u0005h\u0016qoetl`wodyi`pmaui\u0015t`e\u0004hcw\u0019dqk\u0016t\n",
            "hgu\u0019e\u0007mbthaqkbuedql`pid\u0004hmt\u0018erk\u0014umf\u0007h\n",
            "m2 XOR m4 word Hello : Kh\u0011\u001dnNa\u001flkHgl\u001ck<e\u0019k\u0016Hgm\u001do;`kloL`oknEdihjLdm\u001co@e\u001cliK\u0014mil\n",
            "m2 XOR m4 word elloH : fa\u0011\u001eIch\u001foLenl\u001fL\u0011l\u0019h1enm\u001eH\u0016ikoHaiohIhmikMamm\u001fHml\u001coNf\u001dmjK\n",
            "m2 XOR m4 word lloHe : oa\u00129djh\u001cHalno8a\u0018l\u001aO\u001clnn9e\u001fihHehilOdamjL`hmn8edl\u001fHco\u001dnMf\n",
            "m2 XOR m4 word loHel : ob5\u0014mjk;ehlmH\u0015h\u0018o=b\u0015lmI\u0014l\u001fjOelhjKbmanMaihnI\u0015ldo8ejo\u001eI`o\n",
            "m2 XOR m4 word oHell : lE\u0018\u001dmiL\u0016lhoJe\u001ch\u001bH\u0010k\u0015oJd\u001dl\u001cMbllkMfkmbI`hikId\u001clgH\u0015ljl9dio\n",
            "m2 XOR m4 word Dear : Gh\u001c\u0003Ece\u0001DaapD\u0015e\u0006D\u0010f\u000bDg`\u0003D\u0016duDeewGb`E`ew@d`\u0002Dma\u0002Dcb\u0003E`b\u0001\n",
            "m2 XOR m4 word earD : fl\u000f5dgv7eerFe\u0011v0e\u0014u=ecs5e\u0012wCeavAffsIddvAa`s4eir4egq5ddq7\n",
            "m2 XOR m4 word arDe : b9\u0014`t@\u0016avDga\u0002@\u0011a\u0007C\u001capE\u0014a\u0001Abar@`buEh`w@`esE\u0015azD\u0015atG\u0014`wG\u0016\n",
            "m2 XOR m4 word rDea : qI\u0018\u0010sBa\u0012r@ecr4a\u0015r1b\u0018rFd\u0010r7`frDadqCdlsAadvEd\u0011rLe\u0011rBf\u0010sAf\u0012\n",
            "m2 XOR m4 word good : db\u0012\u0015fik\u0017gkofg\u001fk\u0010g\u001ah\u001dgmn\u0015g\u001cjcgokadhnifjkacnn\u0014ggo\u0014gil\u0015fjl\u0017\n",
            "m2 XOR m4 word oodg : lb\u0019\u0016ni`\u0014okdeo\u001f`\u0013o\u001ac\u001eome\u0016o\u001ca`oo`blhejnj`bkne\u0017ogd\u0017oig\u0016njg\u0014\n",
            "m2 XOR m4 word odgo : li\u001a\u001enbc\u001co`gmo\u0014c\u001bo\u0011`\u0016off\u001eo\u0017bhodcjlcfbnacjkef\u001folg\u001fobd\u001enad\u001c\n",
            "m2 XOR m4 word dgoo : gj\u0012\u001eeak\u001cdcomd\u0017k\u001bd\u0012h\u0016den\u001ed\u0014jhdgkjg`nbebkj`fn\u001fdoo\u001fdal\u001eebl\u001c\n",
            "m2 XOR m5 word the : wbe\u0002ifpmbs\u0013ksie|h\u0012s\u0012e\u0003l\u0010thd\u0006octhethdt\u001baqldu\u001berh\u0017s\u0013evidwkb\n",
            "m2 XOR m5 word het : kot\u001edwl`so\u001ezodt`e\u0003o\u001ft\u001fa\u0001heu\u001abrhetheuh\u0016pmaui\u0016tne\u0006o\u001etjdukfs\n",
            "m2 XOR m5 word eth : f~h\u0013ukaqob\u000ffbuhmt\u001fb\u000eh\u0012p\u001deti\u0017snethetie\u0007l`pid\u0007hct\u001ab\u000fhguifwo\n",
            "m2 XOR m5 word Hello : Kol\u001anKaikh3kkmo@e\u001bk\u0015H\u0012h\u0019oHd\u001ekiHelloIe\u001fhjLdm\u001foNe\u001ek\u0014Hgmml\n",
            "m2 XOR m5 word elloH : ffl\u0019IfhihO\u001ebknHml\u001bh2e\u001bh\u001aHem\u001ehNelloHdl\u001fkMamm\u001cHcl\u001eh3enmnK\n",
            "m2 XOR m5 word lloHe : ofo>dohjOb\u0017bhIedl\u0018O\u001fl\u001bk=elm\u001dOclloHeml\u001cL`hmn;ejl\u001dO\u001elnnIf\n",
            "m2 XOR m5 word loHel : oeH\u0013mokMbk\u0017aOdldo?b\u0016l\u0018L\u0010lln:bjloHelmo;aihnI\u0016ljo:b\u0017lmIdo\n",
            "m2 XOR m5 word oHell : lBe\u001amlL`kk\u0014FbmlgH\u0012k\u0016o?a\u0019loI\u0017kjoHellnH\u0016hikId\u001fliH\u0017k\u0017oJdmo\n",
            "m2 XOR m5 word Dear : Goa\u0004EfewCb\u001a|CdazD\u0012f\bD\u0012e\u0007De`\u0000CcarDeasD\u0016ew@d`\u0001Dca\u0000C\u001eapEdbq\n",
            "m2 XOR m5 word earD : fkr2dbvAbf\tJb`rLe\u0016u>e\u0016v1eas6bgrDearEe\u0012vAa`s7egr6b\u001arFd`qG\n",
            "m2 XOR m5 word arDe : bxD\u0013`q@`fu?kfsDma\u0005C\u001fa\u0005@\u0010arE\u0017ftDearDda\u0001@`esE\u0016atD\u0017f\tDg`sGf\n",
            "m2 XOR m5 word rDea : qNe\u0017sGaduC\u001eouEeir3b\u001br3a\u0014rDd\u0013uBearDe`r7advEd\u0012rBe\u0013u?ecsEfb\n",
            "m2 XOR m5 word good : deo\u0012flka`h\u0014j`nolg\u0018h\u001eg\u0018k\u0011gon\u0016`iodgooeg\u001ckacnn\u0017gio\u0016`\u0014offnlg\n",
            "m2 XOR m5 word oodg : led\u0011nl`bhh\u001fihndoo\u0018c\u001do\u0018`\u0012ooe\u0015hidgoodfo\u001c`bkne\u0014oid\u0015h\u0014denngd\n",
            "m2 XOR m5 word odgo : lng\u0019ngcjhc\u001caheggo\u0013`\u0015o\u0013c\u001aodf\u001dhbgoodgno\u0017cjkef\u001cobg\u001dh\u001fgmnedl\n",
            "m2 XOR m5 word dgoo : gmo\u0019edkjc`\u0014acfogd\u0010h\u0015d\u0010k\u001adgn\u001dcaoodgond\u0014kj`fn\u001cdao\u001dc\u001comefll\n",
            "m3 XOR m4 word the : thethatke\u0002he\u000f\u001faqh`w\u0010e\u0002hdt\u0015`pocpme~i\u0015qjewl`tla{h\u0017w\u001af\u0002i`w\u001bb\n",
            "m3 XOR m4 word het : hethephft\u001eet\u0013\u0012pmeqk\u001dt\u001eeuh\u0018qlbrl`tbd\u0004mgtkaqhapge\u0006k\u0017w\u001edqk\u0016s\n",
            "m3 XOR m4 word eth : ethetlewh\u0013th\u001e\u0003l`tmf\fh\u0013tie\tmasnaqhou\u0018`vhfpmepljt\u001af\u0006k\u0013umf\u0007o\n",
            "m3 XOR m4 word Hello : HelloLeol\u0019He\u0017\u001bkMeio\u0017H\u0013lmo5`hkiL`lfn8`nllL`lhkGe\u001eo\u001dK\u0013mil\n",
            "m3 XOR m4 word elloH : elloHaloo>el\u0017\u0018L`lil0e\u001alnH\u0018ihhNaileI\u0015inoKailkLjl\u001el:f\u001amjK\n",
            "m3 XOR m4 word lloHe : lloHehllH\u0013ll\u0014?ailjK\u001dl\u001aoIe\u0011ikOchioBd\u001cimHfhioLacl\u001dK\u0017o\u001anMf\n",
            "m3 XOR m4 word loHel : loHelhoKe\u001alo3\u0012hioMf\u0014l\u0019Hdl\u0011jLbjhjHom\u001cjJeohjHahco:f\u001eo\u0019I`o\n",
            "m3 XOR m4 word oHell : oHellkHfl\u001aoH\u001e\u001bhjH`o\u0014o>eml\u0012MakjkMefm\u001fMglokMehh`H\u0017o\u001el>dio\n",
            "m3 XOR m4 word Dear : DearDaaqD\u0013ar?\u0012ewD`b\n",
            "D\u0013asD\u0018dvCcewDo`\u0002Agaq@`av@ja\u0000G\u0017b\u0004E`b\u0001\n",
            "m3 XOR m4 word earD : earDeerGe\u0017rD\u001e\u0016vAedq<e\u0017rEe\u001cw@bgvAeks4`crGadr@anr6f\u0013q2ddq7\n",
            "m3 XOR m4 word arDe : arDeavDfa\u0004De\u001a\u0005@`awG\u001da\u0004Dda\u000fAaft@`axE\u0015dpDfewDae}D\u0017b\u0000G\u0013`wG\u0016\n",
            "m3 XOR m4 word rDea : rDear@ebr2ea\t3adrAf\u0019r2e`r9`euBadrNd\u0011wFebvAeevKe\u0013q6f\u0017sAf\u0012\n",
            "m3 XOR m4 word good : goodgkogg\u0019od\u001c\u0018kagjl\u001cg\u0019oeg\u0012j``ikagen\u0014bmogcjo`c`o\u0016d\u001dl\u0012fjl\u0017\n",
            "m3 XOR m4 word oodg : oodgokddo\u0019dg\u0014\u0018`bojg\u001fo\u0019dfo\u0012achi`boee\u0017jmddkjdck`d\u0015l\u001dg\u0011njg\u0014\n",
            "m3 XOR m4 word odgo : odgoo`glo\u0012go\u0014\u0013cjoad\u0017o\u0012gno\u0019bkhbcjonf\u001fjfglkagkkkg\u001dl\u0016d\u0019nad\u001c\n",
            "m3 XOR m4 word dgoo : dgoodcold\u0011oo\u001f\u0010kjdbl\u0017d\u0011ond\u001ajkcakjdmn\u001faeol`bok`ho\u001dg\u0015l\u0019ebl\u001c\n",
            "hbw\u0013ewm`tfd\u0005hethfyh\u0019p\u001cewl`toauh\u0015pgeqidwke\n",
            "m3 XOR m5 word het : hb\toeuh\u0010s\u001d\u001ex\u0014ct\u0011esk\u001etk`qhku\u0019ethewee\bl\u0011tkaqhbpie\u0004ljtmdukft\n",
            "m3 XOR m5 word eth : es\u0015btie\u0001o\u0010\u000fd\u0019rh\u001ctof\u000fhfqmezi\u0014thetkht\u0014a\u0000hfpmesldt\u0018a{h`uifwh\n",
            "m3 XOR m5 word Hello : Hb\u0011koIe\u0019k\u001a3i\u0010jo1eko\u0014HfiioFd\u001dloHeoao4a\u0018llL`lkkIe\u001ch`H`mml\n",
            "m3 XOR m5 word elloH : ek\u0011hHdl\u0019h=\u001e`\u0010iH\u001clkl3eoijHkm\u001doHelobH\u0019h\u0018oKailhLdl\u001ckGeimnK\n",
            "m3 XOR m5 word lloHe : lk\u0012Oeml\u001aO\u0010\u0017`\u0013Ne\u0015lhK\u001elojMebm\u001eHelllEe\u0010h\u001bHfhioOaml\u001fLjlinIf\n",
            "m3 XOR m5 word loHel : lh5blmo=b\u0019\u0017c4cl\u0015oOf\u0017llM`lbn9elloKhl\u0010k<eohjHbhmo8acljIdo\n",
            "m3 XOR m5 word oHell : oO\u0018klnH\u0010k\u0019\u0014D\u0019jl\u0016Hbo\u0017oK`ilaI\u0014lloHfal\u0013L\u0011lokMekhnH\u0015hcoMdmo\n",
            "m3 XOR m5 word Dear : Db\u001cuDda\u0007C\u0010\u001a~8ca\u000bDbb\tDfdwDk`\u0003DearGha\u000e@\u0011aq@`au@da\u0002@jawEdbq\n",
            "m3 XOR m5 word earD : ef\u000fCe`r1b\u0014\tH\u0019gr=efq?ebwAeos5earDflr8a\u0015rGadrCa`r4anrAd`qG\n",
            "m3 XOR m5 word arDe : au9basD\u0010f\u0007?i\u001dtD\u001cauG\u001eaqA`a|E\u0014arDebD\u0019e\u0006DfewDbesD\u0015e}D``sGf\n",
            "m3 XOR m5 word rDea : rC\u0018frEe\u0014u1\u001em\u000eBe\u0018rCf\u001arG`drJd\u0010rDeaqIe\u001dv0ebvAefvEe\u0011vKedsEfb\n",
            "m3 XOR m5 word good : gh\u0012cgno\u0011`\u001a\u0014h\u001bio\u001dghl\u001fgljagan\u0015gooddbo\u0018c\u001bogcjoccno\u0014c`oafnlg\n",
            "m3 XOR m5 word oodg : oh\u0019`ond\u0012h\u001a\u001fk\u0013id\u001eohg\u001colaboae\u0016oodglbd\u001bk\u001bddkjd`knd\u0017k`dbnngd\n",
            "m3 XOR m5 word odgo : oc\u001ahoeg\u001ah\u0011\u001cc\u0013bg\u0016ocd\u0014ogbjojf\u001eodgolig\u0013k\u0010glkaghkeg\u001fkkgjnedl\n",
            "m3 XOR m5 word dgoo : d`\u0012hdfo\u001ac\u0012\u0014c\u0018ao\u0016d`l\u0014ddjjdin\u001edgoogjo\u0013`\u0013ol`boh`fo\u001f`hojefll\n",
            "m4 XOR m5 word the : to\u0018sh`t\u001ebw\u0013is\u0019a\bhgtke\u0001mat\u001ba\u0001ocpmfsiiu\u001eethetkezhgs\u0015f\u0007hat\u0018b\n",
            "m4 XOR m5 word het : hb\toeqh\u0013sk\u001exo\u0014p\u0014evhft\u001d`ph\u0016p\u001dbrl`wodxi\u0013thethftfevo\u0018w\u001beph\u0015s\n",
            "m4 XOR m5 word eth : es\u0015btme\u0002of\u000fdb\u0005l\u0019tjewh\u0010qle\u0007l\u0010snaqkbudd\u0002hethewhktjb\tk\u0016tle\u0004o\n",
            "m4 XOR m5 word Hello : Hb\u0011koMe\u001akl3ik\u001dk4enllH\u0010iho;a\u0019kiL`oknDd\u001aloHelooFenk\u0012K\u0016lho\n",
            "m4 XOR m5 word elloH : ek\u0011hH`l\u001ahK\u001e`k\u001eL\u0019lnoKe\u0019ikH\u0016h\u0019hNaiohIim\u001aoHelllHklnh5f\u001flkH\n",
            "m4 XOR m5 word lloHe : lk\u0012Oeil\u0019Of\u0017`h9a\u0010lmHfl\u0019jLe\u001fh\u001aOchilOd`m\u0019HelloKeblmO\u0018o\u001foLe\n",
            "m4 XOR m5 word loHel : lh5blio>bo\u0017cO\u0014h\u0010oJeol\u001aMal\u001fk=bjhjKbm`n>elloHflboJb\u0011o\u001cHal\n",
            "m4 XOR m5 word oHell : oO\u0018kljH\u0013ko\u0014Db\u001dh\u0013Hgloo=`hl\u001cL\u0010kjkMfkmcI\u0013lloHeolaHgk\u0011l;ehl\n",
            "m4 XOR m5 word Dear : Db\u001cuD`a\u0004Cf\u001a~C\u0014e\u000eDgaqD\u0010dvD\u0016e\u0007CcewGb`~E\u0013arDeaqDkapC\u0018b\u0001Daa\u0002\n",
            "m4 XOR m5 word earD : ef\u000fCedr2bb\tHb\u0010v8ecrGe\u0014w@e\u0012v1bgvAffsHd\u0017rDearGeorFb\u001cq7eer4\n",
            "m4 XOR m5 word arDe : au9bawD\u0013fq?if\u0003@\u0019apDfa\u0007Aaa\u0001@\u0010ft@`buEi`\u0004DearDfa|Dgf\u000fG\u0016avD\u0015\n",
            "m4 XOR m5 word rDea : rC\u0018frAe\u0017uG\u001emu5a\u001drFebr1`er7a\u0014uBadqCdms2earDebrJecu9f\u0012r@e\u0011\n",
            "m4 XOR m5 word good : gh\u0012cgjo\u0012`l\u0014h`\u001ek\u0018gmogg\u001aj`g\u001ck\u0011`ikadhnhf\u0019odgooggaof`\u0012l\u0017gko\u0014\n",
            "m4 XOR m5 word oodg : oh\u0019`ojd\u0011hl\u001fkh\u001e`\u001bomddo\u001aaco\u001c`\u0012hi`blhekn\u0019dgooddoadeh\u0012g\u0014okd\u0017\n",
            "m4 XOR m5 word odgo : oc\u001ahoag\u0019hg\u001cch\u0015c\u0013ofglo\u0011bko\u0017c\u001ahbcjlcfcn\u0012goodglojgmh\u0019d\u001co`g\u001f\n",
            "m4 XOR m5 word dgoo : d`\u0012hdbo\u0019cd\u0014cc\u0016k\u0013deold\u0012jkd\u0014k\u001acakjg`nce\u0011oodgoldiomc\u001al\u001cdco\u001f\n"
          ],
          "name": "stdout"
        }
      ]
    },
    {
      "cell_type": "code",
      "metadata": {
        "id": "FoD6B9P5eCMB",
        "colab_type": "code",
        "outputId": "d6c7643b-e323-47ae-9344-82189bb7302a",
        "colab": {
          "base_uri": "https://localhost:8080/",
          "height": 84
        }
      },
      "source": [
        "# mxorm 11 from(the) word: time:\n",
        "guesser([mxorArrhex[11]],[b'time'])"
      ],
      "execution_count": 53,
      "outputs": [
        {
          "output_type": "execute_result",
          "data": {
            "text/plain": [
              "[[['wcm\\x13uji`sn\\x16kshmmt\\x1ej\\x1ft\\x1ei\\x10til\\x17sometimdt\\x1ai`phl\\x16tom\\x17s\\x12mguhnf',\n",
              "   'jge\\x02hnaqnj\\x1eznle|i\\x1ab\\x0ei\\x1aa\\x01imd\\x06nketimeui\\x1eaqmld\\x07ike\\x06n\\x16evhlfw',\n",
              "   'not\\x1flfpljb\\x0fgjdtam\\x12s\\x13m\\x12p\\x1cmeu\\x1bjctimethm\\x16plidu\\x1amct\\x1bj\\x1etkldwj',\n",
              "   'f~i\\x1bdwmhbs\\x12cbuiee\\x03n\\x17e\\x03m\\x18eth\\x1fbrimetile\\x07mhauh\\x1eeri\\x1fb\\x0fiodujn']]]"
            ]
          },
          "metadata": {
            "tags": []
          },
          "execution_count": 53
        }
      ]
    }
  ]
}